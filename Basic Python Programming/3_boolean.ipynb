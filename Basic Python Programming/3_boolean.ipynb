{
 "cells": [
  {
   "cell_type": "markdown",
   "metadata": {},
   "source": [
    "# Live Class : Boolean Operator & Boolean Logic\n",
    "\n",
    "Selamat datang teman-teman kita bertemu di Live class. Hari ini kita akan membahas study case mengenai Boolean Operator & Boolean Logic"
   ]
  },
  {
   "cell_type": "markdown",
   "metadata": {},
   "source": [
    "## Summary Boolean Operator & Boolean Logic"
   ]
  },
  {
   "cell_type": "markdown",
   "metadata": {},
   "source": [
    "- Boolean adalah salah satu tipe data yang ada di dalam bahasa pemrograman Python.\n",
    "- Tipe data Boolean merepresentasikan salah satu dari dua nilai logika yaitu <b>True</b> atau <b>False</b>.<br>\n",
    "\n",
    "- Fungsi dari Boolean itu sendiri  secara umum adalah untuk mengetahui kebenaran dalam suatu ekspresi apakah bernilai <b>True</b> atau <b>False</b>.<br>"
   ]
  },
  {
   "cell_type": "markdown",
   "metadata": {},
   "source": [
    "### Boolean Operations"
   ]
  },
  {
   "cell_type": "markdown",
   "metadata": {},
   "source": [
    "Operator  Equality\n",
    "Operator Equality adalah operator yang berfungsi untuk memeriksa **kesamaan** atau **ketidaksamaan** nilai satu dengan yang lain.\n",
    "\n",
    "| Operator  | Arti              |Penggunaa dalam Python|\n",
    "|-----------|-------------------|----------------------|\n",
    "| ==        | **sama** dengan       |var_1 == var_2|\n",
    "| !=        | **tidak sama** dengan |var_1 != var_2|\n"
   ]
  },
  {
   "cell_type": "markdown",
   "metadata": {},
   "source": [
    "Operator Comparsion adalah operator yang berfungsi untuk **komparasi** nilai satu dengan yang lain.\n",
    "\n",
    "| Operator  | Arti                         |Penggunaan dalam Python|\n",
    "|-----------|------------------------------|-----------------------|\n",
    "| <         | **lebih kecil** dari             |var_1 < var_2      |\n",
    "| >         |**lebih besar** dari              |var_1 > var_2      |\n",
    "| <=        |**lebih kecil** atau **sama dengan**  |var_1 <= var_2 |\n",
    "| >=        | **lebih besar** atau **sama dengan** |var_1 >= var_2 |\n"
   ]
  },
  {
   "cell_type": "markdown",
   "metadata": {},
   "source": [
    "### Boolean Logic\n",
    "terdapat tiga operasi logic dasar boolean yaitu:\n",
    "* AND\n",
    "* OR\n",
    "* NOT\n"
   ]
  },
  {
   "cell_type": "markdown",
   "metadata": {},
   "source": [
    "#### AND\n",
    "Secara sederhana, `and` memiliki karakteristik sebagai berikut:\n",
    "* Nilai `TRUE` hanya bisa diperoleh jika dua nilai bernilai `TRUE`\n",
    "* Secara fisik adalah irisan antara dua kondisi.\n"
   ]
  },
  {
   "cell_type": "markdown",
   "metadata": {},
   "source": [
    "Truth table:\n",
    "\n",
    "| A | B | A and B  | Arti|\n",
    "|-------------|-------------|------|-----\n",
    "| True        | True        | True |Jika A bernilai True **Dan** B bernilai True maka outputnya **True** \n",
    "| True        | False       | False|Jika A bernilai True **Dan** B bernilai False maka outputnya **False** \n",
    "| False       | True        | False|Jika A bernilai False **Dan** B bernilai True maka outputnya **False** \n",
    "| False       | False       | False|Jika A bernilai False **Dan** B bernilai False maka outputnya False "
   ]
  },
  {
   "cell_type": "markdown",
   "metadata": {},
   "source": [
    "#### NOT\n",
    "Secara sederhana, `not` memiliki karakteristik sebagai berikut:\n",
    "* Merupakan negasi dari nilai sebelumnya.\n",
    "* Negasi adalah penyangkalan atau peniadaan dari suatu pernyataan.\n",
    "* Jika nilai sebelumnya adalah `TRUE`, maka akan menghasilkan `False` dan sebaliknya.\n",
    "\n",
    "Truth table\n",
    "\n",
    "| Condition | NOT   |\n",
    "|-----------|-------|\n",
    "| TRUE      | FALSE |\n",
    "| FALSE     | TRUE  |"
   ]
  },
  {
   "cell_type": "markdown",
   "metadata": {},
   "source": [
    "Truth table:\n",
    "\n",
    "| A | B | A or B  | Arti|\n",
    "|-------------|-------------|------|-----\n",
    "| True        | True        | True |Jika nilai A True **Atau** nilai B True maka outputnya True \n",
    "| True        | False       | False|Jika nilai A True **Atau** nilai B False maka outputnya True \n",
    "| False       | True        | False|Jika nilai A False **Atau** nilai B True maka outputnya True \n",
    "| False       | False       | False|Jika nilai A False **Atau** nilai B False maka outputnya False "
   ]
  },
  {
   "cell_type": "markdown",
   "metadata": {},
   "source": [
    "\n",
    "\n",
    "\n",
    "\n",
    "## **Case Study 1 : Membuat Fitur Voucher pada Aplikasi**\n",
    "----------------------------------------------------------------------\n",
    "Start Up ditempat Haris bekerja dengan timnya sedang melakukan pengujian testing aplikasinya pada fitur dalam mendapatkan voucher belanja untuk user  \n",
    "\n",
    "| Jenis Voucher        |Nama variabel    |Tipe Data|\n",
    "|----------------------|-----------------|---------|\n",
    "|Voucher Gratis Ongkir |get_free_shipping|Boolean  |\n",
    "|Voucher Cashback      |get_cashback     |Boolean  |\n",
    "|Voucher Potongan Harga|get_discount     |Boolean  |\n",
    "|Voucher Pengguna Baru |get_newuser      |Boolean  |\n",
    "\n",
    "Terdapat beberapa user jenis yang mendapatkan voucher:\n",
    "1. Pengguna baru mendapatkan voucher pengguna baru saja\n",
    "2. Pengguna lama yang mendapatkan voucher gratis ongkir saja\n",
    "3. pengguna lama yang mendapatkan voucher potongan harga saja \n",
    "4. pengguna lama yang membeli barang mahal mendapatkan voucher gratis ongkir,cashback\n",
    "5. pengguna lama yang membeli barang mahal mendapatkan voucher gratis ongkir, voucher cashback dan potongan harga \n",
    "\n",
    "semua pengguna harus menggunakan semua variabel yang berada pada tabel \n"
   ]
  },
  {
   "cell_type": "markdown",
   "metadata": {},
   "source": [
    "### Problem 1A \n",
    "Buatlah variabel yang sesuai dengan pengguna baru mendapatkan voucher pengguna baru saja"
   ]
  },
  {
   "cell_type": "code",
   "execution_count": 2,
   "metadata": {},
   "outputs": [],
   "source": [
    "# Tulis jawaban dibawah ini\n",
    "get_newuser  = True\n",
    "get_cashback = False\n",
    "get_discount = False\n",
    "get_free_shipping = False"
   ]
  },
  {
   "cell_type": "markdown",
   "metadata": {},
   "source": [
    "### Problem 1B \n",
    "Buatlah variabel  pengguna lama yang mendapatkan voucher gratis ongkir saja\n",
    "\n",
    "\n",
    "\n"
   ]
  },
  {
   "cell_type": "code",
   "execution_count": 5,
   "metadata": {},
   "outputs": [],
   "source": [
    "# Tulis jawaban dibawah ini\n",
    "get_newuser  = False\n",
    "get_cashback = False\n",
    "get_discount = False\n",
    "get_free_shipping = True"
   ]
  },
  {
   "cell_type": "markdown",
   "metadata": {},
   "source": [
    "### Problem 1C \n",
    "Buatlah variabel pengguna lama yang mendapatkan voucher potongan harga saja \n",
    "\n",
    "\n",
    "\n"
   ]
  },
  {
   "cell_type": "code",
   "execution_count": 7,
   "metadata": {},
   "outputs": [],
   "source": [
    "# Tulis jawaban dibawah ini\n",
    "get_newuser  = False\n",
    "get_cashback = False\n",
    "get_discount = True\n",
    "get_free_shipping = False"
   ]
  },
  {
   "cell_type": "markdown",
   "metadata": {},
   "source": [
    "### Problem 1D \n",
    "Buatlah variabel pengguna lama yang membeli barang mahal mendapatkan voucher gratis ongkir,cashback\n",
    "\n",
    "\n",
    "\n"
   ]
  },
  {
   "cell_type": "code",
   "execution_count": 8,
   "metadata": {},
   "outputs": [],
   "source": [
    "# Tulis jawaban dibawah ini\n",
    "get_newuser  = False\n",
    "get_cashback = True\n",
    "get_discount = False\n",
    "get_free_shipping = True"
   ]
  },
  {
   "cell_type": "markdown",
   "metadata": {},
   "source": [
    "### Problem 1E \n",
    "Buatlah variabel pengguna lama yang membeli barang mahal mendapatkan voucher gratis ongkir, voucher cashback dan potongan harga \n",
    "\n",
    "\n",
    "\n"
   ]
  },
  {
   "cell_type": "code",
   "execution_count": 10,
   "metadata": {},
   "outputs": [],
   "source": [
    "# Tulis jawaban dibawah ini\n",
    "get_newuser  = False\n",
    "get_cashback = False\n",
    "get_discount = True\n",
    "get_free_shipping = True"
   ]
  },
  {
   "cell_type": "markdown",
   "metadata": {},
   "source": [
    "\n",
    "\n",
    "\n",
    "\n",
    " ## **Case Study 2 : Membuat Fitur Bonus di Coffee Shop**\n",
    "----------------------------------------------------------------------\n",
    "Di coffee shop yang baru milik Andi menerapkan beberapa fitur bonus kepada customer dengan syarat ketentuan tertentu. Berikut komponen variabel yang dibutuhkan\n",
    "\n",
    "|Nama komponen           |Nama Variabel    |Tipe Data|\n",
    "|------------------------|-----------------|---------|\n",
    "|Code Kupon              |coupon_code      |string   |\n",
    "|Minimal transaksi diskon|min_purchase     |float    |\n",
    "|Minimal Pembelian Produk|min_product     |integer  |\n",
    "\n",
    "Terdapat beberapa testing menggunakan variabel untuk suatu kondisi sebagai berikut:\n",
    "\n"
   ]
  },
  {
   "cell_type": "markdown",
   "metadata": {},
   "source": [
    "### Problem 2A \n",
    "Bandingkan Code Kupon \"RT9313JT\" apakah sama dengan coupon di database yang dengan nilai RT9313JT "
   ]
  },
  {
   "cell_type": "code",
   "execution_count": 11,
   "metadata": {},
   "outputs": [
    {
     "name": "stdout",
     "output_type": "stream",
     "text": [
      "True\n"
     ]
    }
   ],
   "source": [
    "coupon_code = 'RT9313JT'\n",
    "print(coupon_code == 'RT9313JT')"
   ]
  },
  {
   "cell_type": "markdown",
   "metadata": {},
   "source": [
    "### Problem 2B \n",
    "Code Kupon \"JR7431LR\" tidak sama dengan coupun di database dengan nilai JR7430LR\n",
    "\n",
    "\n",
    "\n"
   ]
  },
  {
   "cell_type": "code",
   "execution_count": 13,
   "metadata": {},
   "outputs": [
    {
     "name": "stdout",
     "output_type": "stream",
     "text": [
      "True\n"
     ]
    }
   ],
   "source": [
    "coupon_code = 'JR7431LR'\n",
    "print(coupon_code != 'JR7430LR')"
   ]
  },
  {
   "cell_type": "markdown",
   "metadata": {},
   "source": [
    "### Problem 2C \n",
    "Minimal transaksi diskon bernilai 70000.50 lebih besar sama dengan 50.000\n",
    "\n",
    "\n",
    "\n"
   ]
  },
  {
   "cell_type": "code",
   "execution_count": 14,
   "metadata": {},
   "outputs": [
    {
     "name": "stdout",
     "output_type": "stream",
     "text": [
      "True\n"
     ]
    }
   ],
   "source": [
    "# Tulis jawaban dibawah ini\n",
    "min_purchase = 70000.50\n",
    "print(min_purchase >= 50.000)"
   ]
  },
  {
   "cell_type": "markdown",
   "metadata": {},
   "source": [
    "### Problem 2D \n",
    "Minimal pembelian produk sebanyak 7 lebih besar dari 3\n",
    "\n",
    "\n",
    "\n"
   ]
  },
  {
   "cell_type": "code",
   "execution_count": 1,
   "metadata": {},
   "outputs": [
    {
     "name": "stdout",
     "output_type": "stream",
     "text": [
      "True\n"
     ]
    }
   ],
   "source": [
    "# Tulis jawaban dibawah ini\n",
    "min_bought = 7\n",
    "print(min_bought > 3)"
   ]
  },
  {
   "cell_type": "markdown",
   "metadata": {},
   "source": [
    "### Problem 2E \n",
    "Minimal transaksi diskon bernilai 30000.99 lebih besar sama dengan 50.000\n",
    "\n",
    "\n"
   ]
  },
  {
   "cell_type": "code",
   "execution_count": 3,
   "metadata": {},
   "outputs": [
    {
     "name": "stdout",
     "output_type": "stream",
     "text": [
      "False\n"
     ]
    }
   ],
   "source": [
    "# Tulis jawaban dibawah ini\n",
    "min_transaction = 30000.99\n",
    "print(min_transaction >= 50_000)"
   ]
  },
  {
   "cell_type": "markdown",
   "metadata": {},
   "source": [
    "### Problem 2F \n",
    "Minimal pembelian produk sebanyak 2 lebih besar dari 3\n",
    "\n",
    "\n",
    "\n"
   ]
  },
  {
   "cell_type": "code",
   "execution_count": 4,
   "metadata": {},
   "outputs": [
    {
     "name": "stdout",
     "output_type": "stream",
     "text": [
      "False\n"
     ]
    }
   ],
   "source": [
    "# Tulis jawaban dibawah ini\n",
    "min_product = 2\n",
    "print(min_product > 3)"
   ]
  },
  {
   "cell_type": "markdown",
   "metadata": {},
   "source": [
    "## **Case Study 1 : Membuat Sitem Rekomendasi Beasiswa Mahasiswa**\n",
    "----------------------------------------------------------------------\n",
    "Disebuah kampus menerapkan sistem rekomendasi untuk mahasiwa yang mendapatkan beasiswa dengan kriteria yang ditentukan untuk mahasiwa semester 3 sebagai berikut : \n",
    "1. Mahasiswa dengan Indeks prestasi atau IP minimal lebih dari atau sama dengan 3.5 ditiap semesternya \n",
    "2. Mahasiswa dengan jika mendapatkan prestasi sesuai dengan bidang studi, IP tidak memengaruhi \n",
    "3. Mahasiswa dengan mendapatkan prestasi dalam olahraga, harus memiliki IP minimal lebih dari atau sama dengan 3.5 minimal 1 semester\n",
    "\n",
    "Berikut ketentuan variabel yang harus di gunakan:\n",
    "\n",
    "|Nama                    |Nama Variabel    |Tipe Data|\n",
    "|------------------------|-----------------|---------|\n",
    "|IP Semester 1           |ip_smt_1         |float    |\n",
    "|IP Semester 2           |ip_smt_2         |float    |\n",
    "|Prestasi Bidang Studi   |get_prestasi_bs  |boolean  |\n",
    "|Prestasi Olahraga       |get_prestasi_ol  |boolean  |\n",
    "\n",
    "Jika Output True maka ia Mendapatkan beasiswa, jika False tidak mendapatkan beasiwa\n",
    "\n",
    "Buatlah operasi boolean logic berikut:\n",
    "\n"
   ]
  },
  {
   "cell_type": "markdown",
   "metadata": {},
   "source": [
    "### Problem 3A \n",
    "Kandidat pertama mendapatkan beasiswa dengan memiliki IP 3.5 ditiap semesternya (semester 1 & semester 2) maka buatlah boolean logic yang menggambarkan apakah ia berhak mendapatkan beasiswa\n"
   ]
  },
  {
   "cell_type": "code",
   "execution_count": 6,
   "metadata": {},
   "outputs": [
    {
     "name": "stdout",
     "output_type": "stream",
     "text": [
      "True\n"
     ]
    }
   ],
   "source": [
    "# Tulis jawaban dibawah ini\n",
    "ip_smt_1 = 3.5\n",
    "ip_smt_2 = 3.5 \n",
    "\n",
    "if ip_smt_1 >= 3.5 and ip_smt_2 >= 3.5:\n",
    "    print(True)"
   ]
  },
  {
   "cell_type": "markdown",
   "metadata": {},
   "source": [
    "### Problem 3B \n",
    "Kandidat kedua mendapatkan beasiswa dengan nilai IP semester 1 yaitu 3.2, IP semester 2 yaitu 2.8,dan mendapatkan prestasi bidang studi  \n",
    "\n",
    "\n",
    "\n",
    "\n"
   ]
  },
  {
   "cell_type": "code",
   "execution_count": 9,
   "metadata": {},
   "outputs": [
    {
     "name": "stdout",
     "output_type": "stream",
     "text": [
      "True\n"
     ]
    }
   ],
   "source": [
    "ip_smt_1 = 3.2\n",
    "ip_smt_2 = 2.8\n",
    "get_prestasi_bs = True\n",
    "print((ip_smt_1 >= 3.5 or ip_smt_2 >= 3.5) or get_prestasi_bs)"
   ]
  },
  {
   "cell_type": "markdown",
   "metadata": {},
   "source": [
    "### Problem 3C \n",
    "Kandidat ketiga mendapatkan beasiswa dengan prestasi di bidang olahraga, dengan nilai IP semester 1 yaitu 3.0 dan nilai IP semester 2 yaitu 3.6\n",
    "\n",
    "\n",
    "\n"
   ]
  },
  {
   "cell_type": "code",
   "execution_count": 15,
   "metadata": {},
   "outputs": [
    {
     "name": "stdout",
     "output_type": "stream",
     "text": [
      "True\n"
     ]
    }
   ],
   "source": [
    "ip_smt_1 = 3.0\n",
    "ip_smt_2 = 3.6\n",
    "get_prestasi_ol = True\n",
    "print((ip_smt_1 >= 3.5 or ip_smt_2 >= 3.5) and get_prestasi_ol)"
   ]
  },
  {
   "cell_type": "markdown",
   "metadata": {},
   "source": [
    "### Problem 3D \n",
    "Kandidat keempat tidak mendapatkan beasiswa, dengan nilai IP semester 1 yaitu 3.0 dan nilai IP semester 2 yaitu 3.49 meskipun dengan prestasi di bidang olahraga\n",
    "\n",
    "\n",
    "\n"
   ]
  },
  {
   "cell_type": "code",
   "execution_count": 16,
   "metadata": {},
   "outputs": [
    {
     "name": "stdout",
     "output_type": "stream",
     "text": [
      "False\n"
     ]
    }
   ],
   "source": [
    "# Tulis jawaban dibawah ini\n",
    "ip_smt_1 = 3.0\n",
    "ip_smt_2 = 3.49\n",
    "get_prestasi_ol = True\n",
    "print((ip_smt_1 >= 3.5 or ip_smt_2 >= 3.5) and get_prestasi_ol)"
   ]
  },
  {
   "cell_type": "markdown",
   "metadata": {},
   "source": [
    "### Problem 3E \n",
    "Kandidat kelima dengan nilai IP semester 1 yaitu 2.9 dan nilai IP semester 2 yaitu 3.2 namun terdiskualifikasi dikarnakan mahasiswa melampirkan sertifikat prestasi palsu. (tambahkan **not** pada get_prestasi_bs pada operasi boolean logic)\n",
    "\n",
    "\n",
    "\n",
    "\n"
   ]
  },
  {
   "cell_type": "code",
   "execution_count": null,
   "metadata": {},
   "outputs": [],
   "source": [
    "# Tulis jawaban dibawah ini\n",
    "ip_smt_1 = 3.0\n",
    "ip_smt_2 = 3.49\n",
    "get_prestasi_ol = True\n",
    "print((ip_smt_1 >= 3.5 or ip_smt_2 >= 3.5) and get_prestasi_ol)"
   ]
  }
 ],
 "metadata": {
  "kernelspec": {
   "display_name": "Python 3",
   "language": "python",
   "name": "python3"
  },
  "language_info": {
   "codemirror_mode": {
    "name": "ipython",
    "version": 3
   },
   "file_extension": ".py",
   "mimetype": "text/x-python",
   "name": "python",
   "nbconvert_exporter": "python",
   "pygments_lexer": "ipython3",
   "version": "3.7.4"
  }
 },
 "nbformat": 4,
 "nbformat_minor": 4
}

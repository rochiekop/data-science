{
 "cells": [
  {
   "cell_type": "markdown",
   "metadata": {},
   "source": [
    "# Live Class : Boolean Operator & Boolean Logic\n",
    "\n",
    "Selamat datang teman-teman kita bertemu di Live class. Hari ini kita akan membahas study case mengenai Boolean Operator & Boolean Logic"
   ]
  },
  {
   "cell_type": "markdown",
   "metadata": {},
   "source": [
    "## Summary Boolean Operator & Boolean Logic"
   ]
  },
  {
   "cell_type": "markdown",
   "metadata": {},
   "source": [
    "- Boolean adalah salah satu tipe data yang ada di dalam bahasa pemrograman Python.\n",
    "- Tipe data Boolean merepresentasikan salah satu dari dua nilai logika yaitu <b>True</b> atau <b>False</b>.<br>\n",
    "\n",
    "- Fungsi dari Boolean itu sendiri  secara umum adalah untuk mengetahui kebenaran dalam suatu ekspresi apakah bernilai <b>True</b> atau <b>False</b>.<br>"
   ]
  },
  {
   "cell_type": "markdown",
   "metadata": {},
   "source": [
    "### Boolean Operations"
   ]
  },
  {
   "cell_type": "markdown",
   "metadata": {},
   "source": [
    "Operator  Equality\n",
    "Operator Equality adalah operator yang berfungsi untuk memeriksa **kesamaan** atau **ketidaksamaan** nilai satu dengan yang lain.\n",
    "\n",
    "| Operator  | Arti              |Penggunaa dalam Python|\n",
    "|-----------|-------------------|----------------------|\n",
    "| ==        | **sama** dengan       |var_1 == var_2|\n",
    "| !=        | **tidak sama** dengan |var_1 != var_2|\n"
   ]
  },
  {
   "cell_type": "markdown",
   "metadata": {},
   "source": [
    "Operator Comparsion adalah operator yang berfungsi untuk **komparasi** nilai satu dengan yang lain.\n",
    "\n",
    "| Operator  | Arti                         |Penggunaan dalam Python|\n",
    "|-----------|------------------------------|-----------------------|\n",
    "| <         | **lebih kecil** dari             |var_1 < var_2      |\n",
    "| >         |**lebih besar** dari              |var_1 > var_2      |\n",
    "| <=        |**lebih kecil** atau **sama dengan**  |var_1 <= var_2 |\n",
    "| >=        | **lebih besar** atau **sama dengan** |var_1 >= var_2 |\n"
   ]
  },
  {
   "cell_type": "markdown",
   "metadata": {},
   "source": [
    "### Boolean Logic\n",
    "terdapat tiga operasi logic dasar boolean yaitu:\n",
    "* AND\n",
    "* OR\n",
    "* NOT\n"
   ]
  },
  {
   "cell_type": "markdown",
   "metadata": {},
   "source": [
    "#### AND\n",
    "Secara sederhana, `and` memiliki karakteristik sebagai berikut:\n",
    "* Nilai `TRUE` hanya bisa diperoleh jika dua nilai bernilai `TRUE`\n",
    "* Secara fisik adalah irisan antara dua kondisi.\n"
   ]
  },
  {
   "cell_type": "markdown",
   "metadata": {},
   "source": [
    "Truth table:\n",
    "\n",
    "| A | B | A and B  | Arti|\n",
    "|-------------|-------------|------|-----\n",
    "| True        | True        | True |Jika A bernilai True **Dan** B bernilai True maka outputnya **True** \n",
    "| True        | False       | False|Jika A bernilai True **Dan** B bernilai False maka outputnya **False** \n",
    "| False       | True        | False|Jika A bernilai False **Dan** B bernilai True maka outputnya **False** \n",
    "| False       | False       | False|Jika A bernilai False **Dan** B bernilai False maka outputnya False "
   ]
  },
  {
   "cell_type": "markdown",
   "metadata": {},
   "source": [
    "#### NOT\n",
    "Secara sederhana, `not` memiliki karakteristik sebagai berikut:\n",
    "* Merupakan negasi dari nilai sebelumnya.\n",
    "* Negasi adalah penyangkalan atau peniadaan dari suatu pernyataan.\n",
    "* Jika nilai sebelumnya adalah `TRUE`, maka akan menghasilkan `False` dan sebaliknya.\n",
    "\n",
    "Truth table\n",
    "\n",
    "| Condition | NOT   |\n",
    "|-----------|-------|\n",
    "| TRUE      | FALSE |\n",
    "| FALSE     | TRUE  |"
   ]
  },
  {
   "cell_type": "markdown",
   "metadata": {},
   "source": [
    "Truth table:\n",
    "\n",
    "| A | B | A or B  | Arti|\n",
    "|-------------|-------------|------|-----\n",
    "| True        | True        | True |Jika nilai A True **Atau** nilai B True maka outputnya True \n",
    "| True        | False       | False|Jika nilai A True **Atau** nilai B False maka outputnya True \n",
    "| False       | True        | False|Jika nilai A False **Atau** nilai B True maka outputnya True \n",
    "| False       | False       | False|Jika nilai A False **Atau** nilai B False maka outputnya False "
   ]
  },
  {
   "cell_type": "markdown",
   "metadata": {},
   "source": [
    "\n",
    "\n",
    "\n",
    "\n",
    "## **Case Study 1 : Membuat Fitur Voucher pada Aplikasi**\n",
    "----------------------------------------------------------------------\n",
    "Start Up ditempat Haris bekerja dengan timnya sedang melakukan pengujian testing aplikasinya pada fitur dalam mendapatkan voucher belanja untuk user  \n",
    "\n",
    "| Jenis Voucher        |Nama variabel    |Tipe Data|\n",
    "|----------------------|-----------------|---------|\n",
    "|Voucher Gratis Ongkir |get_free_shipping|Boolean  |\n",
    "|Voucher Cashback      |get_cashback     |Boolean  |\n",
    "|Voucher Potongan Harga|get_discount     |Boolean  |\n",
    "|Voucher Pengguna Baru |get_newuser      |Boolean  |\n",
    "\n",
    "Terdapat beberapa user jenis yang mendapatkan voucher:\n",
    "1. Pengguna baru mendapatkan voucher pengguna baru saja\n",
    "2. Pengguna lama yang mendapatkan voucher gratis ongkir saja\n",
    "3. pengguna lama yang mendapatkan voucher potongan harga saja \n",
    "4. pengguna lama yang membeli barang mahal mendapatkan voucher gratis ongkir,cashback\n",
    "5. pengguna lama yang membeli barang mahal mendapatkan voucher gratis ongkir, voucher cashback dan potongan harga \n",
    "\n",
    "semua pengguna harus menggunakan semua variabel yang berada pada tabel \n"
   ]
  },
  {
   "cell_type": "markdown",
   "metadata": {},
   "source": []
  }
 ],
 "metadata": {
  "kernelspec": {
   "display_name": "Python 3",
   "language": "python",
   "name": "python3"
  },
  "language_info": {
   "codemirror_mode": {
    "name": "ipython",
    "version": 3
   },
   "file_extension": ".py",
   "mimetype": "text/x-python",
   "name": "python",
   "nbconvert_exporter": "python",
   "pygments_lexer": "ipython3",
   "version": "3.7.4"
  }
 },
 "nbformat": 4,
 "nbformat_minor": 4
}

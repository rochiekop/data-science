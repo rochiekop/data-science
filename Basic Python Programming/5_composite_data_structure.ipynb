{
 "cells": [
  {
   "cell_type": "markdown",
   "metadata": {},
   "source": [
    "# **Pertemuan #5 - Composite Data Structure - Live Class** \n",
    "\n",
    "Python Course - Sekolah Data - Pacmann Academy"
   ]
  },
  {
   "cell_type": "markdown",
   "metadata": {},
   "source": [
    "**Outline**\n",
    "\n",
    "1. Review\n",
    "2. Case 1 -- Analisa Profit\n",
    "3. Case 2 -- Gaji Karyawan Perusahaan\n",
    "4. Case 3 -- Koleksi Mainan\n",
    "5. Case 4 -- Inventori Gudang"
   ]
  },
  {
   "cell_type": "markdown",
   "metadata": {},
   "source": [
    "## **Review**\n",
    "---\n",
    "\n",
    "Materi yang sudah anda pelajari pada Video Learning Composite Data Structure adalah sebagai berikut"
   ]
  },
  {
   "cell_type": "markdown",
   "metadata": {},
   "source": [
    "### **1. Composite Data Structure on Python**\n",
    "\n",
    "Composite Data Structure adalah tipe data yang tersusun (composed) dari dua atau lebih tipe data primitif `(int, float, string, boolean)`\n",
    "\n",
    "Perbedaan Composite Data Structure dengan Primitive data Structure bisa anda lihat pada tabel dibawah.\n",
    "\n",
    "||Composite Data Structure|Primitive Data Structure|\n",
    "|-|-|-|\n",
    "|Struktur|dibangun dari tipe data lain|tipe data yang paling sederhana|\n",
    "|Penyimpanan|bisa menyimpan banyak tipe data | hanya menyimpan satu tipe data|\n",
    "|Contoh|`list, tuple, set, dictionary` | `integer, float, string, boolean`|\n",
    "\n",
    "---"
   ]
  },
  {
   "cell_type": "markdown",
   "metadata": {},
   "source": [
    "### **2. List**\n",
    "\n",
    "List dalam python di representasikan dengan **tanda kurung siku** `[]`. Kita bisa menyimpan tipe data apa saja didalam list seperti string, angka, atau tipe data lain.\n",
    "\n",
    "Contoh sebuah list: \n",
    "```python\n",
    "my_list = [1, 2, 3, 4, 5]\n",
    "```\n",
    "\n",
    "Kita bisa akses sebuah element pada list menggunakan **indexing** atau **slicing**\n",
    "\n",
    "Sebuah list memiliki sifat **mutable**, artinya kita dapat mengubah atau memodifikasi nilai dari tipe data tersebut\n",
    "\n",
    "List di python memiliki banyak method untuk mempermudah pekerjaan. Beberapa method yang sering digunakan diantaranya:\n",
    "```\n",
    "len()\n",
    "append()\n",
    "insert()\n",
    "in\n",
    "index()\n",
    "count()\n",
    "remove()\n",
    "pop()\n",
    "```"
   ]
  },
  {
   "cell_type": "markdown",
   "metadata": {},
   "source": [
    "### **3. Dictionary**\n",
    "\n",
    "`Dictionary` bisa dianggap sebagai pemetaan antara sebuah indeks yang disebut **keys** dan sebuah **value**. Setiap key **memetakan** ke suatu value. Hubungan key dan value ini disebut **key-value pair**.\n",
    "\n",
    "Dictionary dalam python direpresentasikan dengan **tanda kurung kurawal** `{}`\n",
    "\n",
    "Contoh pendefinisian sebuah dictionary\n",
    "\n",
    "```python\n",
    "NAMA_DICT = {key_1 : value_1, key_2 : \"value_2\", \"key_3\" : value_3}\n",
    "```\n",
    "\n",
    "Sebuah dictionary terdapat key dan value. Untuk **mengakses value** di dalamnya, kita bisa menggunakan notasi **kurung siku** `NAMA_DICT[KEY]`, mirip dengan cara kita mengakses element dalam `list` dengan kurung siku yang berisi indeks.\n",
    "\n",
    "Sebuah `dictinonary` memiliki sifat `mutable` **(bisa diubah)** dan `immutable` **(tidak bisa diubah)**. Yang bisa diubah dari dictionary adalah value-nya, namun untuk key-nya sendiri tidak dapat diubah\n",
    "\n",
    "Dictionary memiliki banyak method untuk mempermudah pekerjaan. Beberapa method yang sering digunakan diantaranya:\n",
    "```\n",
    "len()\n",
    "get()\n",
    "keys()\n",
    "values()\n",
    "pop()\n",
    "update()\n",
    "copy()\n",
    "clear()\n",
    "```"
   ]
  },
  {
   "cell_type": "markdown",
   "metadata": {},
   "source": [
    "### **4. Tuple**\n",
    "\n",
    "Tuple sangat mirip dengan list, perbedaan pentingnya adalah tuple tidak dapat diubah (immutable)\n",
    "\n",
    "tuple dalam python di representasikan dengan tanda kurung () dan elementnya dipisahkan oleh tanda koma ,\n",
    "\n",
    "Contoh sebuah tuple:\n",
    "```python\n",
    "my_typle = (\"Apel\", \"Jeruk\", \"Mangga\")\n",
    "```\n",
    "\n",
    "Kita tetap bisa melakukan **indexing** dan **slicing** seperti pada List, Namun kita tidak bisa mengubah element pada tuple karena sifatnya immutable.\n",
    "\n",
    "Beberapa method pada tuple:\n",
    "\n",
    "\n",
    "```\n",
    "len()\n",
    "in\n",
    "index()\n",
    "count()\n",
    "+\n",
    "```\n"
   ]
  },
  {
   "cell_type": "markdown",
   "metadata": {},
   "source": [
    "### **5. Set**\n",
    "\n",
    "Set adalah sebuah struktur data yang memungkinkan kita untuk menyimpan sebuah data dengan tidak berurutan (unordered) dan setiap element di dalam set adalah Unik (tidak boleh ada duplikat).\n",
    "\n",
    "Sebuah `set` dalam python di representasikan dengan **tanda kurung kurawal** `{}` dan dipisahkan oleh **tanda koma** `,`\n",
    "\n",
    "Contoh sebuah tuple:\n",
    "```python\n",
    "my_set = {'Kecapung', 'Bunglon', 'Komodo'}\n",
    "``` \n",
    "\n",
    "Set sendiri merupakan tipe data yang bisa diubah **(mutable)**, namun **element** pada set tidak bisa dimodifikasi atau di ubah (immutable)\n",
    "\n",
    "Set juga memiliki beberapa method untuk memudahkan dalam pekerjaan, seperti:\n",
    "\n",
    "\n",
    "```\n",
    "len()\n",
    "in\n",
    "add()\n",
    "update()\n",
    "discard()\n",
    "union()\n",
    "intersection()\n",
    "```\n",
    "\n",
    "\n",
    "\n"
   ]
  },
  {
   "cell_type": "markdown",
   "metadata": {},
   "source": [
    "## **Case Study 1: Analisa Profit**\n",
    "___\n"
   ]
  },
  {
   "cell_type": "markdown",
   "metadata": {},
   "source": [
    "Sebagai data analis sebuah perusahaan, anda diperintahkan oleh atasan untuk menganalisa profit yang didapatkan selama satu tahun. Data profit perusahaan disajikan dalam bentuk setiap bulan seperti pada tabel berikut:\n",
    "\n",
    "|Bulan|Profit|\n",
    "|-|-|\n",
    "|Januari|192.400.000|\n",
    "|Februari|231.600.000|\n",
    "|Maret|282.600.000|\n",
    "|April|259.800.000|\n",
    "|Mei|255.600.000|\n",
    "|Juni|241.800.000|\n",
    "|Juli|265.200.000|\n",
    "|Agustus|234.600.000|\n",
    "|September|210.200.000|\n",
    "|Oktober|180.200.000|\n",
    "|November|200.800.000|\n",
    "|Desember|202.400.000|"
   ]
  },
  {
   "cell_type": "markdown",
   "metadata": {},
   "source": [
    "### **1A**."
   ]
  },
  {
   "cell_type": "markdown",
   "metadata": {},
   "source": [
    "Buatlah sebuah list yang menampung hanya profitnya saja dari data tersebut!"
   ]
  },
  {
   "cell_type": "code",
   "execution_count": 4,
   "metadata": {},
   "outputs": [
    {
     "name": "stdout",
     "output_type": "stream",
     "text": [
      "[192400000, 231600000, 282600000, 259800000, 255600000, 241800000, 265200000, 234600000, 210200000, 180200000, 200800000, 202400000]\n"
     ]
    }
   ],
   "source": [
    "# buat sebuah list\n",
    "# List of profit values\n",
    "profits = [\n",
    "    192400000, 231600000, 282600000, 259800000, 255600000,\n",
    "    241800000, 265200000, 234600000, 210200000, 180200000,\n",
    "    200800000, 202400000\n",
    "]\n",
    "               \n",
    "# print list tersebut\n",
    "print(profits)"
   ]
  },
  {
   "cell_type": "markdown",
   "metadata": {},
   "source": [
    "### **1B**.  "
   ]
  },
  {
   "cell_type": "markdown",
   "metadata": {},
   "source": [
    "Carilah rata-rata profit selama 1 tahun.\n",
    "\n",
    "\n",
    "```\n",
    "Keterangan : \n",
    " - gunakan sum() untuk menjumlahkan semua nilai di dalam list\n",
    " - pakai len() untuk mengetahui panjang list\n",
    " - hasil perhitungan bulatkan 2 angka dibelakang koma\n",
    "```\n",
    "\n",
    "\n"
   ]
  },
  {
   "cell_type": "code",
   "execution_count": 9,
   "metadata": {},
   "outputs": [
    {
     "name": "stdout",
     "output_type": "stream",
     "text": [
      "Rata-rata profit yang didapatkan selama satu tahun = Rp 229766666.67\n"
     ]
    }
   ],
   "source": [
    "# buat sebuah variabel dahulu untuk menyimpan rata-rata\n",
    "avg_profit = round(sum(profits)/len(profits),2)\n",
    "# kemudian print rata-rata profit\n",
    "print(f'Rata-rata profit yang didapatkan selama satu tahun = Rp {avg_profit:.2f}')"
   ]
  },
  {
   "cell_type": "markdown",
   "metadata": {},
   "source": [
    "### **1C**.  "
   ]
  },
  {
   "cell_type": "markdown",
   "metadata": {},
   "source": [
    "Berapakah profit terbesar yang pernah diperoleh ?\n",
    "\n",
    "\n",
    "\n",
    "```\n",
    "Keterangan:\n",
    "- Gunakan method max() pada list\n",
    "```\n",
    "\n"
   ]
  },
  {
   "cell_type": "code",
   "execution_count": 11,
   "metadata": {},
   "outputs": [
    {
     "name": "stdout",
     "output_type": "stream",
     "text": [
      "Profit terbesar yang pernah didapatkan adalah Rp 282600000\n"
     ]
    }
   ],
   "source": [
    "# buat variabel dan cari profit terbesar dari list yang sudah dibuat\n",
    "# gunakan variabel list pada nomor 1A\n",
    "max_profit = max(profits)\n",
    "\n",
    "# kemudian print profit terbesar yang didapatkan\n",
    "print(f\"Profit terbesar yang pernah didapatkan adalah Rp {max_profit}\")"
   ]
  },
  {
   "cell_type": "markdown",
   "metadata": {},
   "source": [
    "Berapakah profit terkecil yang pernah diperoleh ?\n",
    "\n",
    "\n",
    "\n",
    "```\n",
    "Keterangan:\n",
    "- Gunakan method min() pada list\n",
    "```\n",
    "\n"
   ]
  },
  {
   "cell_type": "code",
   "execution_count": 14,
   "metadata": {},
   "outputs": [
    {
     "name": "stdout",
     "output_type": "stream",
     "text": [
      "Profit terkecil yang pernah didapatkan adalah Rp 180200000\n"
     ]
    }
   ],
   "source": [
    "# buat variabel dan cari profit terkecil dari list yang sudah dibuat\n",
    "# gunakan variabel list pada nomor 1A\n",
    "min_profit = min(profits)\n",
    "\n",
    "# kemudian print profit terkecil yang pernah didapatkan\n",
    "print(f'Profit terkecil yang pernah didapatkan adalah Rp {min_profit}')\n"
   ]
  },
  {
   "cell_type": "markdown",
   "metadata": {},
   "source": [
    "### **1E**.  "
   ]
  },
  {
   "cell_type": "markdown",
   "metadata": {},
   "source": [
    "Carilah rata-rata profit 6 bulan pertama (Januari - Juni) dan 6 bulan kedua (Juli - Desember)\n",
    "\n",
    "\n",
    "\n",
    "```\n",
    "Keterangan:\n",
    "- Gunakan method sum() dan len()\n",
    "- bulatkan 2 angka di belakang koma\n",
    "```\n",
    "\n"
   ]
  },
  {
   "cell_type": "code",
   "execution_count": 28,
   "metadata": {},
   "outputs": [
    {
     "name": "stdout",
     "output_type": "stream",
     "text": [
      "Profit 6 bulan pertama Rp 243966666.67\n",
      "Profit 6 bulan kedua Rp 215566666.67\n"
     ]
    }
   ],
   "source": [
    "# buat variabel dan hitung rata-rata profit 6 bulan pertama\n",
    "avg_1 = round(sum(profits[:6])/len(profits[:6]),2)\n",
    "\n",
    "# buat variabel dan hitung rata-rata profit 6 bulan kedua\n",
    "avg_2 = round(sum(profits[6:])/len(profits[6:]),2)\n",
    "\n",
    "# print dan bulatkan hasil rata-rata dua angka di belakang koma\n",
    "print(f'Profit 6 bulan pertama Rp {avg_1}')\n",
    "print(f'Profit 6 bulan kedua Rp {avg_2}')"
   ]
  },
  {
   "cell_type": "markdown",
   "metadata": {},
   "source": [
    "## **Case Study 2: Gaji Karyawan Perusahaan**\n",
    "___\n"
   ]
  },
  {
   "cell_type": "markdown",
   "metadata": {},
   "source": [
    "Karyawan Perusahaan T memiliki gaji sebagai berikut\n",
    "\n",
    "|Nama Karyawan | Gaji|\n",
    "|-|-|\n",
    "|Wawan | 4.500.000|\n",
    "|Dilla | 4.000.000|\n",
    "|Leo | 4.000.000|\n",
    "|Ayu| 3.500.000|\n",
    "|Lutfi | 3.200.000|"
   ]
  },
  {
   "cell_type": "markdown",
   "metadata": {},
   "source": [
    "### **2A**.  \n"
   ]
  },
  {
   "cell_type": "markdown",
   "metadata": {},
   "source": [
    "Buatlah sebuah dictionary untuk menyimpan nama dan gaji karyawan Perusahaan T.\n",
    "\n",
    "\n",
    "```\n",
    "Keterangan:\n",
    " - bentuk dictionary = {nama_karyawan:gaji}\n",
    "```\n",
    "\n"
   ]
  },
  {
   "cell_type": "code",
   "execution_count": 2,
   "metadata": {},
   "outputs": [
    {
     "name": "stdout",
     "output_type": "stream",
     "text": [
      "{'Wawan': 4500000, 'Dilla': 4000000, 'Leo': 4000000, 'Ayu': 3500000, 'Lutfi': 3200000}\n"
     ]
    }
   ],
   "source": [
    "# buat variabel dahulu untuk menyimpan dictionary-nya\n",
    "salary = {\"Wawan\" : 4_500_000,\"Dilla\" : 4_000_000,\"Leo\" : 4_000_000, \"Ayu\" : 3_500_000,\"Lutfi\" : 3_200_000}\n",
    "\n",
    "# kemudian print gaji masing-masing karyawan\n",
    "print(salary)"
   ]
  },
  {
   "cell_type": "markdown",
   "metadata": {},
   "source": [
    "### **2B**.  "
   ]
  },
  {
   "cell_type": "markdown",
   "metadata": {},
   "source": [
    "Karena perusahaan T merasa kekurangan karyawan, Pimpinan akan merekrut tiga karyawan baru. Tiga karyawan tersebut adalah\n",
    "\n",
    "|Nama|Gaji|\n",
    "|-|-|\n",
    "|Ezra|3.200.000|\n",
    "|Ricardo|3.200.000|\n",
    "|Samsul|3.500.000|"
   ]
  },
  {
   "cell_type": "markdown",
   "metadata": {},
   "source": [
    "Masukkan tiga karyawan baru tersebut ke dalam variabel dict yang sudah anda buat di soal nomor 2A tadi!\n",
    "\n",
    "\n",
    "```\n",
    "Keterangan:\n",
    "- Gunakan method update()\n",
    "```\n",
    "\n"
   ]
  },
  {
   "cell_type": "code",
   "execution_count": 3,
   "metadata": {},
   "outputs": [
    {
     "name": "stdout",
     "output_type": "stream",
     "text": [
      "{'Wawan': 4500000, 'Dilla': 4000000, 'Leo': 4000000, 'Ayu': 3500000, 'Lutfi': 3200000, 'Ezra': 3200000, 'Ricardo': 3200000, 'Samsul': 3500000}\n"
     ]
    }
   ],
   "source": [
    "# buat dictionary baru untuk menyimpan karyawan yang baru masuk\n",
    "new_employes = {\"Ezra\" : 3_200_000,\"Ricardo\" : 3_200_000,\"Samsul\" : 3_500_000}\n",
    "\n",
    "# gunakan method update untuk menambahkan karyawan baru\n",
    "salary.update(new_employes)\n",
    "\n",
    "# print variabel dictionary yang digunakan untuk menyimpan nama karyawan\n",
    "print(salary)"
   ]
  },
  {
   "cell_type": "markdown",
   "metadata": {},
   "source": [
    "### **2C**"
   ]
  },
  {
   "cell_type": "markdown",
   "metadata": {},
   "source": [
    "Leo dipromosikan jabatannya menjadi lebih tinggi karena pekerjaanya yang bagus. Gaji Leo naik menjadi 7.500.000."
   ]
  },
  {
   "cell_type": "markdown",
   "metadata": {},
   "source": [
    "Ubah gaji Leo di dalam dictionary!"
   ]
  },
  {
   "cell_type": "code",
   "execution_count": 5,
   "metadata": {},
   "outputs": [
    {
     "name": "stdout",
     "output_type": "stream",
     "text": [
      "Gaji Leo sekarang adalah Rp 7500000\n"
     ]
    }
   ],
   "source": [
    "# ubah gaji Leo menjadi 7.500.000\n",
    "salary['Leo'] = 7_500_000\n",
    "\n",
    "# print gaji Leo sekarang\n",
    "print(f\"Gaji Leo sekarang adalah Rp {salary['Leo']}\")"
   ]
  },
  {
   "cell_type": "markdown",
   "metadata": {},
   "source": [
    "## **Case Study 3: Koleksi Mainan**\n",
    "___\n"
   ]
  },
  {
   "cell_type": "markdown",
   "metadata": {},
   "source": [
    "Rizki memiliki sebuah koleksi mainan berbentuk hewan yang banyak. Dia memindahkan mainannya ke kardus baru, karena kardus yang lama sudah rusak. Urutan mainan hewan yang dipindahkan adalah seperti berikut.\n",
    "\n",
    "\n",
    "```\n",
    "kuda, anjing, kucing, gajah, kucing, burung, ular, ayam, bebek, jerapah, macan, anjing, burung, kelinci\n",
    "```\n"
   ]
  },
  {
   "cell_type": "markdown",
   "metadata": {},
   "source": [
    "### **3A**.\n"
   ]
  },
  {
   "cell_type": "markdown",
   "metadata": {},
   "source": [
    "Buatlah sebuah tuple untuk menyimpan mainan hewan Rizki"
   ]
  },
  {
   "cell_type": "code",
   "execution_count": 8,
   "metadata": {},
   "outputs": [
    {
     "name": "stdout",
     "output_type": "stream",
     "text": [
      "('kuda', 'jerapah', 'macan', 'burung', 'kucing', 'kelinci', 'anjing', 'ular', 'ayam', 'gajah', 'bebek')\n"
     ]
    }
   ],
   "source": [
    "# buat sebuah variabel dahulu yang berisi urutan mainan yang dipindahkan\n",
    "riki_toys = ('kuda', 'jerapah', 'macan', 'burung', 'kucing', 'kelinci', 'anjing', 'ular', 'ayam', 'gajah', 'bebek')\n",
    "\n",
    "# print tuple tersebut\n",
    "print(riki_toys)"
   ]
  },
  {
   "cell_type": "markdown",
   "metadata": {},
   "source": [
    "### **3B**.  "
   ]
  },
  {
   "cell_type": "markdown",
   "metadata": {},
   "source": [
    "Saat memasukkan ke dalam kardus baru Rizki sadar bahwa ada mainan hewan yang jumlahnya lebih dari satu.\n",
    "\n",
    "Dengan fungsi `input()` coba munculkan banyak hewan tertentu yang dimiliki Rizki!\n",
    "\n",
    "\n",
    "\n",
    "```\n",
    "Keterangan\n",
    "Misalkan kita ketik mainan hewan kelinci\n",
    "akan muncul jumlah mainan tersebut\n",
    "```\n",
    "\n"
   ]
  },
  {
   "cell_type": "code",
   "execution_count": 11,
   "metadata": {},
   "outputs": [
    {
     "name": "stdin",
     "output_type": "stream",
     "text": [
      "Masukkan mainan hewan yang ingin diketahui jumlahnya :  kucing\n"
     ]
    },
    {
     "name": "stdout",
     "output_type": "stream",
     "text": [
      "Jumlah mainan kucing yang dimiliki rizki sebanyak 1\n"
     ]
    }
   ],
   "source": [
    "# buat sebuah variabel untuk menampung input\n",
    "hewan = input(\"Masukkan mainan hewan yang ingin diketahui jumlahnya : \")\n",
    "\n",
    "# hitung banyak hewan dalam tuple dengan method count()\n",
    "# masukkan variabel yang dijadikan input tadi ke method count\n",
    "total_animal = riki_toys.count(hewan)\n",
    "\n",
    "# print jumlah mainan hewan yang ingin dicari\n",
    "print(f\"Jumlah mainan {hewan} yang dimiliki rizki sebanyak {total_animal}\")"
   ]
  },
  {
   "cell_type": "markdown",
   "metadata": {},
   "source": [
    "## **Case Study 4: Inventori Gudang**\n",
    "___\n"
   ]
  },
  {
   "cell_type": "markdown",
   "metadata": {},
   "source": [
    "Perusahaan Z memiliki dua gudang yang digunakan untuk menyimpan barang yang telah selesai di produksi. Pak Handoko selaku pimpinan perusahaan menyuruh data analis di perusahaannya untuk menganalisis barang-barang yang ada di gudang tersebut.\n",
    "\n",
    "```\n",
    "Gudang satu memiliki barang dengan kode K090 K121 K890 K998 K541\n",
    "\n",
    "Gudang dua memiliki barang dengan kode K090 K143 K776 K998 K797\n",
    "```\n",
    "\n",
    "\n",
    "\n"
   ]
  },
  {
   "cell_type": "markdown",
   "metadata": {},
   "source": [
    "### 4A.  \n"
   ]
  },
  {
   "cell_type": "markdown",
   "metadata": {},
   "source": [
    "Buatlah set untuk menyimpan kode barang yang ada di dua gudang tersebut."
   ]
  },
  {
   "cell_type": "code",
   "execution_count": 16,
   "metadata": {},
   "outputs": [],
   "source": [
    "# buatlah set untuk menyimpan kode barang gudang satu\n",
    "inventory_1 = {\"K090\",\"K121\",\"K890\",\"K998\",\"K541\"}\n",
    "\n",
    "# buatlah set untuk menyimpan kode barang gudang dua\n",
    "inventory_2 = {\"K090\",\"K143\",\"K776\",\"K998\",\"K797\"}"
   ]
  },
  {
   "cell_type": "markdown",
   "metadata": {},
   "source": [
    "### 4B.  "
   ]
  },
  {
   "cell_type": "markdown",
   "metadata": {},
   "source": [
    "Coba gabungkan inventori pada gudang satu dan dua\n",
    "\n",
    "\n",
    "```\n",
    "Keterangan:\n",
    " - gunakan method union()\n",
    "```\n",
    "\n"
   ]
  },
  {
   "cell_type": "code",
   "execution_count": 17,
   "metadata": {},
   "outputs": [
    {
     "name": "stdout",
     "output_type": "stream",
     "text": [
      "{'K797', 'K090', 'K541', 'K890', 'K121', 'K776', 'K998', 'K143'}\n"
     ]
    }
   ],
   "source": [
    "# buatlah variabel baru untuk menyimpan gabungan dari dua set tersebut\n",
    "# gunakan variabel set gudang pada soal 4A\n",
    "inventory = inventory_1.union(inventory_2)\n",
    "\n",
    "# print atau tampilkan set dari variabel baru tersebut\n",
    "print(inventory)"
   ]
  },
  {
   "cell_type": "markdown",
   "metadata": {},
   "source": [
    "### **4C**"
   ]
  },
  {
   "cell_type": "markdown",
   "metadata": {},
   "source": [
    "Pak Handoko ingin tahu kode barang apa saja yang disimpan di gudang satu namun juga disimpan di gudang dua.\n",
    "\n",
    "\n",
    "```\n",
    "Keterangan:\n",
    "- gunakan method intersection()\n",
    "```\n",
    "\n"
   ]
  },
  {
   "cell_type": "code",
   "execution_count": 20,
   "metadata": {},
   "outputs": [
    {
     "name": "stdout",
     "output_type": "stream",
     "text": [
      "Kode barang yang disimpan di gudang satu sekaligus gudang dua adalah {'K998', 'K090'}\n"
     ]
    }
   ],
   "source": [
    "# buat variabel untuk menampung hasil method intersection\n",
    "# gunakan variabel set gudang pada soal 4A\n",
    "intersec = inventory_1.intersection(inventory_2)\n",
    "\n",
    "# print hasil dari method intersection()\n",
    "print(f\"Kode barang yang disimpan di gudang satu sekaligus gudang dua adalah {intersec}\")"
   ]
  }
 ],
 "metadata": {
  "kernelspec": {
   "display_name": "Python 3",
   "language": "python",
   "name": "python3"
  },
  "language_info": {
   "codemirror_mode": {
    "name": "ipython",
    "version": 3
   },
   "file_extension": ".py",
   "mimetype": "text/x-python",
   "name": "python",
   "nbconvert_exporter": "python",
   "pygments_lexer": "ipython3",
   "version": "3.7.4"
  }
 },
 "nbformat": 4,
 "nbformat_minor": 4
}

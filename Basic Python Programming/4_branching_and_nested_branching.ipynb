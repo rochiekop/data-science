{
 "cells": [
  {
   "cell_type": "markdown",
   "metadata": {},
   "source": [
    "# Live Class : Branching & Nested Branching\n",
    "\n",
    "Selamat datang teman-teman kita bertemu di Live class. Hari ini kita akan membahas study case mengenai Branching & Nested Branching"
   ]
  },
  {
   "cell_type": "markdown",
   "metadata": {},
   "source": [
    "## Summary Branching & Nested Branching\n"
   ]
  },
  {
   "cell_type": "markdown",
   "metadata": {},
   "source": [
    "- <b>Branching</b> atau percabangan adalah salah satu bentuk kontrol pada suatu program.<br>\n",
    "-  Percabangan berguna untuk <b>mengatur</b> jalannya program sesuai dengan suatu kondisi yang terpenuhi.<br>\n",
    "- Percabangan juga mampu membuat sebuah program menentukan suatu tindakan sesua dengan logika/kondisi yang diberikan<br>\n",
    "- Dalam pemrograman Python, terdapat tiga keywords untuk melakukan percabangan, yaitu <b>if</b>, <b>elif</b>, dan <b>else</b>.<br>\n",
    "    \n",
    "\n",
    "\n",
    "    \n",
    "    \n",
    "    \n"
   ]
  },
  {
   "cell_type": "markdown",
   "metadata": {},
   "source": [
    "#### Syntax Branching\n",
    "berikut merupakan syntax dari statement if, elif, dan else:\n",
    "<br>\n",
    "<br>\n",
    "![Untitled Diagram.drawio (7).svg](data:image/svg+xml;base64,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)"
   ]
  },
  {
   "cell_type": "markdown",
   "metadata": {},
   "source": [
    "\n",
    "\n",
    "\n",
    "\n",
    "## **Case Study 1 : Pengelompokan Kelompok umur Penduduk**\n",
    "-----------------------------------------------------------------------------\n",
    "Sebuah Aplikasi Sensus memiliki fitur untuk mengkategorikan penduduk kelompok umur . berikut kategori kelompok umur\n",
    "\n",
    "| Nama Kelompok Umur   |Ambang batas umur|\n",
    "|----------------------|-----------------|\n",
    "|Balita                |0-5 tahun        |\n",
    "|Kanak-kanak           |6-11 tahun       |\n",
    "|Remaja                |12-25            |\n",
    "|Dewasa                |26-45            |\n",
    "|Lansia                |>46              |\n",
    " \n"
   ]
  },
  {
   "cell_type": "markdown",
   "metadata": {},
   "source": [
    "### Problem 1A \n",
    "Buatlah program branching 1 kondisi  variabel umur untuk balita "
   ]
  },
  {
   "cell_type": "code",
   "execution_count": 3,
   "metadata": {},
   "outputs": [
    {
     "name": "stdout",
     "output_type": "stream",
     "text": [
      "Balita\n"
     ]
    }
   ],
   "source": [
    "# Tulis jawaban dibawah ini\n",
    "category = \"\"\n",
    "age  = 3\n",
    "if age >= 0 and age <= 5:\n",
    "    category = \"Balita\"\n",
    "    \n",
    "print(category)    "
   ]
  },
  {
   "cell_type": "markdown",
   "metadata": {},
   "source": [
    "### Problem 1B\n",
    "Buatlah program branching 2 kondisi dengan menggunakan variabel umur untuk menentukan jika balita beri statement kanak-kanak jika lebih tua dari **\"balita\"** maka beri statement **\"kelompok usia lain\"**\n",
    "\n",
    "\n",
    "\n"
   ]
  },
  {
   "cell_type": "code",
   "execution_count": 5,
   "metadata": {},
   "outputs": [
    {
     "name": "stdout",
     "output_type": "stream",
     "text": [
      "kelompok usia lain\n"
     ]
    }
   ],
   "source": [
    "category = \"\"\n",
    "age  = 33\n",
    "if age >= 0 and age <= 5:\n",
    "    category = \"Balita\"\n",
    "else:\n",
    "    category = \"kelompok usia lain\"\n",
    "print(category)    "
   ]
  },
  {
   "cell_type": "markdown",
   "metadata": {},
   "source": [
    "### Problem 1C\n",
    "Buatlah program branching lebih dari 2 kondisi menggunakan variabel untuk balita, kanak-kanak, dan kelompok usia lain\n",
    "\n",
    "\n",
    "\n"
   ]
  },
  {
   "cell_type": "code",
   "execution_count": 7,
   "metadata": {},
   "outputs": [
    {
     "name": "stdout",
     "output_type": "stream",
     "text": [
      "kanak-kanak\n"
     ]
    }
   ],
   "source": [
    "category = \"\"\n",
    "age  = 11\n",
    "if age >= 0 and age <= 5:\n",
    "    category = \"Balita\"\n",
    "elif age >= 6 and age <= 11:\n",
    "    category = \"kanak-kanak\"    \n",
    "else:\n",
    "    category = \"kelompok usia lain\"\n",
    "print(category)    "
   ]
  },
  {
   "cell_type": "markdown",
   "metadata": {},
   "source": [
    "### Problem 1D\n",
    "Buatlah program branching lebih dari 2 kondisi menggunakan variabel umur berdasarkan semua kelompok umur\n",
    "\n",
    "\n",
    "\n"
   ]
  },
  {
   "cell_type": "code",
   "execution_count": 9,
   "metadata": {},
   "outputs": [
    {
     "name": "stdout",
     "output_type": "stream",
     "text": [
      "Dewasa\n"
     ]
    }
   ],
   "source": [
    "category = \"\"\n",
    "age  = 44\n",
    "if age >= 0 and age <= 5:\n",
    "    category = \"Balita\"\n",
    "elif age >= 6 and age <= 11:\n",
    "    category = \"kanak-kanak\"    \n",
    "elif age >= 12 and age <= 25:\n",
    "    category = \"Remaja\"    \n",
    "elif age >= 26 and age <= 45:\n",
    "    category = \"Dewasa\"\n",
    "else:\n",
    "    category = \"Lansia\"\n",
    "print(category)    "
   ]
  },
  {
   "cell_type": "markdown",
   "metadata": {},
   "source": [
    "\n",
    "\n",
    "\n",
    "\n",
    "## **Case Study 2 : Menyiapkan Pengaturan Penyiraman Menggunakan Sensor Suhu dan Kelembapan**\n",
    "-----------------------------------------------------------------------------\n",
    "Sebuah Sensor yang dipasang pada sebuah perkebunan memiliki aturan untuk penyiraman berdasarkan suhu dan kelembapan, sensor dapat mendeteksi suhu dan kelembapan dengan penilaian sebagai berikut\n",
    "\n",
    "|Penilaian Suhu (temp_type) | Penilaian Kelembapan (moisture_type) |\n",
    "|--------------------------|----------------------|\n",
    "|Cold                    |Dry                   |\n",
    "|Normal                  |Moist                 |\n",
    "|Hot                     |Wet                   |\n",
    "\n",
    "\n",
    "Alat Penyiram air akan menyala secara otomatis dengan beberapa lama durasi penyiraman yang berbeda berdasarkan aturan kombinasi antara penilaian suhu dan penilaian kelembapan. Aturan-aturan yang telah ditentukan sebagai berikut:\n",
    "\n",
    "|Penilaian Suhu          | Penilaian Kelembapan |\n",
    "|------------------------|----------------------|\n",
    "|Cold - Dry              |15 menit              |\n",
    "|Cold - Moist            |15 menit              |\n",
    "|Cold - Wet              |5 menit               |\n",
    "|Normal - Dry            |15 menit              |\n",
    "|Normal - Moist          |10 menit              |\n",
    "|Normal - Wet            |5  menit              |\n",
    "|Hot - Dry               |15 menit              |\n",
    "|Hot - Moist             |10 menit              |\n",
    "|Hot - Wet               |5  menit              |\n",
    "|None                    |Perangkat Error       |\n",
    "\n",
    "\n"
   ]
  },
  {
   "cell_type": "markdown",
   "metadata": {},
   "source": [
    "### Problem 2A \n",
    "Buatlah nested branch kondisi untuk Cold - Dry dengan aturan penyiraman yg telah ditentukan"
   ]
  },
  {
   "cell_type": "code",
   "execution_count": 8,
   "metadata": {},
   "outputs": [
    {
     "name": "stdout",
     "output_type": "stream",
     "text": [
      "Penyiraman 15 Menit\n"
     ]
    }
   ],
   "source": [
    "# Tulis jawaban dibawah ini\n",
    "temp_type = \"Cold\"\n",
    "moisture  = \"Dry\"\n",
    "minute    = \"Perangkat Error\"\n",
    "if temp_type.lower() == 'cold':\n",
    "    if moisture.lower() == 'dry' or moisture.lower() == 'moist':\n",
    "        minute = \"15 Menit\"\n",
    "    else:\n",
    "        minute = \"5 menit\"\n",
    "print(f\"Penyiraman {minute}\")    "
   ]
  },
  {
   "cell_type": "markdown",
   "metadata": {},
   "source": [
    "### Problem 2B\n",
    "Buatlah nested branch kondisi untuk Normal - Dry dan Normal - Moist dengan aturan penyiraman yg telah ditentukan dengan input Normal dan Moist \n"
   ]
  },
  {
   "cell_type": "code",
   "execution_count": 9,
   "metadata": {},
   "outputs": [
    {
     "name": "stdout",
     "output_type": "stream",
     "text": [
      "Penyiraman 10 Menit\n"
     ]
    }
   ],
   "source": [
    "# Tulis jawaban dibawah ini\n",
    "temp_type = \"Normal\"\n",
    "moisture  = \"Moist\"\n",
    "minute    = \"Perangkat Error\"\n",
    "if temp_type.lower() == 'cold':\n",
    "    if moisture.lower() == 'dry' or moisture.lower() == 'moits':\n",
    "        minute = \"15 Menit\"\n",
    "    else:\n",
    "        minute = \"5 menit\"\n",
    "if temp_type.lower() == 'normal':\n",
    "    if moisture.lower() == 'dry':\n",
    "        minute = \"15 Menit\"\n",
    "    elif moisture.lower() == 'moist':\n",
    "        minute = \"10 Menit\"        \n",
    "    else:\n",
    "        minute = \"5 menit\"        \n",
    "print(f\"Penyiraman {minute}\")    "
   ]
  },
  {
   "cell_type": "markdown",
   "metadata": {},
   "source": [
    "### Problem 2C \n",
    "Buatlah nested branch kondisi untuk Normal - Dry, Normal - Moist, Hot - Dry, dan Hot - Moist dengan aturan penyiraman yg telah ditentukan dengan input Hot dan Dry \n",
    "\n",
    "\n",
    "\n"
   ]
  },
  {
   "cell_type": "code",
   "execution_count": 11,
   "metadata": {},
   "outputs": [
    {
     "name": "stdout",
     "output_type": "stream",
     "text": [
      "Penyiraman 10 Menit\n"
     ]
    }
   ],
   "source": [
    "# Tulis jawaban dibawah ini\n",
    "temp_type = \"Hot\"\n",
    "moisture  = \"Moist\"\n",
    "minute    = \"Perangkat Error\"\n",
    "if temp_type.lower() == 'cold':\n",
    "    if moisture.lower() == 'dry' or moisture.lower() == 'moits':\n",
    "        minute = \"15 Menit\"\n",
    "    else:\n",
    "        minute = \"5 menit\"\n",
    "elif temp_type.lower() == 'normal':\n",
    "    if moisture.lower() == 'dry':\n",
    "        minute = \"15 Menit\"\n",
    "    elif moisture.lower() == 'moist':\n",
    "        minute = \"10 Menit\"        \n",
    "    else:\n",
    "        minute = \"5 menit\"        \n",
    "elif temp_type.lower() == 'hot':\n",
    "    if moisture.lower() == 'dry':\n",
    "        minute = \"15 Menit\"\n",
    "    elif moisture.lower() == 'moist':\n",
    "        minute = \"10 Menit\"        \n",
    "    else:\n",
    "        minute = \"5 menit\"         \n",
    "print(f\"Penyiraman {minute}\")    "
   ]
  },
  {
   "cell_type": "markdown",
   "metadata": {},
   "source": [
    "### Problem 2D \n",
    "Buatlah nested branch untuk semua kondisi dengan aturan penyiraman yang telah ditentukan dengan input `temp_type` kosong. \n",
    "\n",
    "\n",
    "\n"
   ]
  },
  {
   "cell_type": "code",
   "execution_count": 12,
   "metadata": {},
   "outputs": [
    {
     "name": "stdout",
     "output_type": "stream",
     "text": [
      "Penyiraman Perangkat Error\n"
     ]
    }
   ],
   "source": [
    "# Tulis jawaban dibawah ini\n",
    "temp_type = \"\"\n",
    "moisture  = \"Moist\"\n",
    "minute    = \"Perangkat Error\"\n",
    "if temp_type.lower() == 'cold':\n",
    "    if moisture.lower() == 'dry' or moisture.lower() == 'moits':\n",
    "        minute = \"15 Menit\"\n",
    "    else:\n",
    "        minute = \"5 menit\"\n",
    "elif temp_type.lower() == 'normal':\n",
    "    if moisture.lower() == 'dry':\n",
    "        minute = \"15 Menit\"\n",
    "    elif moisture.lower() == 'moist':\n",
    "        minute = \"10 Menit\"        \n",
    "    else:\n",
    "        minute = \"5 menit\"        \n",
    "elif temp_type.lower() == 'hot':\n",
    "    if moisture.lower() == 'dry':\n",
    "        minute = \"15 Menit\"\n",
    "    elif moisture.lower() == 'moist':\n",
    "        minute = \"10 Menit\"        \n",
    "    else:\n",
    "        minute = \"5 menit\"         \n",
    "print(f\"Penyiraman {minute}\")    "
   ]
  },
  {
   "cell_type": "markdown",
   "metadata": {},
   "source": [
    "## Case Study 3 : Membuat Program Sign In pada Sebuah Game\n",
    "Dalam halaman Sign In pada sebuah game yang masih tahapan percobaan atau beta. Dengan memanfaatkan branching serta boolean logic di tentukan beberapa skenario\n",
    "\n",
    "Berikut skenario yang telah ditentukan:\n",
    "\n"
   ]
  },
  {
   "cell_type": "markdown",
   "metadata": {},
   "source": [
    "### Problem 3A \n",
    "User dapat mengakses akun dengan nama variabel id dengan nilai string \"TESTER1\", kemudian mengasumsikan bahwa password benar dengan menggunakan variabel tipe data boolean. Buatlah program branching sesuai dengan kondisi yang telah dijelaskan sebelumnya"
   ]
  },
  {
   "cell_type": "code",
   "execution_count": 1,
   "metadata": {},
   "outputs": [
    {
     "name": "stdout",
     "output_type": "stream",
     "text": [
      "Selamat Datang Tester1\n"
     ]
    }
   ],
   "source": [
    "id_name = \"TESTER1\"\n",
    "password = True\n",
    "\n",
    "if id_name == \"TESTER1\" or id_name == \"tester1\" and password == True:\n",
    "    print(\"Selamat Datang Tester1\")"
   ]
  },
  {
   "cell_type": "markdown",
   "metadata": {},
   "source": [
    "### Problem 3B \n",
    "Setelah membuat program branching yang pertama maka tambahkan kondisi kedua jika password salah \n",
    "\n",
    "\n",
    "\n",
    "\n"
   ]
  },
  {
   "cell_type": "code",
   "execution_count": 2,
   "metadata": {},
   "outputs": [
    {
     "name": "stdout",
     "output_type": "stream",
     "text": [
      "Password Salah\n"
     ]
    }
   ],
   "source": [
    "id_name = \"TESTER1\"\n",
    "password = False\n",
    "\n",
    "if id_name == \"TESTER1\" and password == True:\n",
    "    print(\"Selamat Datang Tester1\")\n",
    "elif id_name == \"TESTER1\" and password == False:\n",
    "    print(\"Password Salah\")\n"
   ]
  },
  {
   "cell_type": "markdown",
   "metadata": {},
   "source": [
    "### Problem 3C \n",
    "Agar terhindar dari akun bot maka ditambahkan captcha asumsikan menggunakan variabel boolean dengan nama captcha. melanjutkan program branching kedua tambahkan captcha pada setiap kondisi, buat kondisi baru jika captcha salah dan kondisi ketika id tidak diisi berikan statement \"Isi data dengan benar\". variabel id dikosongkan. \n",
    "\n",
    "\n"
   ]
  },
  {
   "cell_type": "code",
   "execution_count": 3,
   "metadata": {},
   "outputs": [
    {
     "name": "stdout",
     "output_type": "stream",
     "text": [
      "Isi data dengan Benar\n"
     ]
    }
   ],
   "source": [
    "id_name = \"\"\n",
    "password = True\n",
    "captcha = False\n",
    "\n",
    "if id_name == \"TESTER1\" and password == True and captcha == True:\n",
    "    print(\"Selamat Datang Tester1\")\n",
    "elif id_name == \"TESTER1\" and password == False and captcha == True:\n",
    "    print(\"Password Salah\")\n",
    "elif id_name == \"TESTER1\" and password == True and captcha == False:\n",
    "    print(\"Captcha Salah\")\n",
    "else :\n",
    "    print(\"Isi data dengan Benar\")"
   ]
  },
  {
   "cell_type": "markdown",
   "metadata": {},
   "source": [
    "## Case Study 4 : Membuat Program Perhitungan Bangun Ruang\n",
    "Riza melakukan tugas kuliah yang diberikan oleh dosen untuk membuat program nested branching perhitungan volume dan luas permukaan pada bangun ruang\n",
    "\n",
    "Berikut bangun ruang yang ditentukan beserta variabel yang dibutuhkan\n",
    "\n",
    "|Nama Bangun Ruang       | Nama variabel yang dibutuhkan|\n",
    "|------------------------|----------------------|\n",
    "|kubus                   |rusuk                 |\n",
    "|------------------------|----------------------|\n",
    "|balok                   |panjang               |\n",
    "|                        |lebar                 |\n",
    "|                        |tinggi                |\n",
    "|------------------------|----------------------|\n",
    "|tabung                  |jari_jari             |\n",
    "|                        |tinggi                |\n",
    "\n",
    "\n",
    "Berikut flowchart nested branching pada salah satu bangun ruang kubus\n",
    "\n"
   ]
  },
  {
   "cell_type": "markdown",
   "metadata": {},
   "source": [
    "![Flowchart Bangun Ruang.drawio (1).svg](data:image/svg+xml;base64,PD94bWwgdmVyc2lvbj0iMS4wIiBlbmNvZGluZz0iVVRGLTgiPz4KPCEtLSBEbyBub3QgZWRpdCB0aGlzIGZpbGUgd2l0aCBlZGl0b3JzIG90aGVyIHRoYW4gZGlhZ3JhbXMubmV0IC0tPgo8IURPQ1RZUEUgc3ZnIFBVQkxJQyAiLS8vVzNDLy9EVEQgU1ZHIDEuMS8vRU4iICJodHRwOi8vd3d3LnczLm9yZy9HcmFwaGljcy9TVkcvMS4xL0RURC9zdmcxMS5kdGQiPgo8c3ZnIHhtbG5zPSJodHRwOi8vd3d3LnczLm9yZy8yMDAwL3N2ZyIgeG1sbnM6eGxpbms9Imh0dHA6Ly93d3cudzMub3JnLzE5OTkveGxpbmsiIHZlcnNpb249IjEuMSIgd2lkdGg9IjU4NHB4IiBoZWlnaHQ9IjU3M3B4IiB2aWV3Qm94PSItMC41IC0wLjUgNTg0IDU3MyIgY29udGVudD0iJmx0O214ZmlsZSBob3N0PSZxdW90O2FwcC5kaWFncmFtcy5uZXQmcXVvdDsgbW9kaWZpZWQ9JnF1b3Q7MjAyMi0xMC0wN1QwNjoyOTozNC43NTZaJnF1b3Q7IGFnZW50PSZxdW90OzUuMCAoV2luZG93cyBOVCAxMC4wOyBXaW42NDsgeDY0KSBBcHBsZVdlYktpdC81MzcuMzYgKEtIVE1MLCBsaWtlIEdlY2tvKSBDaHJvbWUvMTA2LjAuMC4wIFNhZmFyaS81MzcuMzYgRWRnLzEwNi4wLjEzNzAuMzQmcXVvdDsgZXRhZz0mcXVvdDtva3IzajBPa2N4N0lrT0VURkdIaCZxdW90OyB2ZXJzaW9uPSZxdW90OzIwLjQuMCZxdW90OyB0eXBlPSZxdW90O2dvb2dsZSZxdW90OyZndDsmbHQ7ZGlhZ3JhbSBpZD0mcXVvdDtYUVZZVzhNM3NMUFNkUTh4UTNUbSZxdW90OyBuYW1lPSZxdW90O1BhZ2UtMSZxdW90OyZndDs3VmhkYjVzd0ZQMDFrYlpLbXdBVGtyeVd0dHZVYnFxVWFlMzJFam5CQVMvR1pzWk95SDU5RFppdmhLVHBtcFJKYlY3QXgvZGVYKzd4dVFIM2dCc21uemlNZ3EvTVE2Um5HVjdTQXhjOXl6SU5HNmhMaXF4enhESE5IUEE1OXJSUkJZenhYMVI0YWxSaUQ4VU5ROEVZRVRocWdqTkdLWnFKQmdZNVo2dW0yWnlSNXFvUjlORVdNSjVCc28zZVlVOEVPVHJzR3hYK0dXRS9LRlkyRFQwVHdzSllBM0VBUGJhcVFlQ3lCMXpPbU1qdndzUkZKQzFlVVpmYzcyckhiSmtZUjFRYzRrRHZweU5uL0N0SzdMc3YzNWJYNGNKZURqN1llWlFsSkZJL3NFNVdySXNLSUU4VlJBOFpGd0h6R1lYa3NrTFBPWlBVUStreWhocFZOamVNUlFvMEZmZ2JDYkhXN0VJcG1JSUNFUkk5R3d2T0ZtVjlRWW00akRDZVpRR3VydHloUFZBemVYNXBVanZyb0tHWVNUNURleDVlUDZ1QTNFZGlqeDBvMlZMYkhMRVFDYjVXZmh3UktQQ3ltUWZVKzgwdjdTcEsxSTFtNVFrTVdTME1PVVNsZXo1bjZvSFRuVjhVeWZrajA4MmtTZ1RtMmE4T09iN0k2Z3E1S0FLb2ZQSVkrZHdXOHhXdktVbXJBQXMwam1CVzBwVlMrNzl6T01lRTFIRERBQmQ5dDh4Z2liaEF5WDUydDluUURpT3ROdDF1YkQxY1ZkbzFDMEVHTmQwNnhvbm9HNzVtZ1lFREJUYm9VbURncUFLak1JU1RLYVMrcEJNdTFWVUZ5SHlOeW5ZaHB6SnV1QjRteDRDRnFlT2pVbXpxdHNtOTNaVXdyYVl3elJabGxpcXNLM040S21VV2J4aXZVNXFEQTZVNTZsS2FKdWlDRVpSZ2NWKzcvNW1HK3RqWG80dEVSODRHYXozNHoxazBkMmp6WldnY0hMWEQ0bmd5VXhTTHlaSVJHYUt5djM3bkt2cHJiS1Z0THprdjNFcjczWFhPdHRwdnF6SGREUTNMOUhkY0xZNE8xYUxkcFJaSFI5VmlxeEM1ak9YaTdBd1VnYWU4TUk4NHB1SmRGZVpINFhpZHZ4RVpHK3U2OWZqdm4vN1pZaHozczhYbjBNT28ya2lVVVhSYXBkdE5wUU9uUmVsdG56UGxOODd4cGU2OFNmMzVmNmZhOVpiaFRITkZYeDgyNmU3M04xak1lNHYyMmlDeVRPTVozSm9uYUE1RXduZ1NJUjdLQllTMGJCTE9tVzRUMXVOdDRrYUZVQzYzdFNEN0c4Ym1tZzRNVTluVGFaeGV1bThrcDN3M0dEemVNZ0I0MlpiUmRzajRkb1MxbTBKclJ4czR3U0dXR2xZbjBIa2ZxYzd4d2VVRCZsdDsvZGlhZ3JhbSZndDsmbHQ7L214ZmlsZSZndDsiIHN0eWxlPSJiYWNrZ3JvdW5kLWNvbG9yOiByZ2IoMjU1LCAyNTUsIDI1NSk7Ij48ZGVmcy8+PGc+PHBhdGggZD0iTSAxMzIgNjEgTCAxMzIgOTAuOSIgZmlsbD0ibm9uZSIgc3Ryb2tlPSIjZmZjODQ3IiBzdHJva2Utd2lkdGg9IjMiIHN0cm9rZS1taXRlcmxpbWl0PSIxMCIgcG9pbnRlci1ldmVudHM9InN0cm9rZSIvPjxwYXRoIGQ9Ik0gMTMyIDk3LjY1IEwgMTI3LjUgODguNjUgTCAxMzIgOTAuOSBMIDEzNi41IDg4LjY1IFoiIGZpbGw9IiNmZmM4NDciIHN0cm9rZT0iI2ZmYzg0NyIgc3Ryb2tlLXdpZHRoPSIzIiBzdHJva2UtbWl0ZXJsaW1pdD0iMTAiIHBvaW50ZXItZXZlbnRzPSJhbGwiLz48cmVjdCB4PSI3MiIgeT0iMSIgd2lkdGg9IjEyMCIgaGVpZ2h0PSI2MCIgcng9IjkiIHJ5PSI5IiBmaWxsPSIjMDAzZDVjIiBzdHJva2U9IiNmZmM4NDciIHN0cm9rZS13aWR0aD0iMyIgcG9pbnRlci1ldmVudHM9ImFsbCIvPjxnIHRyYW5zZm9ybT0idHJhbnNsYXRlKC0wLjUgLTAuNSkiPjxzd2l0Y2g+PGZvcmVpZ25PYmplY3QgcG9pbnRlci1ldmVudHM9Im5vbmUiIHdpZHRoPSIxMDAlIiBoZWlnaHQ9IjEwMCUiIHJlcXVpcmVkRmVhdHVyZXM9Imh0dHA6Ly93d3cudzMub3JnL1RSL1NWRzExL2ZlYXR1cmUjRXh0ZW5zaWJpbGl0eSIgc3R5bGU9Im92ZXJmbG93OiB2aXNpYmxlOyB0ZXh0LWFsaWduOiBsZWZ0OyI+PGRpdiB4bWxucz0iaHR0cDovL3d3dy53My5vcmcvMTk5OS94aHRtbCIgc3R5bGU9ImRpc3BsYXk6IGZsZXg7IGFsaWduLWl0ZW1zOiB1bnNhZmUgY2VudGVyOyBqdXN0aWZ5LWNvbnRlbnQ6IHVuc2FmZSBjZW50ZXI7IHdpZHRoOiAxMThweDsgaGVpZ2h0OiAxcHg7IHBhZGRpbmctdG9wOiAzMXB4OyBtYXJnaW4tbGVmdDogNzNweDsiPjxkaXYgZGF0YS1kcmF3aW8tY29sb3JzPSJjb2xvcjogcmdiKDAsIDAsIDApOyAiIHN0eWxlPSJib3gtc2l6aW5nOiBib3JkZXItYm94OyBmb250LXNpemU6IDBweDsgdGV4dC1hbGlnbjogY2VudGVyOyI+PGRpdiBzdHlsZT0iZGlzcGxheTogaW5saW5lLWJsb2NrOyBmb250LXNpemU6IDEycHg7IGZvbnQtZmFtaWx5OiBIZWx2ZXRpY2E7IGNvbG9yOiByZ2IoMCwgMCwgMCk7IGxpbmUtaGVpZ2h0OiAxLjI7IHBvaW50ZXItZXZlbnRzOiBhbGw7IHdoaXRlLXNwYWNlOiBub3JtYWw7IG92ZXJmbG93LXdyYXA6IG5vcm1hbDsiPjxmb250IGNvbG9yPSIjZmZmZmZmIj5zdGFydDwvZm9udD48L2Rpdj48L2Rpdj48L2Rpdj48L2ZvcmVpZ25PYmplY3Q+PHRleHQgeD0iMTMyIiB5PSIzNSIgZmlsbD0icmdiKDAsIDAsIDApIiBmb250LWZhbWlseT0iSGVsdmV0aWNhIiBmb250LXNpemU9IjEycHgiIHRleHQtYW5jaG9yPSJtaWRkbGUiPnN0YXJ0PC90ZXh0Pjwvc3dpdGNoPjwvZz48cGF0aCBkPSJNIDEzMiAxODEgTCAxMzIgMjAxIEwgMTMyIDE4MSBMIDEzMiAxOTAuOSIgZmlsbD0ibm9uZSIgc3Ryb2tlPSIjZmZjODQ3IiBzdHJva2Utd2lkdGg9IjMiIHN0cm9rZS1taXRlcmxpbWl0PSIxMCIgcG9pbnRlci1ldmVudHM9InN0cm9rZSIvPjxwYXRoIGQ9Ik0gMTMyIDE5Ny42NSBMIDEyNy41IDE4OC42NSBMIDEzMiAxOTAuOSBMIDEzNi41IDE4OC42NSBaIiBmaWxsPSIjZmZjODQ3IiBzdHJva2U9IiNmZmM4NDciIHN0cm9rZS13aWR0aD0iMyIgc3Ryb2tlLW1pdGVybGltaXQ9IjEwIiBwb2ludGVyLWV2ZW50cz0iYWxsIi8+PHBhdGggZD0iTSA2NyAxMjEgTCAxMjIuNDQgMTAzLjk0IFEgMTMyIDEwMSAxNDEuNTYgMTAzLjk0IEwgMjUyLjQ0IDEzOC4wNiBRIDI2MiAxNDEgMjUyLjQ0IDE0My45NCBMIDE0MS41NiAxNzguMDYgUSAxMzIgMTgxIDEyMi40NCAxNzguMDYgTCAxMS41NiAxNDMuOTQgUSAyIDE0MSAxMS41NiAxMzguMDYgWiIgZmlsbD0iIzAwM2Q1YyIgc3Ryb2tlPSIjZmZjODQ3IiBzdHJva2Utd2lkdGg9IjQiIHN0cm9rZS1taXRlcmxpbWl0PSIxMCIgcG9pbnRlci1ldmVudHM9ImFsbCIvPjxnIHRyYW5zZm9ybT0idHJhbnNsYXRlKC0wLjUgLTAuNSkiPjxzd2l0Y2g+PGZvcmVpZ25PYmplY3QgcG9pbnRlci1ldmVudHM9Im5vbmUiIHdpZHRoPSIxMDAlIiBoZWlnaHQ9IjEwMCUiIHJlcXVpcmVkRmVhdHVyZXM9Imh0dHA6Ly93d3cudzMub3JnL1RSL1NWRzExL2ZlYXR1cmUjRXh0ZW5zaWJpbGl0eSIgc3R5bGU9Im92ZXJmbG93OiB2aXNpYmxlOyB0ZXh0LWFsaWduOiBsZWZ0OyI+PGRpdiB4bWxucz0iaHR0cDovL3d3dy53My5vcmcvMTk5OS94aHRtbCIgc3R5bGU9ImRpc3BsYXk6IGZsZXg7IGFsaWduLWl0ZW1zOiB1bnNhZmUgY2VudGVyOyBqdXN0aWZ5LWNvbnRlbnQ6IHVuc2FmZSBjZW50ZXI7IHdpZHRoOiAyNThweDsgaGVpZ2h0OiAxcHg7IHBhZGRpbmctdG9wOiAxNDFweDsgbWFyZ2luLWxlZnQ6IDNweDsiPjxkaXYgZGF0YS1kcmF3aW8tY29sb3JzPSJjb2xvcjogcmdiKDAsIDAsIDApOyAiIHN0eWxlPSJib3gtc2l6aW5nOiBib3JkZXItYm94OyBmb250LXNpemU6IDBweDsgdGV4dC1hbGlnbjogY2VudGVyOyI+PGRpdiBzdHlsZT0iZGlzcGxheTogaW5saW5lLWJsb2NrOyBmb250LXNpemU6IDEycHg7IGZvbnQtZmFtaWx5OiBIZWx2ZXRpY2E7IGNvbG9yOiByZ2IoMCwgMCwgMCk7IGxpbmUtaGVpZ2h0OiAxLjI7IHBvaW50ZXItZXZlbnRzOiBhbGw7IHdoaXRlLXNwYWNlOiBub3JtYWw7IG92ZXJmbG93LXdyYXA6IG5vcm1hbDsiPjxmb250IGNvbG9yPSIjZmZmZmZmIj5uYW1hX2Jhbmd1bl9ydWFuZyA9ICJrdWJ1cyI8L2ZvbnQ+PC9kaXY+PC9kaXY+PC9kaXY+PC9mb3JlaWduT2JqZWN0Pjx0ZXh0IHg9IjEzMiIgeT0iMTQ1IiBmaWxsPSJyZ2IoMCwgMCwgMCkiIGZvbnQtZmFtaWx5PSJIZWx2ZXRpY2EiIGZvbnQtc2l6ZT0iMTJweCIgdGV4dC1hbmNob3I9Im1pZGRsZSI+bmFtYV9iYW5ndW5fcnVhbmcgPSAia3VidXMiPC90ZXh0Pjwvc3dpdGNoPjwvZz48cGF0aCBkPSJNIDEzMiAyODEgTCAxMzIgMzEwLjkiIGZpbGw9Im5vbmUiIHN0cm9rZT0iI2ZmYzg0NyIgc3Ryb2tlLXdpZHRoPSIzIiBzdHJva2UtbWl0ZXJsaW1pdD0iMTAiIHBvaW50ZXItZXZlbnRzPSJzdHJva2UiLz48cGF0aCBkPSJNIDEzMiAzMTcuNjUgTCAxMjcuNSAzMDguNjUgTCAxMzIgMzEwLjkgTCAxMzYuNSAzMDguNjUgWiIgZmlsbD0iI2ZmYzg0NyIgc3Ryb2tlPSIjZmZjODQ3IiBzdHJva2Utd2lkdGg9IjMiIHN0cm9rZS1taXRlcmxpbWl0PSIxMCIgcG9pbnRlci1ldmVudHM9ImFsbCIvPjxwYXRoIGQ9Ik0gMjYyIDI0MSBMIDQxNyAyNDEgTCA0MTcgMzEwLjkiIGZpbGw9Im5vbmUiIHN0cm9rZT0iI2ZmYzg0NyIgc3Ryb2tlLXdpZHRoPSIzIiBzdHJva2UtbWl0ZXJsaW1pdD0iMTAiIHBvaW50ZXItZXZlbnRzPSJzdHJva2UiLz48cGF0aCBkPSJNIDQxNyAzMTcuNjUgTCA0MTIuNSAzMDguNjUgTCA0MTcgMzEwLjkgTCA0MjEuNSAzMDguNjUgWiIgZmlsbD0iI2ZmYzg0NyIgc3Ryb2tlPSIjZmZjODQ3IiBzdHJva2Utd2lkdGg9IjMiIHN0cm9rZS1taXRlcmxpbWl0PSIxMCIgcG9pbnRlci1ldmVudHM9ImFsbCIvPjxwYXRoIGQ9Ik0gNjcgMjIxIEwgMTIyLjQ0IDIwMy45NCBRIDEzMiAyMDEgMTQxLjU2IDIwMy45NCBMIDI1Mi40NCAyMzguMDYgUSAyNjIgMjQxIDI1Mi40NCAyNDMuOTQgTCAxNDEuNTYgMjc4LjA2IFEgMTMyIDI4MSAxMjIuNDQgMjc4LjA2IEwgMTEuNTYgMjQzLjk0IFEgMiAyNDEgMTEuNTYgMjM4LjA2IFoiIGZpbGw9IiMwMDNkNWMiIHN0cm9rZT0iI2ZmYzg0NyIgc3Ryb2tlLXdpZHRoPSI0IiBzdHJva2UtbWl0ZXJsaW1pdD0iMTAiIHBvaW50ZXItZXZlbnRzPSJhbGwiLz48ZyB0cmFuc2Zvcm09InRyYW5zbGF0ZSgtMC41IC0wLjUpIj48c3dpdGNoPjxmb3JlaWduT2JqZWN0IHBvaW50ZXItZXZlbnRzPSJub25lIiB3aWR0aD0iMTAwJSIgaGVpZ2h0PSIxMDAlIiByZXF1aXJlZEZlYXR1cmVzPSJodHRwOi8vd3d3LnczLm9yZy9UUi9TVkcxMS9mZWF0dXJlI0V4dGVuc2liaWxpdHkiIHN0eWxlPSJvdmVyZmxvdzogdmlzaWJsZTsgdGV4dC1hbGlnbjogbGVmdDsiPjxkaXYgeG1sbnM9Imh0dHA6Ly93d3cudzMub3JnLzE5OTkveGh0bWwiIHN0eWxlPSJkaXNwbGF5OiBmbGV4OyBhbGlnbi1pdGVtczogdW5zYWZlIGNlbnRlcjsganVzdGlmeS1jb250ZW50OiB1bnNhZmUgY2VudGVyOyB3aWR0aDogMjU4cHg7IGhlaWdodDogMXB4OyBwYWRkaW5nLXRvcDogMjQxcHg7IG1hcmdpbi1sZWZ0OiAzcHg7Ij48ZGl2IGRhdGEtZHJhd2lvLWNvbG9ycz0iY29sb3I6IHJnYigwLCAwLCAwKTsgIiBzdHlsZT0iYm94LXNpemluZzogYm9yZGVyLWJveDsgZm9udC1zaXplOiAwcHg7IHRleHQtYWxpZ246IGNlbnRlcjsiPjxkaXYgc3R5bGU9ImRpc3BsYXk6IGlubGluZS1ibG9jazsgZm9udC1zaXplOiAxMnB4OyBmb250LWZhbWlseTogSGVsdmV0aWNhOyBjb2xvcjogcmdiKDAsIDAsIDApOyBsaW5lLWhlaWdodDogMS4yOyBwb2ludGVyLWV2ZW50czogYWxsOyB3aGl0ZS1zcGFjZTogbm9ybWFsOyBvdmVyZmxvdy13cmFwOiBub3JtYWw7Ij48Zm9udCBjb2xvcj0iI2ZmZmZmZiI+aXNfY291bnRfdm9sdW1lID0gVHJ1ZTwvZm9udD48L2Rpdj48L2Rpdj48L2Rpdj48L2ZvcmVpZ25PYmplY3Q+PHRleHQgeD0iMTMyIiB5PSIyNDUiIGZpbGw9InJnYigwLCAwLCAwKSIgZm9udC1mYW1pbHk9IkhlbHZldGljYSIgZm9udC1zaXplPSIxMnB4IiB0ZXh0LWFuY2hvcj0ibWlkZGxlIj5pc19jb3VudF92b2x1bWUgPSBUcnVlPC90ZXh0Pjwvc3dpdGNoPjwvZz48cGF0aCBkPSJNIDEzMiA0NDEgTCAxMzIgNDc2IEwgMjYyIDQ3NiBMIDI2MiA1MDAuOSIgZmlsbD0ibm9uZSIgc3Ryb2tlPSIjZmZjODQ3IiBzdHJva2Utd2lkdGg9IjMiIHN0cm9rZS1taXRlcmxpbWl0PSIxMCIgcG9pbnRlci1ldmVudHM9InN0cm9rZSIvPjxwYXRoIGQ9Ik0gMjYyIDUwNy42NSBMIDI1Ny41IDQ5OC42NSBMIDI2MiA1MDAuOSBMIDI2Ni41IDQ5OC42NSBaIiBmaWxsPSIjZmZjODQ3IiBzdHJva2U9IiNmZmM4NDciIHN0cm9rZS13aWR0aD0iMyIgc3Ryb2tlLW1pdGVybGltaXQ9IjEwIiBwb2ludGVyLWV2ZW50cz0iYWxsIi8+PHJlY3QgeD0iMjIiIHk9IjMyMSIgd2lkdGg9IjIyMCIgaGVpZ2h0PSIxMjAiIGZpbGw9IiMwMDNkNWMiIHN0cm9rZT0iI2ZmYzg0NyIgc3Ryb2tlLXdpZHRoPSIzIiBwb2ludGVyLWV2ZW50cz0iYWxsIi8+PGcgdHJhbnNmb3JtPSJ0cmFuc2xhdGUoLTAuNSAtMC41KSI+PHN3aXRjaD48Zm9yZWlnbk9iamVjdCBwb2ludGVyLWV2ZW50cz0ibm9uZSIgd2lkdGg9IjEwMCUiIGhlaWdodD0iMTAwJSIgcmVxdWlyZWRGZWF0dXJlcz0iaHR0cDovL3d3dy53My5vcmcvVFIvU1ZHMTEvZmVhdHVyZSNFeHRlbnNpYmlsaXR5IiBzdHlsZT0ib3ZlcmZsb3c6IHZpc2libGU7IHRleHQtYWxpZ246IGxlZnQ7Ij48ZGl2IHhtbG5zPSJodHRwOi8vd3d3LnczLm9yZy8xOTk5L3hodG1sIiBzdHlsZT0iZGlzcGxheTogZmxleDsgYWxpZ24taXRlbXM6IHVuc2FmZSBjZW50ZXI7IGp1c3RpZnktY29udGVudDogdW5zYWZlIGNlbnRlcjsgd2lkdGg6IDIxOHB4OyBoZWlnaHQ6IDFweDsgcGFkZGluZy10b3A6IDM4MXB4OyBtYXJnaW4tbGVmdDogMjNweDsiPjxkaXYgZGF0YS1kcmF3aW8tY29sb3JzPSJjb2xvcjogcmdiKDAsIDAsIDApOyAiIHN0eWxlPSJib3gtc2l6aW5nOiBib3JkZXItYm94OyBmb250LXNpemU6IDBweDsgdGV4dC1hbGlnbjogY2VudGVyOyI+PGRpdiBzdHlsZT0iZGlzcGxheTogaW5saW5lLWJsb2NrOyBmb250LXNpemU6IDEycHg7IGZvbnQtZmFtaWx5OiBIZWx2ZXRpY2E7IGNvbG9yOiByZ2IoMCwgMCwgMCk7IGxpbmUtaGVpZ2h0OiAxLjI7IHBvaW50ZXItZXZlbnRzOiBhbGw7IHdoaXRlLXNwYWNlOiBub3JtYWw7IG92ZXJmbG93LXdyYXA6IG5vcm1hbDsiPjxmb250IGNvbG9yPSIjZmZmZmZmIj5jb3VudF92b2x1bWUgPSBydXN1ayoqMzxiciAvPnByaW50KCJWb2x1bWUgS3VidXMgPSIsY291bnRfdm9sdW1lKTwvZm9udD48L2Rpdj48L2Rpdj48L2Rpdj48L2ZvcmVpZ25PYmplY3Q+PHRleHQgeD0iMTMyIiB5PSIzODUiIGZpbGw9InJnYigwLCAwLCAwKSIgZm9udC1mYW1pbHk9IkhlbHZldGljYSIgZm9udC1zaXplPSIxMnB4IiB0ZXh0LWFuY2hvcj0ibWlkZGxlIj5jb3VudF92b2x1bWUgPSBydXN1ayoqMy4uLjwvdGV4dD48L3N3aXRjaD48L2c+PHBhdGggZD0iTSA0MTcgNDQxIEwgNDE3IDQ3NiBMIDI2MiA0NzYgTCAyNjIgNTAwLjkiIGZpbGw9Im5vbmUiIHN0cm9rZT0iI2ZmYzg0NyIgc3Ryb2tlLXdpZHRoPSIzIiBzdHJva2UtbWl0ZXJsaW1pdD0iMTAiIHBvaW50ZXItZXZlbnRzPSJzdHJva2UiLz48cGF0aCBkPSJNIDI2MiA1MDcuNjUgTCAyNTcuNSA0OTguNjUgTCAyNjIgNTAwLjkgTCAyNjYuNSA0OTguNjUgWiIgZmlsbD0iI2ZmYzg0NyIgc3Ryb2tlPSIjZmZjODQ3IiBzdHJva2Utd2lkdGg9IjMiIHN0cm9rZS1taXRlcmxpbWl0PSIxMCIgcG9pbnRlci1ldmVudHM9ImFsbCIvPjxyZWN0IHg9IjI1MiIgeT0iMzIxIiB3aWR0aD0iMzMwIiBoZWlnaHQ9IjEyMCIgZmlsbD0iIzAwM2Q1YyIgc3Ryb2tlPSIjZmZjODQ3IiBzdHJva2Utd2lkdGg9IjMiIHBvaW50ZXItZXZlbnRzPSJhbGwiLz48ZyB0cmFuc2Zvcm09InRyYW5zbGF0ZSgtMC41IC0wLjUpIj48c3dpdGNoPjxmb3JlaWduT2JqZWN0IHBvaW50ZXItZXZlbnRzPSJub25lIiB3aWR0aD0iMTAwJSIgaGVpZ2h0PSIxMDAlIiByZXF1aXJlZEZlYXR1cmVzPSJodHRwOi8vd3d3LnczLm9yZy9UUi9TVkcxMS9mZWF0dXJlI0V4dGVuc2liaWxpdHkiIHN0eWxlPSJvdmVyZmxvdzogdmlzaWJsZTsgdGV4dC1hbGlnbjogbGVmdDsiPjxkaXYgeG1sbnM9Imh0dHA6Ly93d3cudzMub3JnLzE5OTkveGh0bWwiIHN0eWxlPSJkaXNwbGF5OiBmbGV4OyBhbGlnbi1pdGVtczogdW5zYWZlIGNlbnRlcjsganVzdGlmeS1jb250ZW50OiB1bnNhZmUgY2VudGVyOyB3aWR0aDogMzI4cHg7IGhlaWdodDogMXB4OyBwYWRkaW5nLXRvcDogMzgxcHg7IG1hcmdpbi1sZWZ0OiAyNTNweDsiPjxkaXYgZGF0YS1kcmF3aW8tY29sb3JzPSJjb2xvcjogcmdiKDAsIDAsIDApOyAiIHN0eWxlPSJib3gtc2l6aW5nOiBib3JkZXItYm94OyBmb250LXNpemU6IDBweDsgdGV4dC1hbGlnbjogY2VudGVyOyI+PGRpdiBzdHlsZT0iZGlzcGxheTogaW5saW5lLWJsb2NrOyBmb250LXNpemU6IDEycHg7IGZvbnQtZmFtaWx5OiBIZWx2ZXRpY2E7IGNvbG9yOiByZ2IoMCwgMCwgMCk7IGxpbmUtaGVpZ2h0OiAxLjI7IHBvaW50ZXItZXZlbnRzOiBhbGw7IHdoaXRlLXNwYWNlOiBub3JtYWw7IG92ZXJmbG93LXdyYXA6IG5vcm1hbDsiPjxmb250IGNvbG9yPSIjZmZmZmZmIj5jb3VudF9sdWFzX3Blcm11a2FhbiA9IDYqcnVzdWsqKjI8YnIgLz5wcmludCgiTHVhcyBQZXJtdWthYW4gS3VidXMgPSIsY291bnRfbHVhc19wZXJtdWthYW7CoCk8L2ZvbnQ+PC9kaXY+PC9kaXY+PC9kaXY+PC9mb3JlaWduT2JqZWN0Pjx0ZXh0IHg9IjQxNyIgeT0iMzg1IiBmaWxsPSJyZ2IoMCwgMCwgMCkiIGZvbnQtZmFtaWx5PSJIZWx2ZXRpY2EiIGZvbnQtc2l6ZT0iMTJweCIgdGV4dC1hbmNob3I9Im1pZGRsZSI+Y291bnRfbHVhc19wZXJtdWthYW4gPSA2KnJ1c3VrKioyLi4uPC90ZXh0Pjwvc3dpdGNoPjwvZz48cmVjdCB4PSIyMDIiIHk9IjUxMSIgd2lkdGg9IjEyMCIgaGVpZ2h0PSI2MCIgcng9IjkiIHJ5PSI5IiBmaWxsPSIjMDAzZDVjIiBzdHJva2U9IiNmZmM4NDciIHN0cm9rZS13aWR0aD0iMyIgcG9pbnRlci1ldmVudHM9ImFsbCIvPjxnIHRyYW5zZm9ybT0idHJhbnNsYXRlKC0wLjUgLTAuNSkiPjxzd2l0Y2g+PGZvcmVpZ25PYmplY3QgcG9pbnRlci1ldmVudHM9Im5vbmUiIHdpZHRoPSIxMDAlIiBoZWlnaHQ9IjEwMCUiIHJlcXVpcmVkRmVhdHVyZXM9Imh0dHA6Ly93d3cudzMub3JnL1RSL1NWRzExL2ZlYXR1cmUjRXh0ZW5zaWJpbGl0eSIgc3R5bGU9Im92ZXJmbG93OiB2aXNpYmxlOyB0ZXh0LWFsaWduOiBsZWZ0OyI+PGRpdiB4bWxucz0iaHR0cDovL3d3dy53My5vcmcvMTk5OS94aHRtbCIgc3R5bGU9ImRpc3BsYXk6IGZsZXg7IGFsaWduLWl0ZW1zOiB1bnNhZmUgY2VudGVyOyBqdXN0aWZ5LWNvbnRlbnQ6IHVuc2FmZSBjZW50ZXI7IHdpZHRoOiAxMThweDsgaGVpZ2h0OiAxcHg7IHBhZGRpbmctdG9wOiA1NDFweDsgbWFyZ2luLWxlZnQ6IDIwM3B4OyI+PGRpdiBkYXRhLWRyYXdpby1jb2xvcnM9ImNvbG9yOiByZ2IoMCwgMCwgMCk7ICIgc3R5bGU9ImJveC1zaXppbmc6IGJvcmRlci1ib3g7IGZvbnQtc2l6ZTogMHB4OyB0ZXh0LWFsaWduOiBjZW50ZXI7Ij48ZGl2IHN0eWxlPSJkaXNwbGF5OiBpbmxpbmUtYmxvY2s7IGZvbnQtc2l6ZTogMTJweDsgZm9udC1mYW1pbHk6IEhlbHZldGljYTsgY29sb3I6IHJnYigwLCAwLCAwKTsgbGluZS1oZWlnaHQ6IDEuMjsgcG9pbnRlci1ldmVudHM6IGFsbDsgd2hpdGUtc3BhY2U6IG5vcm1hbDsgb3ZlcmZsb3ctd3JhcDogbm9ybWFsOyI+PGZvbnQgY29sb3I9IiNmZmZmZmYiPnN0YXJ0PC9mb250PjwvZGl2PjwvZGl2PjwvZGl2PjwvZm9yZWlnbk9iamVjdD48dGV4dCB4PSIyNjIiIHk9IjU0NSIgZmlsbD0icmdiKDAsIDAsIDApIiBmb250LWZhbWlseT0iSGVsdmV0aWNhIiBmb250LXNpemU9IjEycHgiIHRleHQtYW5jaG9yPSJtaWRkbGUiPnN0YXJ0PC90ZXh0Pjwvc3dpdGNoPjwvZz48L2c+PHN3aXRjaD48ZyByZXF1aXJlZEZlYXR1cmVzPSJodHRwOi8vd3d3LnczLm9yZy9UUi9TVkcxMS9mZWF0dXJlI0V4dGVuc2liaWxpdHkiLz48YSB0cmFuc2Zvcm09InRyYW5zbGF0ZSgwLC01KSIgeGxpbms6aHJlZj0iaHR0cHM6Ly93d3cuZGlhZ3JhbXMubmV0L2RvYy9mYXEvc3ZnLWV4cG9ydC10ZXh0LXByb2JsZW1zIiB0YXJnZXQ9Il9ibGFuayI+PHRleHQgdGV4dC1hbmNob3I9Im1pZGRsZSIgZm9udC1zaXplPSIxMHB4IiB4PSI1MCUiIHk9IjEwMCUiPlRleHQgaXMgbm90IFNWRyAtIGNhbm5vdCBkaXNwbGF5PC90ZXh0PjwvYT48L3N3aXRjaD48L3N2Zz4=)"
   ]
  },
  {
   "cell_type": "markdown",
   "metadata": {},
   "source": [
    "### Problem 4A \n",
    "Buatlah Program nested branching untuk mencari Volume kubus sesuai dengan flowchart yang tercantum diatas dengan rusuk bernilai 6"
   ]
  },
  {
   "cell_type": "code",
   "execution_count": null,
   "metadata": {},
   "outputs": [],
   "source": [
    "nama_bangun_ruang = \"kubus\"\n",
    "is_count_volume = True \n",
    "\n",
    "#kubus\n",
    "rusuk = 6\n",
    "\n",
    "#nested branching kubus\n",
    "if nama_bangun_ruang == \"kubus\":\n",
    "    if is_count_volume == True:\n",
    "        count_volume = rusuk**3\n",
    "        print(f\"Volume = {count_volume}\")\n",
    "    else:\n",
    "        count_luas_permukaan = 6*rusuk**2\n",
    "        print(f\"Luas Permukaan Kubus = {count_luas_permukaan_}\")\n"
   ]
  },
  {
   "cell_type": "markdown",
   "metadata": {},
   "source": [
    "### Problem 4B \n",
    "Buatlah program nested branching untuk mencari luas permukaan balok dengan panjang, lebar, dan tinggi masing-masing sepanjang 6, 5, 9\n",
    "\n",
    "\n",
    "\n"
   ]
  },
  {
   "cell_type": "code",
   "execution_count": 5,
   "metadata": {},
   "outputs": [
    {
     "name": "stdout",
     "output_type": "stream",
     "text": [
      "Volume = 270\n"
     ]
    }
   ],
   "source": [
    "#balok\n",
    "nama_bangun_ruang = \"balok\"\n",
    "is_count_volume = True\n",
    "\n",
    "panjang = 6\n",
    "lebar = 5\n",
    "tinggi = 9\n",
    "\n",
    "#nested branching balok\n",
    "if nama_bangun_ruang == \"balok\":\n",
    "    if is_count_volume == True:\n",
    "        count_volume = panjang*lebar*tinggi\n",
    "        print(f\"Volume = {count_volume}\")\n",
    "    else:\n",
    "        count_luas_permukaan = 2*panjang*lebar + 2*panjang*tinggi + 2*lebar*tinggi\n",
    "        print(f\"Luas Permukaan Balok = {count_luas_permukaan}\")"
   ]
  },
  {
   "cell_type": "markdown",
   "metadata": {},
   "source": [
    "### Problem 4C \n",
    "Gabungkan ketiga perhitungan volume dan luas permukaan bangun ruang diatas kedalam satu program nested branching. Lalu hitunglah untuk menghitung Volume tabung dengan jari-jari 14 dan tinggi tabung 8. Jika bukan selain ketiga tabung yang ditentukan maka buatlah output \"tidak tersedia\"\n"
   ]
  },
  {
   "cell_type": "code",
   "execution_count": 6,
   "metadata": {},
   "outputs": [
    {
     "name": "stdout",
     "output_type": "stream",
     "text": [
      "Volume = 4923.52\n"
     ]
    }
   ],
   "source": [
    "# Tulis jawaban dibawah ini\n",
    "nama_bangun_ruang = \"tabung\"\n",
    "is_count_volume = True \n",
    "\n",
    "#Tabung\n",
    "jari_jari = 14\n",
    "tinggi = 8\n",
    "\n",
    "if nama_bangun_ruang == \"kubus\":\n",
    "    if is_count_volume == True:\n",
    "        count_volume = rusuk ** 3\n",
    "        print(f\"Volume = {count_volume}\")\n",
    "    else:\n",
    "        count_luas_permukaan = 6 * rusuk ** 2\n",
    "        print(f\"Luas Permukaan Kubus = {count_luas_permukaan}\")\n",
    "\n",
    "elif nama_bangun_ruang == \"balok\":\n",
    "    if is_count_volume == True:\n",
    "        count_volume = panjang * lebar * tinggi\n",
    "        print(f\"Volume = {count_volume}\")\n",
    "    else:\n",
    "        count_luas_permukaan = 2 * panjang * lebar + 2 * panjang * tinggi + 2 * lebar * tinggi\n",
    "        print(f\"Luas Permukaan Balok = {count_luas_permukaan}\")\n",
    "\n",
    "elif nama_bangun_ruang == \"tabung\":\n",
    "    PI = 3.14\n",
    "    if is_count_volume == True:\n",
    "        count_volume = PI * jari_jari ** 2 * tinggi  \n",
    "        print(f\"Volume = {count_volume}\")\n",
    "    else:\n",
    "        count_luas_permukaan = 2 * PI * jari_jari * (jari_jari + tinggi)\n",
    "        print(f\"Luas Permukaan Tabung = {count_luas_permukaan}\")\n",
    "else:\n",
    "    print(\"Bangun ruang belum tersedia\")\n"
   ]
  }
 ],
 "metadata": {
  "kernelspec": {
   "display_name": "Python 3",
   "language": "python",
   "name": "python3"
  },
  "language_info": {
   "codemirror_mode": {
    "name": "ipython",
    "version": 3
   },
   "file_extension": ".py",
   "mimetype": "text/x-python",
   "name": "python",
   "nbconvert_exporter": "python",
   "pygments_lexer": "ipython3",
   "version": "3.7.4"
  }
 },
 "nbformat": 4,
 "nbformat_minor": 4
}

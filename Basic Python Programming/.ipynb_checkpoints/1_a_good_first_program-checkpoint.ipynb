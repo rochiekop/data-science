{
 "cells": [
  {
   "cell_type": "markdown",
   "metadata": {},
   "source": [
    "# **Pertemuan #1 - A Good First Program**\n",
    "Python Course - Sekolah Data - Pacmann Academy"
   ]
  },
  {
   "cell_type": "markdown",
   "metadata": {},
   "source": [
    "## **Outline**\n",
    "\n",
    "1. Printing\n",
    "2. Variabel\n",
    "3. More Printing\n",
    "4. Commenting\n",
    "5. Error and How to Solve!"
   ]
  },
  {
   "cell_type": "markdown",
   "metadata": {},
   "source": [
    "### **Printing**\n",
    "**Case Study 1**\n",
    "- Sebagai pengalaman ngoding awal, kita bisa menampilkan sesuatu lewat Python.\n",
    "- Kita dapat menampilkan text maupun angka menggunakan perintah print pada Python.\n",
    "- Caranya ialah dengan menggunakan perintah print melalui syntax di bawah ini:\n",
    "```python\n",
    "print(\"<TEXT YANG INGIN DITAMPILKAN>\")\n",
    "```\n",
    "```python\n",
    "print(<ANGKA YANG INGIN DITAMPILKAN>)\n",
    "```\n",
    "- Ketika kita ingin menampilkan atau print angka yang berjumlah besar, kita bisa menggunakan [underscore](https://stackoverflow.com/questions/54009778/what-do-underscores-in-a-number-mean) `(_)` untuk mempermudah orang lain atau kita sendiri ketika membaca code kita (human readable)\n",
    "\n",
    "Semisal kita ingin mengeluarkan angka 100.000.000 maka akan seperti berikut\n",
    "```python\n",
    "print(100_000_000)\n",
    "```"
   ]
  },
  {
   "cell_type": "markdown",
   "metadata": {},
   "source": [
    "#### **1a**\n",
    "Misalkan kita ingin menampilkan kalimat Halo Dunia!\n"
   ]
  },
  {
   "cell_type": "code",
   "execution_count": 3,
   "metadata": {},
   "outputs": [
    {
     "name": "stdout",
     "output_type": "stream",
     "text": [
      "Halo Dunia!\n"
     ]
    }
   ],
   "source": [
    "print(\"Halo Dunia!\")"
   ]
  },
  {
   "cell_type": "markdown",
   "metadata": {},
   "source": [
    "#### **1b**\n",
    "Misalkan kita ingin menampilkan kalimat **Saya sedang belajar menampilkan text**\n"
   ]
  },
  {
   "cell_type": "code",
   "execution_count": 4,
   "metadata": {},
   "outputs": [
    {
     "name": "stdout",
     "output_type": "stream",
     "text": [
      "Saya sedang belajar menampilkan text\n"
     ]
    }
   ],
   "source": [
    "# Code in here\n",
    "print(\"Saya sedang belajar menampilkan text\")"
   ]
  },
  {
   "cell_type": "markdown",
   "metadata": {},
   "source": [
    "#### **1c**\n",
    "Misalkan kita ingin menampilkan bulan lahir kita (dalam bentuk angka)! (sesuaikan dengan bulan lahir teman - teman)"
   ]
  },
  {
   "cell_type": "code",
   "execution_count": 6,
   "metadata": {},
   "outputs": [],
   "source": [
    "# Code in here\n",
    "birth_month = 8"
   ]
  },
  {
   "cell_type": "markdown",
   "metadata": {},
   "source": [
    "#### **1d**\n",
    "- Misalkan Antono membeli meja sebanyak 6 meja.\n",
    "- Cobalah print jumlah meja yang dibeli oleh Antono!"
   ]
  },
  {
   "cell_type": "code",
   "execution_count": 7,
   "metadata": {},
   "outputs": [
    {
     "name": "stdout",
     "output_type": "stream",
     "text": [
      "6\n"
     ]
    }
   ],
   "source": [
    "# Code in here\n",
    "print(6)"
   ]
  },
  {
   "cell_type": "markdown",
   "metadata": {},
   "source": [
    "#### **1e**\n",
    "- Semisal Andi memiliki Coffee Shop dengan nama \"PaperCup Coffee\".\n",
    "- Cobalah print nama Coffee Shop yang dimiliki oleh Andi!"
   ]
  },
  {
   "cell_type": "code",
   "execution_count": 8,
   "metadata": {},
   "outputs": [
    {
     "name": "stdout",
     "output_type": "stream",
     "text": [
      "PaperCup Coffee\n"
     ]
    }
   ],
   "source": [
    "# Code in here\n",
    "print(\"PaperCup Coffee\")"
   ]
  },
  {
   "cell_type": "markdown",
   "metadata": {},
   "source": [
    "#### **1f**\n",
    "- Toko PaperCup Coffee memiliki menu Butter Croissant dengan harga Rp 35.000\n",
    "- Cobalah print harga menu Butter Croissant!"
   ]
  },
  {
   "cell_type": "code",
   "execution_count": null,
   "metadata": {},
   "outputs": [],
   "source": [
    "# Code in here\n",
    "print(35000)"
   ]
  },
  {
   "cell_type": "markdown",
   "metadata": {},
   "source": [
    "#### **1g**\n",
    "- PaperCup Coffee memiliki menu baru yaitu \"Salted Caramel Chip\".\n",
    "- Cobalah print nama menu terbaru yang ada di PaperCup Coffee!"
   ]
  },
  {
   "cell_type": "code",
   "execution_count": 11,
   "metadata": {},
   "outputs": [
    {
     "name": "stdout",
     "output_type": "stream",
     "text": [
      "Salted Caramel Chip\n"
     ]
    }
   ],
   "source": [
    "# Code in here\n",
    "print(\"Salted Caramel Chip\")"
   ]
  },
  {
   "cell_type": "markdown",
   "metadata": {},
   "source": [
    "### **Variables**\n",
    "**Case Study 2**\n",
    "\n",
    "- Variabel merupakan tempat menyimpan sebuah nilai ataupun data.\n",
    "- Kita dapat membuat variabel dengan menggunakan syntax sebagai berikut: \n",
    "```python\n",
    "nama_variabel = <nilai>\n",
    "```\n",
    "- Nilai dapat berupa teks maupun angka/bilangan.\n",
    "\n",
    "#### ADDITIONAL RESOURCES\n",
    "- Kita juga bisa memasukkan banyak nilai ke dalam banyak variable, contoh:\n",
    "```python\n",
    "num_1, num_2, num_3 = 1, 2, 3\n",
    "```\n",
    "\n",
    "- Lalu, kita juga bisa menyimpan sebuah nilai yang Constant ke dalam vairable. \n",
    "- Constant adalah sebuah nilai nya yang tidak bisa diganti atau diubah atau sudah saklek\n",
    "- Untuk penulisan variable nya menggunakan huruf kapital semua, contoh:\n",
    "```python\n",
    "PI = 3.14\n",
    "GRAVITY = 9.8\n",
    "PAJAK = 0.11\n",
    "```\n",
    "\n",
    "[Referensi Tambahan](https://www.programiz.com/python-programming/variables-constants-literals)"
   ]
  },
  {
   "cell_type": "markdown",
   "metadata": {},
   "source": [
    "#### **2a**\n",
    "Misalkan kita ingin membuat sebuah variabel yang menyimpan nama kita\n",
    "\n",
    "- Nama Variabel = nama\n",
    "- Isi dari Variabel = \"nama kita\""
   ]
  },
  {
   "cell_type": "code",
   "execution_count": 20,
   "metadata": {},
   "outputs": [],
   "source": [
    "# Code in here\n",
    "name = \"Rochi Eko Pambudi\""
   ]
  },
  {
   "cell_type": "markdown",
   "metadata": {},
   "source": [
    "#### **2b**\n",
    "Misalkan kita ingin membuat sebuah variabel yang menyimpan text **\"Saya sedang belajar cara membuat variabel\"**\n",
    "\n",
    "- Nama Variabel = text\n",
    "- Isi dari Variabel = \"Saya sedang belajar membuat variabel\""
   ]
  },
  {
   "cell_type": "code",
   "execution_count": 13,
   "metadata": {},
   "outputs": [
    {
     "name": "stdout",
     "output_type": "stream",
     "text": [
      "Saya sedang belajar cara membuat variabel\n"
     ]
    }
   ],
   "source": [
    "# Code in here\n",
    "text = \"Saya sedang belajar cara membuat variabel\"\n",
    "print(text)"
   ]
  },
  {
   "cell_type": "markdown",
   "metadata": {},
   "source": [
    "#### **2c**\n",
    "- Semisal Andi memiliki Coffee Shop dengan nama \"PaperCup Coffee\".\n",
    "- Coba buatlah variable yang berguna untuk menyimpan text nama Coffee Shop milik Andi!"
   ]
  },
  {
   "cell_type": "code",
   "execution_count": null,
   "metadata": {},
   "outputs": [],
   "source": [
    "# Code in here\n",
    "coffe_shop = \"PaperCup Coffe\""
   ]
  },
  {
   "cell_type": "markdown",
   "metadata": {},
   "source": [
    "#### **2d**\n",
    "- Toko PaperCup Coffee memiliki menu Butter Croissant dengan harga Rp 35.000\n",
    "- Coba buatlah variable yang menyimpan harga Butter Croissant!"
   ]
  },
  {
   "cell_type": "code",
   "execution_count": 19,
   "metadata": {},
   "outputs": [
    {
     "name": "stdout",
     "output_type": "stream",
     "text": [
      "35000\n"
     ]
    }
   ],
   "source": [
    "# Code in here\n",
    "price = 35000\n",
    "print(price)"
   ]
  },
  {
   "cell_type": "markdown",
   "metadata": {},
   "source": [
    "#### **2e**\n",
    "- PaperCup Coffee memiliki menu baru yaitu \"Salted Caramel Chip\".\n",
    "- Coba buat variable untuk menyimpan nilai menu baru dari PaperCup Coffee!"
   ]
  },
  {
   "cell_type": "code",
   "execution_count": 21,
   "metadata": {},
   "outputs": [],
   "source": [
    "# Code in here\n",
    "new_menu = \"Salted Caramel Chip\""
   ]
  },
  {
   "cell_type": "markdown",
   "metadata": {},
   "source": [
    "#### **2f**\n",
    "James Hoffman pergi ke PaperCup Coffee milik Andi, setelah mencicipi kopi buatan toko tersebut James termotivasi untuk membuat kopi sendiri ketika di rumah nanti. James pergi ke Supermarket untuk membeli keperluan membuat kopi, berikut adalah barang yang dibeli dan harganya:\n",
    "- Biji Kopi yang dibeli adalah **\"Ethiopian Coffee Beans\"** dengan harga **Rp 115.000**\n",
    "- Alat yang dibutuhkan untuk menyeduh kopi sendiri James membeli alat **\"V60\"** dengan harga **Rp 95.500**\n",
    "\n",
    "Coba buat variable untuk menyimpan nilai sesuai dengan soal cerita!!"
   ]
  },
  {
   "cell_type": "code",
   "execution_count": 23,
   "metadata": {},
   "outputs": [],
   "source": [
    "# Code in here\n",
    "coffe_bean = \"Ethiopian Coffee Beans\"\n",
    "coffe_bean_price = 115000\n",
    "coffe_maker = \"V60\"\n",
    "coffe_maker_price = 95500"
   ]
  },
  {
   "cell_type": "markdown",
   "metadata": {},
   "source": [
    "#### **2g**\n",
    "Perhatikan contoh variabel di bawah ini!\n",
    "```python\n",
    "harga_tas_yang_baru_saya_beli = 125000\n",
    "harga_tas = 125000\n",
    "```\n",
    "\n",
    "- Pada Video Learning sebelumnya, kita telah belajar mengenai Bad and Good Variables. \n",
    "- Contoh variabel di atas merupakan variabel yang buruk.\n",
    "- Penamaan variabel yang pertama merupakan contoh dari bad variabel karena terlalu panjang dan tidak ringkas. \n",
    "- Sedangkan penamaan variabel yang kedua merupakan contoh dari good variabel, karena lebih ringkas dan tidak bertele-tele.\n",
    "\n",
    "[Referensi Pembuatan Good Variables](https://github.com/Geo-Python/site/blob/master/source/notebooks/L1/gcp-1-variable-naming.ipynb)"
   ]
  },
  {
   "cell_type": "code",
   "execution_count": 24,
   "metadata": {},
   "outputs": [],
   "source": [
    "# Code in here\n",
    "harga_tas_yang_baru_saya_beli = 125000\n",
    "harga_tas = 125000"
   ]
  },
  {
   "cell_type": "markdown",
   "metadata": {},
   "source": [
    "### **More Printing**\n",
    "**Case Study 3**"
   ]
  },
  {
   "cell_type": "markdown",
   "metadata": {},
   "source": [
    "#### **3a**\n",
    "\n",
    "Setelah sebelumnya kita telah belajar mengenai variabel, maka sekarang kita akan belajar bagaimana caranya menampilkan isi dari variabel yang telah kita buat sebelumnya.\n",
    "\n",
    "Misalkan kita telah membuat sebuah variabel yang menyimpan nama lengkap \n",
    "dan ingin menampilkan isinya.\n",
    "\n",
    "- nama = \"Bill Gates\"\n",
    "- print(nama)"
   ]
  },
  {
   "cell_type": "code",
   "execution_count": 25,
   "metadata": {},
   "outputs": [
    {
     "name": "stdout",
     "output_type": "stream",
     "text": [
      "Bill Gates\n"
     ]
    }
   ],
   "source": [
    "# Code in here\n",
    "name = \"Bill Gates\"\n",
    "print(name)"
   ]
  },
  {
   "cell_type": "markdown",
   "metadata": {},
   "source": [
    "#### **3b**\n",
    "Misalkan kita telah membuat sebuah variabel dan ingin menampilkan isinya\n",
    "- text = \"Saya sedang belajar bahasa pemrograman python\"\n",
    "- print(text)"
   ]
  },
  {
   "cell_type": "code",
   "execution_count": 26,
   "metadata": {},
   "outputs": [
    {
     "name": "stdout",
     "output_type": "stream",
     "text": [
      "Saya sedang belajar bahasa pemrograman python\n"
     ]
    }
   ],
   "source": [
    "# Code in here\n",
    "text = \"Saya sedang belajar bahasa pemrograman python\"\n",
    "print(text)"
   ]
  },
  {
   "cell_type": "markdown",
   "metadata": {},
   "source": [
    "#### **3c**\n",
    "\n",
    "Apakah output yang akan dihasilkan dari potongan *code* di bawah ini?\n",
    "- nama = \"Bill Gates\"\n",
    "- umur = 66\n",
    "- print(Ini adalah %s. Beliau berumur %s tahun.\" % (nama, umur))"
   ]
  },
  {
   "cell_type": "code",
   "execution_count": 29,
   "metadata": {},
   "outputs": [
    {
     "name": "stdout",
     "output_type": "stream",
     "text": [
      "Ini adalah Bill Gates. Beliau berumur 66 tahun.\n"
     ]
    }
   ],
   "source": [
    "# Code in here\n",
    "name = \"Bill Gates\"\n",
    "age = 66\n",
    "print(\"Ini adalah %s. Beliau berumur %s tahun.\" % (name, age))"
   ]
  },
  {
   "cell_type": "markdown",
   "metadata": {},
   "source": [
    "#### **3d**\n",
    "\n",
    "\n",
    "- Semisal Andi memiliki Coffee Shop dengan nama \"PaperCup Coffee\".\n",
    "- Cobalah masukkan nilai nama toko milik Andi ke dalam variable dan print variable tersebut!\n",
    "- Tuliskan code yang sesuai dengan output yang diinginkan"
   ]
  },
  {
   "cell_type": "code",
   "execution_count": 34,
   "metadata": {},
   "outputs": [
    {
     "name": "stdout",
     "output_type": "stream",
     "text": [
      "Nama Coffee Shop milik Andi adalah PaperCup Coffe\n",
      "Nama Coffee Shop milik Andi adalah PaperCup Coffe\n"
     ]
    }
   ],
   "source": [
    "coffe_shop = \"PaperCup Coffe\"\n",
    "print(\"Nama Coffee Shop milik Andi adalah %s\"%coffe_shop)\n",
    "print(f\"Nama Coffee Shop milik Andi adalah {coffe_shop}\")"
   ]
  },
  {
   "cell_type": "markdown",
   "metadata": {},
   "source": [
    "#### **3e**\n",
    "\n",
    "- Toko PaperCup Coffee memiliki menu Butter Croissant dengan harga Rp 35.000\n",
    "- Cobalah masukkan nilai nama menu dan harga menu tersebut ke dalam variable dan print variable tersebut!\n",
    "- Tuliskan code yang sesuai dengan output yang diinginkan"
   ]
  },
  {
   "cell_type": "code",
   "execution_count": 38,
   "metadata": {},
   "outputs": [
    {
     "name": "stdout",
     "output_type": "stream",
     "text": [
      "Menu favorit di PaperCup Coffee adalah Butter Croissant dengan harga 35000\n"
     ]
    }
   ],
   "source": [
    "menu_croissant =\"Butter Croissant\"\n",
    "croissant_price = 35000\n",
    "print(f\"Menu favorit di PaperCup Coffee adalah {menu_croissant} dengan harga {croissant_price}\")"
   ]
  },
  {
   "cell_type": "markdown",
   "metadata": {},
   "source": [
    "#### **3f**\n",
    "\n",
    "James Hoffman pergi ke PaperCup Coffee milik Andi, setelah mencicipi kopi buatan toko tersebut James termotivasi untuk membuat kopi sendiri ketika di rumah nanti. James pergi ke Supermarket untuk membeli keperluan membuat kopi, berikut adalah barang yang dibeli dan harganya:\n",
    "- Biji Kopi yang dibeli adalah **\"Ethiopian Coffee Beans\"** dengan harga **Rp 115.000**\n",
    "- Alat yang dibutuhkan untuk menyeduh kopi sendiri James membeli alat **\"V60\"** dengan harga **Rp 95.500**\n",
    "\n",
    "\n",
    "Cobalah masukkan nilai - nilai tersebut ke dalam variable dan buatlah code yang sesuai dengan output!"
   ]
  },
  {
   "cell_type": "code",
   "execution_count": 39,
   "metadata": {},
   "outputs": [
    {
     "name": "stdout",
     "output_type": "stream",
     "text": [
      "Biji Kopi yang dibeli oleh James Hoffman adalah Ethiopian Coffee Beans dengan harga 115000\n",
      "Alat untuk menyeduh kopi yang dibeli oleh James Hoffman adalah V60 dengan harga 95500\n"
     ]
    }
   ],
   "source": [
    "# Code in here\n",
    "coffe_bean = \"Ethiopian Coffee Beans\"\n",
    "coffe_bean_price = 115000\n",
    "coffe_maker = \"V60\"\n",
    "coffe_maker_price = 95500\n",
    "print(f\"Biji Kopi yang dibeli oleh James Hoffman adalah {coffe_bean} dengan harga {coffe_bean_price}\")\n",
    "print(f\"Alat untuk menyeduh kopi yang dibeli oleh James Hoffman adalah {coffe_maker} dengan harga {coffe_maker_price}\")"
   ]
  },
  {
   "cell_type": "markdown",
   "metadata": {},
   "source": [
    "### **Commenting**\n",
    "**Case Study 4**\n",
    "- Commenting merupakan sebuah komentar yang digunakan untuk memperjelas maksud dari sebuah proses ataupun sebuah perintah. \n",
    "- Apabila dijalankan commenting tidak akan melakukan eksekusi apapun.\n",
    "- Commenting diperlukan untuk mempermudah kita mengerti suatu program. \n",
    "- Commenting juga akan mempermudah orang lain yang hendak membaca program kita kelak.\n",
    "\n",
    "[Contoh Commenting](https://github.com/scikit-learn/scikit-learn/blob/main/sklearn/linear_model/_logistic.py)"
   ]
  },
  {
   "cell_type": "markdown",
   "metadata": {},
   "source": [
    "#### **4a**\n",
    "\n",
    "Berilah komentar pada *code* di bawah ini menggunakan inline comment!\n",
    "\n",
    "- harga_kopi = 39500\n",
    "- print(harga_kopi)"
   ]
  },
  {
   "cell_type": "code",
   "execution_count": 46,
   "metadata": {},
   "outputs": [
    {
     "name": "stdout",
     "output_type": "stream",
     "text": [
      "39500\n"
     ]
    }
   ],
   "source": [
    "# Code in here\n",
    "harga_kopi = 39500 # untuk menampung nilai harga kopi\n",
    "print(harga_kopi) # untuk mengeluarkan nilai dari variabel harga_kopi"
   ]
  },
  {
   "cell_type": "markdown",
   "metadata": {},
   "source": [
    "#### **4b**\n",
    "\n",
    "Terdapat dua code di bawah ini\n",
    "\n",
    "```python\n",
    "\n",
    "ayam_goreng = 25000\n",
    "es_teh_tawar = 3000\n",
    "kerupuk = 1000\n",
    "PAJAK = 0.11\n",
    "\n",
    "total_harga = (ayam_goreng + es_teh_tawar + (kerupuk * 4)) * PAJAK # Mencari total harga\n",
    "total_harga = (ayam_goreng + es_teh_tawar + (kerupuk * 4)) * PAJAK # Ini adalah baris yang digunakan untuk mencari total harga yang dimana didapatkan dari ayam_goreng ditambah es_teh_tawar ditambah kerupuk dan kena diskon\n",
    "```\n",
    "\n",
    "Manakah code yang memiliki komentar yang baik?"
   ]
  },
  {
   "cell_type": "markdown",
   "metadata": {},
   "source": [
    "Isi titik - titik di bawah ini!\n",
    "\n",
    "First Comment"
   ]
  },
  {
   "cell_type": "markdown",
   "metadata": {},
   "source": [
    "### **Error**\n",
    "\n",
    "Ketika mendapati suatu error, ada beberapa langkah yang dapat kita lakukan untuk dapat mengatasinya, yaitu:\n",
    "- Perhatikan error outputnya\n",
    "- Cobalah untuk googling mengenai error tersebut\n",
    "- Kemudian cobalah code yang telah digoogling sebelumnya\n",
    "- Apabila masih belum *solve*, cobalah untuk googling kembali\n",
    "\n",
    "**Case Study 5**\n",
    "\n",
    "Budi baru saja pulang berbelanja dan ia merasa bahwa uang yang habiskan terlalu banyak hari ini. Ia pun kemudian melist barang belanjaannya hari ini, yaitu sebagai berikut\n",
    "- Jaket: 250.000\n",
    "- Sepatu: 300.000\n",
    "- Tas: 200.000"
   ]
  },
  {
   "cell_type": "markdown",
   "metadata": {},
   "source": [
    "#### **5a**\n",
    "Misalkan kita melakukan print pada harga jaket yang budi beli menggunakan perintah dibawah ini:\n",
    "```python\n",
    "PRINT(250000):\n",
    "```"
   ]
  },
  {
   "cell_type": "code",
   "execution_count": 51,
   "metadata": {},
   "outputs": [
    {
     "ename": "SyntaxError",
     "evalue": "invalid syntax (<ipython-input-51-27182688e078>, line 2)",
     "output_type": "error",
     "traceback": [
      "\u001b[1;36m  File \u001b[1;32m\"<ipython-input-51-27182688e078>\"\u001b[1;36m, line \u001b[1;32m2\u001b[0m\n\u001b[1;33m    print(250000):\u001b[0m\n\u001b[1;37m                  ^\u001b[0m\n\u001b[1;31mSyntaxError\u001b[0m\u001b[1;31m:\u001b[0m invalid syntax\n"
     ]
    }
   ],
   "source": [
    "# Code in here\n",
    "print(250000):"
   ]
  },
  {
   "cell_type": "markdown",
   "metadata": {},
   "source": [
    "Setelah program dijalankan, maka kita akan mengetahui error yang kita dapatkan. Dalam hal ini, error yang kita dapatkan yaitu invalid syntax. Untuk itu kita perlu memperbaiki syntax dari program yang telah kita buat."
   ]
  },
  {
   "cell_type": "code",
   "execution_count": 53,
   "metadata": {},
   "outputs": [
    {
     "name": "stdout",
     "output_type": "stream",
     "text": [
      "250000\n"
     ]
    }
   ],
   "source": [
    "# Code in here\n",
    "print(250_000)"
   ]
  },
  {
   "cell_type": "markdown",
   "metadata": {},
   "source": [
    "#### **5b**\n",
    "\n",
    "Misalkan nama barang-barang yang telah dibeli oleh budi kita masukkan ke dalam variabel, kemudian kita lakukan print pada salah satu variabel tersebut!\n",
    "\n",
    "- jaket = 250000\n",
    "- sepatu = 300000\n",
    "- tas = 200000\n",
    "\n",
    "print(TAS)"
   ]
  },
  {
   "cell_type": "code",
   "execution_count": 54,
   "metadata": {},
   "outputs": [
    {
     "ename": "NameError",
     "evalue": "name 'TAS' is not defined",
     "output_type": "error",
     "traceback": [
      "\u001b[1;31m---------------------------------------------------------------------------\u001b[0m",
      "\u001b[1;31mNameError\u001b[0m                                 Traceback (most recent call last)",
      "\u001b[1;32m<ipython-input-54-3518fb4d4221>\u001b[0m in \u001b[0;36m<module>\u001b[1;34m\u001b[0m\n\u001b[0;32m      3\u001b[0m \u001b[0mtas\u001b[0m \u001b[1;33m=\u001b[0m \u001b[1;36m200000\u001b[0m\u001b[1;33m\u001b[0m\u001b[1;33m\u001b[0m\u001b[0m\n\u001b[0;32m      4\u001b[0m \u001b[1;33m\u001b[0m\u001b[0m\n\u001b[1;32m----> 5\u001b[1;33m \u001b[0mprint\u001b[0m\u001b[1;33m(\u001b[0m\u001b[0mTAS\u001b[0m\u001b[1;33m)\u001b[0m\u001b[1;33m\u001b[0m\u001b[1;33m\u001b[0m\u001b[0m\n\u001b[0m",
      "\u001b[1;31mNameError\u001b[0m: name 'TAS' is not defined"
     ]
    }
   ],
   "source": [
    "jaket = 250000\n",
    "sepatu = 300000\n",
    "tas = 200000\n",
    "\n",
    "print(TAS)"
   ]
  },
  {
   "cell_type": "markdown",
   "metadata": {},
   "source": [
    "Setelah program dijalankan, maka kita akan mengetahui error yang kita dapatkan. Dalam hal ini, error yang kita dapatkan yaitu **name 'TAS' is not defined**\n",
    "Itu artinya variabel TAS tidak pernah kita deklarasikan sebelumnya, karena yang kita deklarasikan yaitu variabel **tas** bukan **TAS**. "
   ]
  },
  {
   "cell_type": "code",
   "execution_count": 55,
   "metadata": {},
   "outputs": [
    {
     "name": "stdout",
     "output_type": "stream",
     "text": [
      "200000\n"
     ]
    }
   ],
   "source": [
    "# Code in here\n",
    "jaket = 250000\n",
    "sepatu = 300000\n",
    "tas = 200000\n",
    "\n",
    "print(tas)"
   ]
  },
  {
   "cell_type": "markdown",
   "metadata": {},
   "source": [
    "#### **5c**\n",
    "\n",
    "Misalkan kita ingin menjalankan potongan code di bawah ini\n",
    "\n",
    "- print(\"harga jaket adalah 250.000\")\n",
    "    - print(\"harga sepatu adalah 300.000\")\n",
    "- print(\"harga tas adalah 200.000\")"
   ]
  },
  {
   "cell_type": "code",
   "execution_count": 56,
   "metadata": {},
   "outputs": [
    {
     "ename": "IndentationError",
     "evalue": "unexpected indent (<ipython-input-56-560c3cf1f387>, line 3)",
     "output_type": "error",
     "traceback": [
      "\u001b[1;36m  File \u001b[1;32m\"<ipython-input-56-560c3cf1f387>\"\u001b[1;36m, line \u001b[1;32m3\u001b[0m\n\u001b[1;33m    print(\"harga sepatu adalah 300.000\")\u001b[0m\n\u001b[1;37m    ^\u001b[0m\n\u001b[1;31mIndentationError\u001b[0m\u001b[1;31m:\u001b[0m unexpected indent\n"
     ]
    }
   ],
   "source": [
    "# Code in here\n",
    "print(\"harga jaket adalah 250.000\")\n",
    "    print(\"harga sepatu adalah 300.000\")\n",
    "print(\"harga tas adalah 200.000\")"
   ]
  },
  {
   "cell_type": "markdown",
   "metadata": {},
   "source": [
    "Setelah program dijalankan, maka kita akan mengetahui error yang kita dapatkan. Dalam hal ini, error yang kita dapatkan yaitu unexpected indent. Artinya ada indent yang tidak sesuai pada program kita. Sehingga kita harus menyesuaikan indentnya."
   ]
  },
  {
   "cell_type": "code",
   "execution_count": null,
   "metadata": {},
   "outputs": [],
   "source": [
    "# Code in here\n",
    "print(\"harga jaket adalah 250.000\")\n",
    "print(\"harga sepatu adalah 300.000\")\n",
    "print(\"harga tas adalah 200.000\")"
   ]
  },
  {
   "cell_type": "markdown",
   "metadata": {},
   "source": [
    "#### **5d**\n",
    "\n",
    "Pada section **Printing** sempat di mention kalau ingin menampilkan atau print angka dengan jumlah yang besar kita menggunakan underscore `(_)`.\n",
    "\n",
    "Bagaimana jika kita menggunakan titik `(.)` sebagai pemisah?"
   ]
  },
  {
   "cell_type": "code",
   "execution_count": 58,
   "metadata": {},
   "outputs": [
    {
     "ename": "SyntaxError",
     "evalue": "invalid syntax (<ipython-input-58-9bc78bb233d8>, line 3)",
     "output_type": "error",
     "traceback": [
      "\u001b[1;36m  File \u001b[1;32m\"<ipython-input-58-9bc78bb233d8>\"\u001b[1;36m, line \u001b[1;32m3\u001b[0m\n\u001b[1;33m    print(100.000.000)\u001b[0m\n\u001b[1;37m                    ^\u001b[0m\n\u001b[1;31mSyntaxError\u001b[0m\u001b[1;31m:\u001b[0m invalid syntax\n"
     ]
    }
   ],
   "source": [
    "# Code in here\n",
    "\n",
    "print(100.000.000)"
   ]
  },
  {
   "cell_type": "code",
   "execution_count": 59,
   "metadata": {},
   "outputs": [
    {
     "name": "stdout",
     "output_type": "stream",
     "text": [
      "100000000\n"
     ]
    }
   ],
   "source": [
    "# Code in here\n",
    "print(100_000_000)"
   ]
  }
 ],
 "metadata": {
  "kernelspec": {
   "display_name": "Python 3",
   "language": "python",
   "name": "python3"
  },
  "language_info": {
   "codemirror_mode": {
    "name": "ipython",
    "version": 3
   },
   "file_extension": ".py",
   "mimetype": "text/x-python",
   "name": "python",
   "nbconvert_exporter": "python",
   "pygments_lexer": "ipython3",
   "version": "3.7.4"
  }
 },
 "nbformat": 4,
 "nbformat_minor": 4
}

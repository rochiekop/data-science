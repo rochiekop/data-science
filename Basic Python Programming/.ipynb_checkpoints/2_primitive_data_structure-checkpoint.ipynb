{
 "cells": [
  {
   "cell_type": "markdown",
   "metadata": {},
   "source": [
    "# **Pertemuan #2 - Primitive Data Structure**\n",
    "\n",
    "Introduction to Python Course - Sekolah Data - Pacmann Academy"
   ]
  },
  {
   "cell_type": "markdown",
   "metadata": {},
   "source": [
    "**Outline**\n",
    "\n",
    "1. Review\n",
    "2. Case 1 - Menghitung Gaji Karyawan\n",
    "3. Case 2 - Menghitung Pajak Kendaraan\n",
    "4. Case 3 - Edit Hasil Scrapping Media Sosial\n",
    "5. Case 4 - Percetakan Banner"
   ]
  },
  {
   "cell_type": "markdown",
   "metadata": {},
   "source": [
    "## **Review**\n",
    "---\n",
    "\n",
    "Materi yang sudah anda pelajari pada video learning Primitive Data Type adalah sebagai berikut:\n",
    "```\n",
    "  1. integer - bilangan bulat\n",
    "  2. float - bilangan desimal\n",
    "  3. string - karakter yang di definisikan dengan tanda kutip\n",
    "  4. bolean (tidak dipelajari di materi ini) \n",
    "```\n",
    "Cara untuk cek tipe data pada python bisa dengan syntax `type(VALUE)`\n",
    "\n",
    "---\n",
    "Jika dalam satu ekspresi matematika terdapat lebih dari satu operasi, maka harus di selesaikan berdasarkan operasi yang lebih tinggi prioritasnya. Untuk lebih mudah mengingat aturan ini bisa menggunakan akronim PEMDAS. \n",
    "\n",
    "```\n",
    "- Parentheses -- ()\n",
    "- Exponentiation -- **\n",
    "- Multiplication -- *\n",
    "- Division -- /\n",
    "- Addition -- +\n",
    "- Substraction -- -\n",
    "```\n",
    "---\n",
    "String adalah kumpulan huruf kata atau karakter lain. Pada Python, string didefinisikan dengan tanda kutip (`\"\"`). Tipe data string juga memiliki operator, operator yang sering digunakan di antaranya \n",
    "```\n",
    "- Concatenation\n",
    "- Repetition\n",
    "- Slicing\n",
    "```\n",
    "\n",
    "String di Python juga memiliki beberapa method atau fungsi. method yang sering digunakan diantaranya :\n",
    "\n",
    "\n",
    "```\n",
    "- len()\n",
    "- upper()\n",
    "- lower()\n",
    "- count()\n",
    "- find()\n",
    "- replace()\n",
    "- capitalize()\n",
    "- title()\n",
    "```\n",
    "---\n",
    "\n"
   ]
  },
  {
   "cell_type": "markdown",
   "metadata": {},
   "source": [
    "## **Review**\n",
    "---\n",
    "\n",
    "Materi yang sudah anda pelajari pada video learning Primitive Data Type adalah sebagai berikut:\n",
    "```\n",
    "  1. integer - bilangan bulat\n",
    "  2. float - bilangan desimal\n",
    "  3. string - karakter yang di definisikan dengan tanda kutip\n",
    "  4. bolean (tidak dipelajari di materi ini) \n",
    "```\n",
    "Cara untuk cek tipe data pada python bisa dengan syntax `type(VALUE)`\n",
    "\n",
    "---\n",
    "Jika dalam satu ekspresi matematika terdapat lebih dari satu operasi, maka harus di selesaikan berdasarkan operasi yang lebih tinggi prioritasnya. Untuk lebih mudah mengingat aturan ini bisa menggunakan akronim PEMDAS. \n",
    "\n",
    "```\n",
    "- Parentheses -- ()\n",
    "- Exponentiation -- **\n",
    "- Multiplication -- *\n",
    "- Division -- /\n",
    "- Addition -- +\n",
    "- Substraction -- -\n",
    "```\n",
    "---\n",
    "String adalah kumpulan huruf kata atau karakter lain. Pada Python, string didefinisikan dengan tanda kutip (`\"\"`). Tipe data string juga memiliki operator, operator yang sering digunakan di antaranya \n",
    "```\n",
    "- Concatenation\n",
    "- Repetition\n",
    "- Slicing\n",
    "```\n",
    "\n",
    "String di Python juga memiliki beberapa method atau fungsi. method yang sering digunakan diantaranya :\n",
    "\n",
    "\n",
    "```\n",
    "- len()\n",
    "- upper()\n",
    "- lower()\n",
    "- count()\n",
    "- find()\n",
    "- replace()\n",
    "- capitalize()\n",
    "- title()\n",
    "```\n",
    "---\n",
    "\n",
    "**TAMBAHAN**\n",
    "\n",
    "**Casting Variabel:**\n",
    "\n",
    "Casting variabel adalah membangun atau mengubah sebuah variabel dari tipe data lain menjadi tipe data yang kita inginkan\n",
    "\n",
    "Contoh:\n",
    "\n",
    "`string_1 = \"46.7\"`\n",
    "\n",
    "Kita akan mengubah variabel `string_1` di atas menjadi tipe data `float`. Caranya:\n",
    "\n",
    "\n",
    "```python\n",
    "numb_float = float(string_1)\n",
    "print(type(numb_float))\n",
    "output: class 'float'\n",
    "```\n",
    "\n",
    "Variabel `numb_float` tersebut juga bisa kita ubah menjadi tipe data `integer`. Caranya:\n",
    "```python\n",
    "numb_float = 46.7\n",
    "numb_int=int(46.7)\n",
    "print(type(numb_int))\n",
    "output: class 'int'\n",
    "```\n",
    "\n",
    "Untuk tipe data `string`, caranya juga berlaku seperti cara sebelumnya\n",
    "\n",
    "\n",
    "```python\n",
    "numb_int = 46\n",
    "string_2 = str(numb_int)\n",
    "print(type(string_2))\n",
    "output:class 'str'\n",
    "```\n",
    "\n",
    "---\n",
    "**Limiting Float Decimal Point**\n",
    "\n",
    "Jika kita berhadapan dengan tipe data float dengan angka di belakang koma yang banyak, kita bisa menyederhanakan jumlah angkanya menjadi yang kita inginkan.\n",
    "\n",
    "Cara pertama bisa menggunakan method `round()`. Method ini akan membulatkan bilangan dibelakang koma menjadi yang kita inginkan.\n",
    "\n",
    "\n",
    "contoh: \n",
    "\n",
    "```python\n",
    "numb_1 = 14.33733\n",
    "round_num = round(num_1, 2) # 2 disini merupakan jumlah angka di belakang koma\n",
    "print(round_num)\n",
    "output=14.34\n",
    "```\n",
    "\n",
    "Jika menggunakan f-string, kita bisa lebih mudah menggunakan sintaks (`.2f`). Sintaks tersebut akan membulatkan dua angka di belakang koma. Angka 2 tersebut bisa anda ganti dengan berapapun angka yang kita inginkan\n",
    "\n",
    "Contoh:\n",
    "```python\n",
    "numb_2 = 14.33733\n",
    "print(f\"angka = {numb_2: .2f}\")\n",
    "output = 14.34\n",
    "```\n"
   ]
  },
  {
   "cell_type": "markdown",
   "metadata": {},
   "source": [
    "## **Case Study 1: Menghitung Gaji Karyawan**\n",
    "___\n"
   ]
  },
  {
   "cell_type": "markdown",
   "metadata": {},
   "source": [
    "Pak Bakir adalah seorang manager di sebuah Perusahaan B. Beliau ingin menghitung gaji karyawannya selama satu bulan secara keseluruhan. Daftar karyawan Pak Bakir ada di bawah ini.\n",
    "\n",
    "|No|Nama|Jam Kerja|Jam Lembur | Upah Kerja (Kotor) | Upah Lembur | Total Upah | Pajak | Total Upah (Netto)\n",
    "|----|---|---|---|---|---|---|---|---|\n",
    "|1|Joko|44|12|\n",
    "|2|Alex | 48 | 11 |\n",
    "|3|Chandra | 50 | 10 |\n",
    "|4|Hartono | 42 | 15 |\n",
    "|5|Samsul | 45 | 12 |\n"
   ]
  },
  {
   "cell_type": "markdown",
   "metadata": {},
   "source": [
    "#### **1A**"
   ]
  },
  {
   "cell_type": "markdown",
   "metadata": {},
   "source": [
    "Hitunglah Upah Kerja (Kotor) dari seluruh karyawan Perusahaan B jika diketahui upah per jam adalah Rp 30000\n",
    "\n",
    "\n",
    "Tampilkan output sebagai berikut\n",
    "```\n",
    "Contoh:\n",
    "Upah Kerja (Kotor) Doni = Rp 380000\n",
    "```\n",
    "\n",
    "```\n",
    "Keterangan : \n",
    "- Upah per jam = 30000\n",
    "- Upah Kerja (Kotor) = Jam Kerja x Upah per Jam\n",
    "```\n"
   ]
  },
  {
   "cell_type": "code",
   "execution_count": 7,
   "metadata": {},
   "outputs": [
    {
     "name": "stdout",
     "output_type": "stream",
     "text": [
      "Upah Kerja (Kotor) Joko = Rp.1320000\n",
      "Upah Kerja (Kotor) Alex = Rp.1440000\n",
      "Upah Kerja (Kotor) Chandra = Rp.1500000\n",
      "Upah Kerja (Kotor) Chandra = Rp.1260000\n",
      "Upah Kerja (Kotor) Samsul = Rp.1350000\n"
     ]
    }
   ],
   "source": [
    "# Jawab disini\n",
    "\n",
    "# definisikan upah per jam sebagai variabel konstant\n",
    "WAGES_PER_HOURS = 30_000\n",
    "\n",
    "# upah joko\n",
    "# definisikan nama variabel untuk menampung nama karyawan 1 atau Joko\n",
    "employee_1 = \"Joko\"\n",
    "\n",
    "# definisikan variabel untuk menampung jam kerja karyawan 1\n",
    "number_of_hours = 44\n",
    "\n",
    "# hitung upah kotor karyawan 1\n",
    "gross_wages_e_1 = number_of_hours * WAGES_PER_HOURS \n",
    "\n",
    "# tampilkan upah kerja (kotor) karyawan 1\n",
    "print(f\"Upah Kerja (Kotor) {employee_1} = Rp.{gross_wages_e_1}\")\n",
    "\n",
    "# untuk karyawan yang lain, lakukan seperti code di atas\n",
    "\n",
    "# upah Alex\n",
    "employee_2 = \"Alex\"\n",
    "\n",
    "number_of_hours = 48\n",
    "\n",
    "gross_wages_e_2 = number_of_hours * WAGES_PER_HOURS \n",
    "\n",
    "print(f\"Upah Kerja (Kotor) {employee_2} = Rp.{gross_wages_e_2}\")\n",
    "\n",
    "# upah Chandra\n",
    "employee_3 = \"Chandra\"\n",
    "\n",
    "number_of_hours = 50\n",
    "\n",
    "gross_wages_e_3 = number_of_hours * WAGES_PER_HOURS \n",
    "\n",
    "print(f\"Upah Kerja (Kotor) {employee_3} = Rp.{gross_wages_e_3}\")\n",
    "\n",
    "# upah Hartono\n",
    "employee_4 = \"Chandra\"\n",
    "\n",
    "number_of_hours = 42\n",
    "\n",
    "gross_wages_e_4 = number_of_hours * WAGES_PER_HOURS \n",
    "\n",
    "print(f\"Upah Kerja (Kotor) {employee_4} = Rp.{gross_wages_e_4}\")\n",
    "\n",
    "\n",
    "# upah Samsul\n",
    "employee_5 = \"Samsul\"\n",
    "\n",
    "number_of_hours = 45\n",
    "\n",
    "gross_wages_e_5 = number_of_hours * WAGES_PER_HOURS \n",
    "\n",
    "print(f\"Upah Kerja (Kotor) {employee_5} = Rp.{gross_wages_e_5}\")\n",
    "\n"
   ]
  },
  {
   "cell_type": "markdown",
   "metadata": {},
   "source": [
    "#### **1B**\n",
    "\n",
    "\n"
   ]
  },
  {
   "cell_type": "markdown",
   "metadata": {},
   "source": [
    "\n",
    "Hitunglah Upah Lembur dari seluruh karyawan Perusahaan B\n",
    "\n",
    "Tampilkan  output sebagai berikut:\n",
    "contoh\n",
    "```\n",
    "contoh:\n",
    "Upah Lembur Doni = Rp 23000\n",
    "```\n",
    "\n",
    "\n",
    "```\n",
    "Keterangan : \n",
    "- Upah lembur per jam = 35000\n",
    "- Upah Lembur = Jam Lembur x Upah lembur per jam\n",
    "```\n"
   ]
  },
  {
   "cell_type": "code",
   "execution_count": 15,
   "metadata": {},
   "outputs": [
    {
     "name": "stdout",
     "output_type": "stream",
     "text": [
      "Upah Lembur Joko = Rp.420000\n",
      "Upah Lembur Alex = Rp.385000\n",
      "Upah Lembur Chandra = Rp.350000\n",
      "Upah Lembur Hartono = Rp.525000\n",
      "Upah Lembur Samsul = Rp.420000\n"
     ]
    }
   ],
   "source": [
    "# Jawab disini\n",
    "\n",
    "# definisikan upah lebur per jam sebagai variabel konstant\n",
    "OVERTIME_PER_HOURS = 35_000\n",
    "\n",
    "# Upah lembur Joko\n",
    "# definisikan variabel untuk menampung jam lebur karyawan 1 atau Joko\n",
    "employee_1 = \"Joko\"\n",
    "\n",
    "# hitung upah lebur karyawan 1 atau Joko\n",
    "number_overtime_hours = 12\n",
    "\n",
    "overtime_e_1 =  number_overtime_hours * OVERTIME_PER_HOURS\n",
    "\n",
    "# tampilkan upah lembur karyawan 1\n",
    "print(f\"Upah Lembur {employee_1} = Rp.{overtime_e_1}\")\n",
    "\n",
    "# untuk karyawan yang lain, lakukan seperti kode di atas\n",
    "\n",
    "# Upah lembur Alex\n",
    "employee_2 = \"Alex\"\n",
    "\n",
    "number_overtime_hours = 11\n",
    "\n",
    "overtime_e_2 =  number_overtime_hours * OVERTIME_PER_HOURS\n",
    "\n",
    "print(f\"Upah Lembur {employee_2} = Rp.{overtime_e_2}\")\n",
    "\n",
    "# Upah lembur Chandra\n",
    "employee_3 = \"Chandra\"\n",
    "\n",
    "number_overtime_hours = 10\n",
    "\n",
    "overtime_e_3 =  number_overtime_hours * OVERTIME_PER_HOURS\n",
    "\n",
    "print(f\"Upah Lembur {employee_3} = Rp.{overtime_e_3}\")\n",
    "\n",
    "# Upah lembur Hartono\n",
    "employee_4 = \"Hartono\"\n",
    "\n",
    "number_overtime_hours = 15\n",
    "\n",
    "overtime_e_4 =  number_overtime_hours * OVERTIME_PER_HOURS\n",
    "\n",
    "print(f\"Upah Lembur {employee_4} = Rp.{overtime_e_4}\")\n",
    "\n",
    "# Upah lembur Samsul\n",
    "employee_5 = \"Samsul\"\n",
    "\n",
    "number_overtime_hours = 12\n",
    "\n",
    "overtime_e_5 =  number_overtime_hours * OVERTIME_PER_HOURS\n",
    "\n",
    "print(f\"Upah Lembur {employee_5} = Rp.{overtime_e_5}\")\n"
   ]
  },
  {
   "cell_type": "markdown",
   "metadata": {},
   "source": [
    "#### **1C**"
   ]
  },
  {
   "cell_type": "markdown",
   "metadata": {},
   "source": [
    "Hitunglah Total Upah dari seluruh karyawan Perusahaan B\n",
    "\n",
    "Tampilkan output sebagai berikut:\n",
    "```\n",
    "Contoh :\n",
    "Total Upah Doni = RP 49000\n",
    "```\n",
    "\n",
    "```\n",
    "Keterangan : \n",
    "Total Upah = Upah Kerja (Kotor) + Upah Lembur\n",
    "```\n",
    "\n"
   ]
  },
  {
   "cell_type": "code",
   "execution_count": 18,
   "metadata": {},
   "outputs": [
    {
     "name": "stdout",
     "output_type": "stream",
     "text": [
      "Total Upah (Netto) Joko = Rp 1740000\n",
      "Total Upah (Netto) Alex = Rp 1825000\n",
      "Total Upah (Netto) Chandra = Rp 1850000\n",
      "Total Upah (Netto) Hartono = Rp 1785000\n",
      "Total Upah (Netto) Samsul = Rp 1770000\n"
     ]
    }
   ],
   "source": [
    "# Jawab disini\n",
    "gross_salary_e_1 = gross_wages_e_1 + overtime_e_1\n",
    "gross_salary_e_2 = gross_wages_e_2 + overtime_e_2\n",
    "gross_salary_e_3 = gross_wages_e_3 + overtime_e_3\n",
    "gross_salary_e_4 = gross_wages_e_4 + overtime_e_4\n",
    "gross_salary_e_5 = gross_wages_e_5 + overtime_e_5\n",
    "print(f\"Total Upah (Netto) {employee_1} = Rp {gross_salary_e_1}\")\n",
    "print(f\"Total Upah (Netto) {employee_2} = Rp {gross_salary_e_2}\")\n",
    "print(f\"Total Upah (Netto) {employee_3} = Rp {gross_salary_e_3}\")\n",
    "print(f\"Total Upah (Netto) {employee_4} = Rp {gross_salary_e_4}\")      \n",
    "print(f\"Total Upah (Netto) {employee_5} = Rp {gross_salary_e_5}\")      "
   ]
  },
  {
   "cell_type": "markdown",
   "metadata": {},
   "source": [
    "#### **1D**"
   ]
  },
  {
   "cell_type": "markdown",
   "metadata": {},
   "source": [
    "Jika persentase pajak karyawan adalah 5%, hitunglah Pajak dari setiap karyawan Perusahaan B\n",
    "\n",
    "Tampilkan output sebagai berikut:\n",
    "\n",
    "\n",
    "\n",
    "```\n",
    "Contoh:\n",
    "`Total Pajak Doni = Rp 5000`\n",
    "```\n",
    "\n",
    "\n",
    "\n",
    "`Keterangan : Pajak = Total upah x 5%`"
   ]
  },
  {
   "cell_type": "code",
   "execution_count": 21,
   "metadata": {},
   "outputs": [
    {
     "name": "stdout",
     "output_type": "stream",
     "text": [
      "Total Pajak Joko = Rp 87000.0\n",
      "Total Pajak Joko = Rp 91250.0\n",
      "Total Pajak Joko = Rp 92500.0\n",
      "Total Pajak Joko = Rp 89250.0\n",
      "Total Pajak Joko = Rp 88500.0\n"
     ]
    }
   ],
   "source": [
    "# Jawab disini \n",
    "TAX = 5/100\n",
    "tax_e_1 = gross_salary_e_1 * TAX\n",
    "tax_e_2 = gross_salary_e_2 * TAX\n",
    "tax_e_3 = gross_salary_e_3 * TAX\n",
    "tax_e_4 = gross_salary_e_4 * TAX\n",
    "tax_e_5 = gross_salary_e_5 * TAX\n",
    "\n",
    "print(f\"Total Pajak Joko = Rp {tax_e_1}\")\n",
    "print(f\"Total Pajak Joko = Rp {tax_e_2}\")\n",
    "print(f\"Total Pajak Joko = Rp {tax_e_3}\")\n",
    "print(f\"Total Pajak Joko = Rp {tax_e_4}\")\n",
    "print(f\"Total Pajak Joko = Rp {tax_e_5}\")"
   ]
  },
  {
   "cell_type": "markdown",
   "metadata": {},
   "source": [
    "#### **1E**"
   ]
  },
  {
   "cell_type": "markdown",
   "metadata": {},
   "source": [
    "Hitunglah Total Upah (Netto) dari setiap karyawan Perusahaan B\n",
    "\n",
    "Tampilkan output seperti berikut:\n",
    "\n",
    "```\n",
    "Contoh:\n",
    "Total Upah (Netto) Doni = Rp 65000\n",
    "```\n",
    "\n",
    "```\n",
    "Keterangan : \n",
    "Total Upah (Netto) = Total Upah - Pajak \n",
    "```\n",
    "\n"
   ]
  },
  {
   "cell_type": "code",
   "execution_count": 22,
   "metadata": {},
   "outputs": [
    {
     "name": "stdout",
     "output_type": "stream",
     "text": [
      "Total Upah (Netto) Joko  = Rp 1653000.0\n",
      "Total Upah (Netto) Alex  = Rp 1733750.0\n",
      "Total Upah (Netto) Chandra  = Rp 1757500.0\n",
      "Total Upah (Netto) Hartono  = Rp 1695750.0\n",
      "Total Upah (Netto) Samsul  = Rp 1681500.0\n"
     ]
    }
   ],
   "source": [
    "salary_nett_e_1 = gross_salary_e_1 - tax_e_1\n",
    "salary_nett_e_2 = gross_salary_e_2 - tax_e_2\n",
    "salary_nett_e_3 = gross_salary_e_3 - tax_e_3\n",
    "salary_nett_e_4 = gross_salary_e_4 - tax_e_4\n",
    "salary_nett_e_5 = gross_salary_e_5 - tax_e_5\n",
    "\n",
    "print(f\"Total Upah (Netto) {employee_1}  = Rp {salary_nett_e_1}\")\n",
    "print(f\"Total Upah (Netto) {employee_2}  = Rp {salary_nett_e_2}\")\n",
    "print(f\"Total Upah (Netto) {employee_3}  = Rp {salary_nett_e_3}\")\n",
    "print(f\"Total Upah (Netto) {employee_4}  = Rp {salary_nett_e_4}\")\n",
    "print(f\"Total Upah (Netto) {employee_5}  = Rp {salary_nett_e_5}\")"
   ]
  },
  {
   "cell_type": "markdown",
   "metadata": {},
   "source": [
    "#### **1F** \n",
    "\n",
    "Berapakah jumlah total upah seluruh karyawan Perusahaan B?\n",
    "\n",
    "Tampilkan output sebagai berikut:\n",
    "\n",
    "\n",
    "```\n",
    "Contoh:\n",
    "Jumlah total upah karyawan Perusahaan X adalah = Rp 300000\n",
    "```\n",
    "\n"
   ]
  },
  {
   "cell_type": "code",
   "execution_count": 24,
   "metadata": {},
   "outputs": [
    {
     "name": "stdout",
     "output_type": "stream",
     "text": [
      "Jumlah total upah karyawan Perusahaan B adalah = Rp 8521500.0\n"
     ]
    }
   ],
   "source": [
    "total_salary = salary_nett_e_1 + salary_nett_e_2 + salary_nett_e_3 + salary_nett_e_4 + salary_nett_e_5\n",
    "\n",
    "print(f\"Jumlah total upah karyawan Perusahaan B adalah = Rp {total_salary}\")"
   ]
  },
  {
   "cell_type": "markdown",
   "metadata": {},
   "source": [
    "#### **1G**\n",
    "\n",
    "Berapakah jumlah rata-rata upah seluruh karyawan Perusahaan B?\n",
    "\n",
    "Tampilkan output sebagai berikut\n",
    "\n",
    "\n",
    "```\n",
    "Contoh:\n",
    "Rata-rata upah karyawan Perusahaan B adalah = Rp 9800\n",
    "```"
   ]
  },
  {
   "cell_type": "code",
   "execution_count": 26,
   "metadata": {},
   "outputs": [
    {
     "name": "stdout",
     "output_type": "stream",
     "text": [
      "Rata-rata upah karyawan Perusahaan B adalah = 1704300.0\n"
     ]
    }
   ],
   "source": [
    "total_employees = 5\n",
    "mean = total_salary / total_employees\n",
    "print(f\"Rata-rata upah karyawan Perusahaan B adalah = {mean}\")"
   ]
  },
  {
   "cell_type": "markdown",
   "metadata": {},
   "source": [
    "## **Case Study 2: Menghitung Pajak Kendaraan**\n",
    "___\n"
   ]
  },
  {
   "cell_type": "markdown",
   "metadata": {},
   "source": [
    "Setelah bekerja cukup lama Pak Samsul memutuskan untuk membeli mobil dari uang tabungan. Sebelum membeli mobil Pak Samsul melakukan riset terlebih dahulu untuk mengetahui rincian biaya pajak mobil yang akan dibeli. Hasil riset pajak Pak Samsul adalah sebagai berikut. \n",
    "```\n",
    "- Pajak Kendaraan Bermotor (PKB): 2% Nilai Jual Kendaraan Bermotor (NJKB) atau harga jual mobil\n",
    "- Bea Balik Nama Kendaraan Bermotor (BBN KB): 10% harga jual mobil\n",
    "- Sumbangan Wajib Dana Kecelakaan Lalu Lintas Jalan (SWDKLLJ): Rp143.000\n",
    "- Biaya administrasi Tanda Nomor Kendaraan Bermotor (TNKB): Rp100.000\n",
    "- Penerbitan Surat Tanda Nomor Kendaraan (STNK) = Rp200.000\n",
    "- Pengesahan Surat Tanda Nomor Kendaraan (STNK) = Rp50.000\n",
    "- Biaya administrasi : Rp50.000\n",
    "```\n",
    "Setelah itu Pak Samsul mencari model mobil yang cocok, dan pilihan Pak Samsul tertuju pada mobil bernama XPanther. Mobil tersebut harganya Rp 200 juta."
   ]
  },
  {
   "cell_type": "markdown",
   "metadata": {},
   "source": [
    "#### **2A**"
   ]
  },
  {
   "cell_type": "markdown",
   "metadata": {},
   "source": [
    "Berapakah Pajak Tahun Pertama mobil Pak Samsul\n",
    "\n",
    "Tampilkan output sebagai berikut\n",
    "```\n",
    "Contoh:\n",
    "Pajak Tahun Pertama mobil Pak B = Rp 20000\n",
    "```\n",
    "```\n",
    "Keterangan:\n",
    "- Pajak Tahun Pertama = BBN KB + PKB + SWDKLLJ + TNKB + penerbitan STNK + biaya administrasi\n",
    "```"
   ]
  },
  {
   "cell_type": "code",
   "execution_count": 5,
   "metadata": {},
   "outputs": [
    {
     "name": "stdout",
     "output_type": "stream",
     "text": [
      "Pajak Tahun Pertama mobil Pak Samsul = Rp 24493000.0\n"
     ]
    }
   ],
   "source": [
    "# Jawab disini\n",
    "# Definisikan variabel harga jual mobil\n",
    "car_price = 200_000_000\n",
    "# Definisikan variabel yang dibutuhkan untuk menghitung pajak tahun pertama\n",
    "bbn_kb = (10/100)*car_price\n",
    "pkb = (2/100)* car_price \n",
    "swdkllj  = 143_000\n",
    "tnkb = 100_000\n",
    "stnk = 200_000\n",
    "pengesahan_stnk = 50_000\n",
    "administration = 50_000\n",
    "\n",
    "# hitung pajak tahun pertama kendaraan\n",
    "tax_first_year = bbn_kb + pkb + swdkllj + tnkb + stnk + administration\n",
    "\n",
    "# tampilkan hasil perhitungan pajak tahun pertama\n",
    "print(f\"Pajak Tahun Pertama mobil Pak Samsul = Rp {tax_first_year}\")"
   ]
  },
  {
   "cell_type": "markdown",
   "metadata": {},
   "source": [
    "#### **2B**"
   ]
  },
  {
   "cell_type": "markdown",
   "metadata": {},
   "source": [
    "\n",
    "Berapa pajak tahun-tahun selanjutnya mobil Pak Samsul?\n",
    "\n",
    "Tampilkan output sebagai berikut:\n",
    "```\n",
    "Contoh:\n",
    "Pajak Tahun-tahun berikutnya = Rp 10000\n",
    "```\n",
    "\n",
    "\n",
    "\n",
    "\n",
    "```\n",
    "keterangan:\n",
    " - Pajak tahun-tahun berikutnya = PKB + SWDKLLJ + biaya administrasi\n",
    "```"
   ]
  },
  {
   "cell_type": "code",
   "execution_count": 4,
   "metadata": {},
   "outputs": [
    {
     "name": "stdout",
     "output_type": "stream",
     "text": [
      "Pajak tahun-tahun berikutnya : 4193000.0\n"
     ]
    }
   ],
   "source": [
    "# Jawab Disini\n",
    "\n",
    "# hitung pajak tahun-tahun berikutnya\n",
    "# gunakan variabel yang sudah didefinisikan pada soal 1B\n",
    "TAX_EVERY_YEAR = 10_000\n",
    "\n",
    "# tampilkan output perhitungan\n",
    "n_tax = pkb+ swdkllj + administration\n",
    "print(f\"Pajak tahun-tahun berikutnya : {n_tax}\")"
   ]
  },
  {
   "cell_type": "markdown",
   "metadata": {},
   "source": [
    "#### **2C**"
   ]
  },
  {
   "cell_type": "markdown",
   "metadata": {},
   "source": [
    "Berapakah pajak 5 tahunan mobil Pak Samsul\n",
    "\n",
    "Tampilkan output sebagai berikut\n",
    "```\n",
    "Contoh:\n",
    "Pajak Lima Tahunan : Rp 30000\n",
    "```\n",
    "```\n",
    "Keterangan:\n",
    "- Pajak 5 tahunan = PKB + SWDKLLJ + Biaya pengesahan STNK + Biaya penerbitan STNK + Biaya administrasi TNKB + Biaya administrasi\n",
    "```"
   ]
  },
  {
   "cell_type": "code",
   "execution_count": 6,
   "metadata": {},
   "outputs": [
    {
     "name": "stdout",
     "output_type": "stream",
     "text": [
      "Pajak Lima Tahunan : 4543000.0\n"
     ]
    }
   ],
   "source": [
    "# Jawab Disini\n",
    "\n",
    "# definisikan variabel biaya pengesahan STNK dan biaya administrasi TNKB\n",
    "tax_every_five_year = 30_000\n",
    "\n",
    "# hitung pajak lima tahunan\n",
    "five_year_tax = pkb + swdkllj + pengesahan_stnk + stnk + tnkb + administration  \n",
    "\n",
    "# tampilkan hasil perhitungan pajak lima tahunan\n",
    "print(f\"Pajak Lima Tahunan : {five_year_tax}\")"
   ]
  },
  {
   "cell_type": "markdown",
   "metadata": {},
   "source": [
    "## **Case Study 3: Edit Hasil Scrapping Media Sosial**\n",
    "___\n"
   ]
  },
  {
   "cell_type": "markdown",
   "metadata": {},
   "source": [
    "Dian sedang membuat analisis sentimen untuk mengetahui sentimen masyarakat tentang Covid-19. Contoh data yang didapatkan Dian dari scrapping media sosial adalah sebagai berikut : \n",
    "\n",
    "\n",
    "```\n",
    "...\n",
    "- The situation report on #COVID19 from #WHOThailand for 29 September 2022 is now available.\n",
    "- Covid-19 lockdowns, economic crises, and household income shocks can have scarring impacts on children's education.\n",
    "- South Korea removes COVID-19 PCR testing for inbound travellers from Oct 1.\n",
    "...\n",
    "```\n",
    "\n",
    "Bantu Dian untuk mengolah data tersebut!"
   ]
  },
  {
   "cell_type": "markdown",
   "metadata": {},
   "source": [
    "\n",
    "Catatan :\n",
    "\n",
    "Untuk **menghilangkan** suatu karakter bisa menggunakan method `replace`. Maksudnya karakter tersebut **diganti atau di-replace** dengan **empty string** `(\"\")`\n",
    "\n",
    "Contoh :\n",
    "\n",
    "Kita akan menghilangkan huruf `\"b\"` dari kata `\"bisa\"`\n",
    "```python\n",
    "NAMA_VAR = \"bisa\"\n",
    "NAMA_VAR = NAMA_VAR.replace('b', \"\")\n",
    "# output\n",
    "print(NAMA_VAR)\n",
    "\"isa\"\n",
    "```\n",
    "\n",
    "\n",
    "\n",
    "\n",
    "\n",
    "\n"
   ]
  },
  {
   "cell_type": "markdown",
   "metadata": {},
   "source": [
    "#### **3A**\n",
    "\n",
    "Jika ada, hilangkan karakter tag (`#`), tanda koma (`,`) dan tanda strip (`-`) dari data tersebut."
   ]
  },
  {
   "cell_type": "code",
   "execution_count": 2,
   "metadata": {},
   "outputs": [
    {
     "name": "stdout",
     "output_type": "stream",
     "text": [
      "The situation report on COVID19 from WHOThailand for 29 September 2022 is now available.\n",
      "Covid19 lockdowns economic crises and household income shocks can have scarring impacts on children's education.\n",
      "South Korea removes COVID19 PCR testing for inbound travellers from Oct 1.\n"
     ]
    }
   ],
   "source": [
    "# jawab disini\n",
    "\n",
    "# definisikan tiga variabel untuk menyimpan kalimat tersebut\n",
    "text_1 = \"The situation report on #COVID19 from #WHOThailand for 29 September 2022 is now available.\"\n",
    "text_2 = \"Covid-19 lockdowns, economic crises, and household income shocks can have scarring impacts on children's education.\"\n",
    "text_3 = \"South Korea removes COVID-19 PCR testing for inbound travellers from Oct 1.\"\n",
    "\n",
    "# hilangkan karakter tag dengan method replace\n",
    "text_1 = text_1.replace(\"#\",\"\")\n",
    "text_2 = text_2.replace(\"#\",\"\")\n",
    "text_3 = text_3.replace(\"#\",\"\")\n",
    "# hilangkan tanda koma dengan method replace\n",
    "text_1 = text_1.replace(\",\",\"\")\n",
    "text_2 = text_2.replace(\",\",\"\")\n",
    "text_3 = text_3.replace(\",\",\"\")\n",
    "\n",
    "# hilangkan tanda strip dengan method replace\n",
    "text_1 = text_1.replace(\"-\",\"\")\n",
    "text_2 = text_2.replace(\"-\",\"\")\n",
    "text_3 = text_3.replace(\"-\",\"\")\n",
    "\n",
    "# tampilkan masing-masing kalimat tersebut\n",
    "print(text_1)\n",
    "print(text_2)\n",
    "print(text_3)"
   ]
  },
  {
   "cell_type": "markdown",
   "metadata": {},
   "source": [
    "#### **3B**\n",
    "\n",
    "Kemudian, buat semua huruf menjadi huruf kecil."
   ]
  },
  {
   "cell_type": "code",
   "execution_count": 3,
   "metadata": {},
   "outputs": [
    {
     "name": "stdout",
     "output_type": "stream",
     "text": [
      "the situation report on covid19 from whothailand for 29 september 2022 is now available.\n",
      "covid19 lockdowns economic crises and household income shocks can have scarring impacts on children's education.\n",
      "south korea removes covid19 pcr testing for inbound travellers from oct 1.\n"
     ]
    }
   ],
   "source": [
    "# buat semua huruf di masing-masing kalimat menjadi kecil\n",
    "lower_text_1 = text_1.lower()\n",
    "lower_text_2 = text_2.lower()\n",
    "lower_text_3 = text_3.lower()\n",
    "# tampilkan masing-masing kalimat tersebut\n",
    "print(lower_text_1)\n",
    "print(lower_text_2)\n",
    "print(lower_text_3)"
   ]
  },
  {
   "cell_type": "markdown",
   "metadata": {},
   "source": [
    "Referensi Tambahan: https://www.pythonmorsels.com/string-methods/"
   ]
  },
  {
   "cell_type": "markdown",
   "metadata": {},
   "source": [
    "## **Case Study 4: Percetakan Banner**\n",
    "___\n"
   ]
  },
  {
   "cell_type": "markdown",
   "metadata": {},
   "source": [
    "Lila memiliki usaha percetakan Banner di depan rumah. Dia mendapatkan pelanggan untuk mencetak banner peringatan 17 Agustus. Pelanggan meminta ada dua kalimat nanti yang akan dicetak pada banner dengan ukuran 1 * 3.\n",
    "Kalimat yang pertama \"Diragahayu Republik Indonesia ke-77\". Kalimat ke dua \"BANGKIT LEBIH CEPAT PULIH LEBIH KUAT\"\n",
    "\n",
    "\n"
   ]
  },
  {
   "cell_type": "markdown",
   "metadata": {},
   "source": [
    "#### **4A**"
   ]
  },
  {
   "cell_type": "markdown",
   "metadata": {},
   "source": [
    "Sebelum mencetak banner Lila melakukan cek dahulu. Pada kalimat pertama terdapat kesalahan kata \"Diragahayu\" yang seharusnya \"Dirgahayu\". Ubah kalimat pertama sehingga menjadi benar"
   ]
  },
  {
   "cell_type": "code",
   "execution_count": 11,
   "metadata": {},
   "outputs": [
    {
     "name": "stdout",
     "output_type": "stream",
     "text": [
      "Diragahayu Republik Indonesia ke-77\n",
      "Dirgahayu Republik Indonesia ke-77\n"
     ]
    }
   ],
   "source": [
    "# definisikan variabel untuk kalimat pertama\n",
    "banner_text_1 = \"Diragahayu Republik Indonesia ke-77\"\n",
    "print(banner_text_1)\n",
    "# ubah kata yang salah menjadi benar\n",
    "new_text_1 = banner_text_1.replace(\"a\",\"\",1)\n",
    "\n",
    "# tampilkan kalimat pertama yang sudah dibenarkan\n",
    "print(new_text_1)"
   ]
  },
  {
   "cell_type": "markdown",
   "metadata": {},
   "source": [
    "#### **4B**\n",
    "Kemudian ubah string kalimat pertama menjadi huruf kapital semuanya"
   ]
  },
  {
   "cell_type": "code",
   "execution_count": 10,
   "metadata": {},
   "outputs": [
    {
     "name": "stdout",
     "output_type": "stream",
     "text": [
      "DIRGAHAYU REPUBLIK INDONESIA KE-77\n"
     ]
    }
   ],
   "source": [
    "# gunakan variabel kalimat pertama pada soal 4A\n",
    "# ubah string kalimat pertama menjadi kapital semuanya\n",
    "cap_new_text_1 = new_text_1.upper()\n",
    "# tampilkan string yang sudah di ubah\n",
    "print(cap_new_text_1)"
   ]
  },
  {
   "cell_type": "markdown",
   "metadata": {},
   "source": [
    "#### **4C**"
   ]
  },
  {
   "cell_type": "markdown",
   "metadata": {},
   "source": [
    "Di kalimat ke dua juga terdapat kesalahan penulisan \"BANGKIT LEBIH CEPAT PULIH LEBIH KUAT\" seharusnya \"PULIH LEBIH CEPAT BANGKIT LEBIH KUAT\". Tukar kalimat BANGKIT dan PULIH tersebut sehingga menjadi benar.\n"
   ]
  },
  {
   "cell_type": "code",
   "execution_count": 17,
   "metadata": {},
   "outputs": [
    {
     "name": "stdout",
     "output_type": "stream",
     "text": [
      "BANGKIT LEBIH CEPAT BANGKIT LEBIH KUAT\n",
      "PULIH LEBIH CEPAT BANGKIT LEBIH KUAT\n"
     ]
    }
   ],
   "source": [
    "# Definisikan variabel untuk string kalimat kedua\n",
    "banner_text_2 = \"BANGKIT LEBIH CEPAT PULIH LEBIH KUAT\"\n",
    "\n",
    "# tukar kalimat bangkit dan pulih menggunakan method replace\n",
    "banner_text_2 = banner_text_2.replace(\"BANGKIT\",\"PULIH\")\n",
    "banner_text_2 = banner_text_2.replace(\"PULIH\",\"BANGKIT\")\n",
    "# tampilkan kalimat kedua yang sudah di ubah\n",
    "print(banner_text_2)\n",
    "\n",
    "\"\"\"\n",
    "Jika kita langsung mengganti dengan cara di atas maka output replace pertama\n",
    "\"PULIH LEBIH CEPAT PULIH LEBIH KUAT\"\n",
    "kemudian kita ganti kata pulih menjadi bangkit, maka output replace kedua\n",
    "\"BANGKIT LEBIH CEPAT BANGKIT LEBIH KUAT\"\n",
    "maka dari itu kita harus mengganti dengan kata yang lain dahulu\n",
    "supaya tidak ada kata yang sama\n",
    "\"\"\"\n",
    "\n",
    "# definisikan lagi variabel untuk string kalimat kedua\n",
    "banner_text_2 = \"BANGKIT LEBIH CEPAT PULIH LEBIH KUAT\"\n",
    "\n",
    "# ganti kata bangkit dengan kata selain PULIH seperti temp\n",
    "banner_text_2 = banner_text_2.replace(\"BANGKIT\",\"temp\")\n",
    "\n",
    "# ganti kata PULIH menjadi BANGKIT\n",
    "banner_text_2 = banner_text_2.replace(\"PULIH\",\"BANGKIT\")\n",
    "\n",
    "# ganti kata yang diubah pertama tadi menjadi kata PULIH\n",
    "banner_text_2 = banner_text_2.replace(\"temp\",\"PULIH\")\n",
    "\n",
    "# Tampilkan kalimat hasil yang sudah di ubah\n",
    "print(banner_text_2)\n"
   ]
  }
 ],
 "metadata": {
  "kernelspec": {
   "display_name": "Python 3",
   "language": "python",
   "name": "python3"
  },
  "language_info": {
   "codemirror_mode": {
    "name": "ipython",
    "version": 3
   },
   "file_extension": ".py",
   "mimetype": "text/x-python",
   "name": "python",
   "nbconvert_exporter": "python",
   "pygments_lexer": "ipython3",
   "version": "3.7.4"
  }
 },
 "nbformat": 4,
 "nbformat_minor": 4
}

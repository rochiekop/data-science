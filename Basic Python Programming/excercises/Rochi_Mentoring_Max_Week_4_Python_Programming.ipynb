{
  "nbformat": 4,
  "nbformat_minor": 0,
  "metadata": {
    "colab": {
      "provenance": [],
      "collapsed_sections": [
        "mXjAL-TyG8O_",
        "HBpPiNIxd7os",
        "1Lvmi7SKAR2A"
      ]
    },
    "kernelspec": {
      "name": "python3",
      "display_name": "Python 3"
    },
    "language_info": {
      "name": "python"
    }
  },
  "cells": [
    {
      "cell_type": "markdown",
      "source": [
        "# Week 4 - Python Programming\n",
        "---\n",
        "\n",
        "Mentoring Session - Job Preparation Program - Pacmann AI"
      ],
      "metadata": {
        "id": "oiHKP1fFcQg8"
      }
    },
    {
      "cell_type": "markdown",
      "source": [
        "# Task 1. Find a Double Promo User\n",
        "\n",
        "Category: Medium\n",
        "\n",
        "---"
      ],
      "metadata": {
        "id": "mXjAL-TyG8O_"
      }
    },
    {
      "cell_type": "markdown",
      "source": [
        "**Task Descriptions**\n",
        "- Given lists of `user_id`, `promo_A_status`, `promo_B_status`\n",
        "- Your task is to calculate how many user get a double promo (promo A and B)"
      ],
      "metadata": {
        "id": "ABI5GvUJG8Pc"
      }
    },
    {
      "cell_type": "markdown",
      "source": [
        "Example\n",
        "- `user_id = [3, 4, 5]`\n",
        "- `promo_A_status = [0, 1, 1]`\n",
        "  - This means, `user_id` 4 and 5 get promo A\n",
        "\n",
        "- `promo_B_status = [1, 1, 0]`\n",
        "  - This means, `user_id` 3 and 4 get promo B\n",
        "\n",
        "- So, the `user_id` whose get double promo are 1 user, that is user 4"
      ],
      "metadata": {
        "id": "XLHq0gYTG8Pd"
      }
    },
    {
      "cell_type": "markdown",
      "source": [
        "---\n",
        "**Detail input & output**\n",
        "\n",
        "There are three input:\n",
        "- `user_id`, a list\n",
        "- `promo_A_status`, a list\n",
        "- `promo_B_status`, a list\n",
        "\n",
        "There is a single output:\n",
        "- `int`"
      ],
      "metadata": {
        "id": "vEo-2aqdG8Pd"
      }
    },
    {
      "cell_type": "markdown",
      "source": [
        "---\n",
        "**Input 1**\n",
        "\n",
        "```python\n",
        "user_id = [1, 2, 3, 4, 5]\n",
        "promo_A_status = [1, 0, 1, 1, 0]\n",
        "promo_B_status = [0, 0, 1, 1, 1]\n",
        "```"
      ],
      "metadata": {
        "id": "uEvK7MaKG8Pe"
      }
    },
    {
      "cell_type": "markdown",
      "source": [
        "**Output - 1**\n",
        "```\n",
        "Number of user with double promo: 2\n",
        "```"
      ],
      "metadata": {
        "id": "PXREvNm9G8Pf"
      }
    },
    {
      "cell_type": "markdown",
      "source": [
        "---\n",
        "**Input 2**\n",
        "\n",
        "```python\n",
        "user_id = [11, 21, 34, 49, 51]\n",
        "promo_A_status = [1, 1, 0, 1, 0]\n",
        "promo_B_status = [0, 0, 0, 0, 1]\n",
        "```"
      ],
      "metadata": {
        "id": "PKYSd19CG8Pf"
      }
    },
    {
      "cell_type": "markdown",
      "source": [
        "**Output - 2**\n",
        "```\n",
        "Number of user with double promo: 0\n",
        "```"
      ],
      "metadata": {
        "id": "e-p8i00SG8Pg"
      }
    },
    {
      "cell_type": "markdown",
      "source": [
        "**Questions 1**\n",
        "\n",
        "---\n",
        "Provide the code for solving the problem"
      ],
      "metadata": {
        "id": "gBGxpAtzG8Pg"
      }
    },
    {
      "cell_type": "code",
      "execution_count": 4,
      "metadata": {
        "id": "YBvgO1y4G8Ph",
        "outputId": "1124f3d6-4720-4ed7-97a8-6aa3f9f93f32",
        "colab": {
          "base_uri": "https://localhost:8080/"
        }
      },
      "outputs": [
        {
          "output_type": "stream",
          "name": "stdout",
          "text": [
            "Number of user with double promo: 2\n"
          ]
        }
      ],
      "source": [
        "# Write your code here\n",
        "# Note: You can write your input manually\n",
        "user_id = [1, 2, 3, 4, 5]\n",
        "promo_A_status = [1, 0, 1, 1, 0]\n",
        "promo_B_status = [0, 0, 1, 1, 1]\n",
        "user_get_promo = []\n",
        "for idx in range(len(user_id)):\n",
        "  if promo_A_status[idx] == 1 and promo_B_status[idx] == 1:\n",
        "    user_get_promo.append(user_id[idx])\n",
        "print(f\"Number of user with double promo: {len(user_get_promo)}\")"
      ]
    },
    {
      "cell_type": "markdown",
      "source": [
        "# Task 2. Find a Double Promo User - Continued\n",
        "\n",
        "Category: Medium\n",
        "\n",
        "---"
      ],
      "metadata": {
        "id": "HBpPiNIxd7os"
      }
    },
    {
      "cell_type": "markdown",
      "source": [
        "**Task Descriptions**\n",
        "- Given lists of `user_id`, `promo_A_status`, `promo_B_status`\n",
        "- Your task is to find which `user_id` get double promo (promo A and B)"
      ],
      "metadata": {
        "id": "2t4h6o_Kd7ou"
      }
    },
    {
      "cell_type": "markdown",
      "source": [
        "Example\n",
        "- `user_id = [3, 4, 5]`\n",
        "- `promo_A_status = [0, 1, 1]`\n",
        "  - This means, `user_id` 4 and 5 get promo A\n",
        "\n",
        "- `promo_B_status = [1, 1, 0]`\n",
        "  - This means, `user_id` 3 and 4 get promo B\n",
        "\n",
        "- So, the `user_id` whose get double promo are `[4]`"
      ],
      "metadata": {
        "id": "Un7YVLQPFCi5"
      }
    },
    {
      "cell_type": "markdown",
      "source": [
        "---\n",
        "**Detail input & output**\n",
        "\n",
        "There are three input:\n",
        "- `user_id`, a list\n",
        "- `promo_A_status`, a list\n",
        "- `promo_B_status`, a list\n",
        "\n",
        "There is a single output:\n",
        "- a list of `user_id` with double promo"
      ],
      "metadata": {
        "id": "j860MLyGECzr"
      }
    },
    {
      "cell_type": "markdown",
      "source": [
        "---\n",
        "**Input 1**\n",
        "\n",
        "```python\n",
        "user_id = [1, 2, 3, 4, 5]\n",
        "promo_A_status = [1, 0, 1, 1, 0]\n",
        "promo_B_status = [0, 0, 1, 1, 1]\n",
        "```"
      ],
      "metadata": {
        "id": "SXFeDQkLd7ow"
      }
    },
    {
      "cell_type": "markdown",
      "source": [
        "**Output - 1**\n",
        "```\n",
        "user_id with double promo: [3, 4]\n",
        "```"
      ],
      "metadata": {
        "id": "sHSt4LBEd7ox"
      }
    },
    {
      "cell_type": "markdown",
      "source": [
        "---\n",
        "**Input 2**\n",
        "\n",
        "```python\n",
        "user_id = [11, 21, 34, 49, 51]\n",
        "promo_A_status = [1, 1, 0, 1, 0]\n",
        "promo_B_status = [0, 0, 0, 0, 1]\n",
        "```"
      ],
      "metadata": {
        "id": "xu4cr_vmEwC8"
      }
    },
    {
      "cell_type": "markdown",
      "source": [
        "**Output - 2**\n",
        "```\n",
        "user_id with double promo: []\n",
        "```"
      ],
      "metadata": {
        "id": "t3S7YYkjEwDh"
      }
    },
    {
      "cell_type": "markdown",
      "source": [
        "**Questions 1**\n",
        "\n",
        "---\n",
        "Provide the code for solving the problem"
      ],
      "metadata": {
        "id": "MZQqVz_wFlVR"
      }
    },
    {
      "cell_type": "code",
      "execution_count": 7,
      "metadata": {
        "id": "WKfZRoC5FlVb",
        "colab": {
          "base_uri": "https://localhost:8080/"
        },
        "outputId": "b5637bb3-3c59-40c9-f289-fafb76f4993d"
      },
      "outputs": [
        {
          "output_type": "stream",
          "name": "stdout",
          "text": [
            "user_id with double promo:: [3, 4]\n"
          ]
        }
      ],
      "source": [
        "# Write your code here\n",
        "# Note: You can write your input manually\n",
        "user_id = [1, 2, 3, 4, 5]\n",
        "promo_A_status = [1, 0, 1, 1, 0]\n",
        "promo_B_status = [0, 0, 1, 1, 1]\n",
        "user_get_promo = []\n",
        "for idx in range(len(user_id)):\n",
        "  if promo_A_status[idx] == 1 and promo_B_status[idx] == 1:\n",
        "    user_get_promo.append(user_id[idx])\n",
        "print(f\"user_id with double promo:: {user_get_promo}\")"
      ]
    },
    {
      "cell_type": "markdown",
      "source": [
        "# Task 3. Calculate number of gender in a data\n",
        "\n",
        "Category: Medium\n",
        "\n",
        "---"
      ],
      "metadata": {
        "id": "oMGlSKoCfuy-"
      }
    },
    {
      "cell_type": "markdown",
      "source": [
        "**Task Descriptions**\n",
        "- Given a list of gender, your task is to extract the number people in each gender and return it as a dictionary.\n",
        "\n",
        "Example\n",
        "- `a = ['male', 'female', 'male', 'female', 'female']`\n",
        "- So there are 2 males & 3 females\n",
        "- Thus our output would be `{'male': 2, 'female': 3}`"
      ],
      "metadata": {
        "id": "zA6xNheyfuzA"
      }
    },
    {
      "cell_type": "markdown",
      "source": [
        "---\n",
        "**Detail input & output**\n",
        "\n",
        "- input: `a`, list of gender\n",
        "- output: `dict`"
      ],
      "metadata": {
        "id": "_49cXcNALgQu"
      }
    },
    {
      "cell_type": "markdown",
      "source": [
        "---\n",
        "**Input - 1**\n",
        "\n",
        "```python\n",
        "a = ['male', 'female', 'female', 'male']\n",
        "```"
      ],
      "metadata": {
        "id": "mAxaxYujfuzD"
      }
    },
    {
      "cell_type": "markdown",
      "source": [
        "**Output**\n",
        "```python\n",
        "{'male': 2, 'female': 2}\n",
        "```"
      ],
      "metadata": {
        "id": "S89bi74tfuzE"
      }
    },
    {
      "cell_type": "markdown",
      "source": [
        "---\n",
        "**Input - 2**\n",
        "\n",
        "```python\n",
        "a = ['female', 'female', 'female', 'female']\n",
        "```"
      ],
      "metadata": {
        "id": "jjlTB8WCL4-R"
      }
    },
    {
      "cell_type": "markdown",
      "source": [
        "**Output**\n",
        "```python\n",
        "{'male': 0, 'female': 4}\n",
        "```"
      ],
      "metadata": {
        "id": "Ge1lVkoML4-_"
      }
    },
    {
      "cell_type": "markdown",
      "source": [
        "**Questions 1**\n",
        "\n",
        "---\n",
        "Provide the code for solving the problem"
      ],
      "metadata": {
        "id": "sQIvVCy3L_6P"
      }
    },
    {
      "cell_type": "code",
      "execution_count": 13,
      "metadata": {
        "id": "w1W-tjIML_6R",
        "colab": {
          "base_uri": "https://localhost:8080/"
        },
        "outputId": "2187d856-9bae-4979-d7db-d48bb7a5a282"
      },
      "outputs": [
        {
          "output_type": "stream",
          "name": "stdout",
          "text": [
            "{'male': 2, 'female': 2}\n"
          ]
        }
      ],
      "source": [
        "# Write your code here\n",
        "# Note: You can write your input manually\n",
        "a = ['male', 'female', 'female', 'male']\n",
        "dict_gender = {'male':0, 'female' : 0} #initiate\n",
        "for item in a:\n",
        "  dict_gender[item.lower()] +=1\n",
        "print(dict_gender)"
      ]
    },
    {
      "cell_type": "markdown",
      "source": [
        "# Task 4. Fibonacci Prime\n",
        "\n",
        "Category: Medium\n",
        "\n",
        "---"
      ],
      "metadata": {
        "id": "xsUAqsjvIBVH"
      }
    },
    {
      "cell_type": "markdown",
      "source": [
        "## Task Descriptions\n",
        "---\n",
        "- Create a function to find the first `n` Fibonacci Prime Number."
      ],
      "metadata": {
        "id": "umey3GqiIBVK"
      }
    },
    {
      "cell_type": "markdown",
      "source": [
        "**Fibonacci number**\n",
        "- Fibonacci number is a number that follows this sequence\n",
        "\n",
        "$$\n",
        "n_{i} = n_{i-1} + n_{i-2}\n",
        "$$"
      ],
      "metadata": {
        "id": "0_ax_ZPM398v"
      }
    },
    {
      "cell_type": "markdown",
      "source": [
        "- with $n_{1}=1$ and $n_{2}=1$\n",
        "- So, the first 10 Fibonacci number is\n",
        "\n",
        "$$\n",
        "1, 1, 2, 3, 5, 8, 13, 21, 34, 55\n",
        "$$"
      ],
      "metadata": {
        "id": "kwWpm7zp4Cx4"
      }
    },
    {
      "cell_type": "markdown",
      "source": [
        "**Prime number**\n",
        "- A prime number is a number which only have 2 divisors, that is $1$ and the number itself.\n",
        "- Example\n",
        "  - $2$ is a prime number. Divisors of $2$ are $1$ and $2$\n",
        "  - $10$ is **not** a prime number. Divisors of $10$ are $1$, $2$, $5$, and $10$.\n",
        "  - $13$ is a prime number. Divisors of $13$ are $1$ and $13$"
      ],
      "metadata": {
        "id": "z-x0d-cx4SbE"
      }
    },
    {
      "cell_type": "markdown",
      "source": [
        "## Detail function\n",
        "---"
      ],
      "metadata": {
        "id": "_EeYAzGD4sCG"
      }
    },
    {
      "cell_type": "markdown",
      "source": [
        "- Create a function named `fibonacci_prime` with\n",
        "  - Input `n` (integer)\n",
        "  - Output `numbers` (list), contains the first `n` Fibonacci prime number"
      ],
      "metadata": {
        "id": "jHWrNQO_4zos"
      }
    },
    {
      "cell_type": "markdown",
      "source": [
        "## Examples\n",
        "---"
      ],
      "metadata": {
        "id": "XXX4U4eA5RgM"
      }
    },
    {
      "cell_type": "markdown",
      "source": [
        "**Input 1**\n",
        "\n",
        "```python\n",
        "# Input\n",
        "res = fibonacci_prime(n = 5)\n",
        "print(res)\n",
        "```\n",
        "\n",
        "**Output 1**\n",
        "```python\n",
        "[2, 3, 5, 13, 89]\n",
        "```"
      ],
      "metadata": {
        "id": "X6-yzPcg6m5T"
      }
    },
    {
      "cell_type": "markdown",
      "source": [
        "**Input 2**\n",
        "\n",
        "```python\n",
        "# Input\n",
        "res = fibonacci_prime(n = 10)\n",
        "print(res)\n",
        "```\n",
        "\n",
        "**Output 2**\n",
        "```python\n",
        "[2, 3, 5, 13, 89, 233, 1597, 28657, 514229, 433494437]\n",
        "```"
      ],
      "metadata": {
        "id": "jYhlUltJ6-7P"
      }
    },
    {
      "cell_type": "markdown",
      "source": [
        "## Answer\n",
        "\n",
        "---\n",
        "- Provide the code for solving the problem\n",
        "- **Make sure your function follows the `Detail Function`**"
      ],
      "metadata": {
        "id": "5bdXSNiOIBVW"
      }
    },
    {
      "cell_type": "code",
      "execution_count": 69,
      "metadata": {
        "id": "ef5DHr8rIBVX",
        "colab": {
          "base_uri": "https://localhost:8080/"
        },
        "outputId": "589dacf3-cc09-4c6d-c371-4a20b602291f"
      },
      "outputs": [
        {
          "output_type": "stream",
          "name": "stdout",
          "text": [
            "[2, 3, 5, 13, 89, 233, 1597, 28657, 514229, 433494437]\n"
          ]
        }
      ],
      "source": [
        "# Write your code here\n",
        "# Note: You can write your input manually\n",
        "def is_prime(n):\n",
        "    if n <= 1:\n",
        "        return False\n",
        "    if n == 2:\n",
        "        return True\n",
        "    if n % 2 == 0:\n",
        "        return False\n",
        "    max_divisor = int(n**0.5) + 1\n",
        "    for d in range(3, max_divisor, 2):\n",
        "        if n % d == 0:\n",
        "            return False\n",
        "    return True\n",
        "\n",
        "def generate_primes(length):\n",
        "    primes = []\n",
        "    num = 2\n",
        "    while len(primes) < length:\n",
        "        if is_prime(num):\n",
        "            primes.append(num)\n",
        "        num += 1\n",
        "    return primes\n",
        "\n",
        "\n",
        "def fibonacci_sequence(length):\n",
        "    if length <= 0:\n",
        "        return []\n",
        "    elif length == 1:\n",
        "        return [1]\n",
        "\n",
        "    sequence = [1, 1]\n",
        "    while len(sequence) < length:\n",
        "        next_number = sequence[-1] + sequence[-2]\n",
        "        sequence.append(next_number)\n",
        "    return sequence\n",
        "\n",
        "\n",
        "def fibonacci_prime(length):\n",
        "    fibonacci_numbers = fibonacci_sequence(length * 5)\n",
        "    prime_fibonacci_numbers = [num for num in fibonacci_numbers if is_prime(num)]\n",
        "\n",
        "    return prime_fibonacci_numbers[:length]\n",
        "\n",
        "res = fibonacci_prime(10)\n",
        "print(res)"
      ]
    },
    {
      "cell_type": "markdown",
      "source": [
        "# Task 5. Accuracy Metrics in Classifications\n",
        "\n",
        "Category: Medium\n",
        "\n",
        "---"
      ],
      "metadata": {
        "id": "1Lvmi7SKAR2A"
      }
    },
    {
      "cell_type": "markdown",
      "source": [
        "## Task Descriptions\n",
        "---\n",
        "- Create a **lambda** function to calculate the accuracy of given prediction"
      ],
      "metadata": {
        "id": "KOrJ-tmbAR2X"
      }
    },
    {
      "cell_type": "markdown",
      "source": [
        "**Accuracy**\n",
        "- You can use accuracy metrics to measure classification model performance.\n",
        "- Given a below data\n",
        "\n",
        "<center>\n",
        "\n",
        "|Real Value|Predicted Value|Status|\n",
        "|:--:|:--:|:--:|\n",
        "|1|0|**False** prediction|\n",
        "|1|1|Correct prediction|\n",
        "|0|0|Correct prediction|\n",
        "|0|1|**False** prediction|\n",
        "|1|1|Correct prediction|\n",
        "|1|1|Correct prediction|\n",
        "|0|0|Correct prediction|\n",
        "|1|1|Correct prediction|\n",
        "\n",
        "</center>\n",
        "\n",
        "- If you predict `0` and the real value is `0`, you predict correctly\n",
        "- If you predict `1` and the real value is `1`, you predict correctly\n",
        "- If you predict `0` while the real value is `1`, you mispredict it.\n",
        "- If you predict `1` while the real value is `0`, you also mispredict it."
      ],
      "metadata": {
        "id": "5oeDx6NCAR2X"
      }
    },
    {
      "cell_type": "markdown",
      "source": [
        "- How to calculate accuracy?\n",
        "\n",
        "$$\n",
        "\\text{accuracy}\n",
        "=\n",
        "\\cfrac\n",
        "{\\text{number of correct}}\n",
        "{\\text{number of all data}}\n",
        "$$\n",
        "\n",
        "- So, based on the above table\n",
        "\n",
        "$$\n",
        "\\begin{align*}\n",
        "\\text{accuracy}\n",
        "&=\n",
        "\\cfrac\n",
        "{\\text{number of correct prediction}}\n",
        "{\\text{number of all data}} \\\\\n",
        "&=\n",
        "\\cfrac\n",
        "{6}\n",
        "{8} \\\\\n",
        "\\text{accuracy}\n",
        "&=\n",
        "0.75\n",
        "\\end{align*}\n",
        "$$"
      ],
      "metadata": {
        "id": "NK8py0H9A-JI"
      }
    },
    {
      "cell_type": "markdown",
      "source": [
        "## Detail function\n",
        "---"
      ],
      "metadata": {
        "id": "fTGn2luKAR2Y"
      }
    },
    {
      "cell_type": "markdown",
      "source": [
        "- Create a **lambda** function named `calculate_accuracy` with\n",
        "  - Input\n",
        "    - `y_actual` (list), contains the true value\n",
        "    - `y_predicted` (list), contains the predicted value\n",
        "  - Output `accuracy` (float), contains the accuracy metrics"
      ],
      "metadata": {
        "id": "tEaLWiIZAR2Y"
      }
    },
    {
      "cell_type": "markdown",
      "source": [
        "## Examples\n",
        "---"
      ],
      "metadata": {
        "id": "k7TYvpqPAR2Z"
      }
    },
    {
      "cell_type": "markdown",
      "source": [
        "**Input 1**\n",
        "\n",
        "```python\n",
        "# Input\n",
        "y_actual = [1, 1, 0, 0, 1, 1, 0, 1]\n",
        "y_predicted = [0, 1, 0, 1, 1, 1, 0, 1]\n",
        "\n",
        "res = calculate_accuracy(y_actual, y_predicted)\n",
        "print(res)\n",
        "```\n",
        "\n",
        "**Output 1**\n",
        "```python\n",
        "0.75\n",
        "```"
      ],
      "metadata": {
        "id": "xBisqn3HAR2Z"
      }
    },
    {
      "cell_type": "markdown",
      "source": [
        "**Input 2**\n",
        "\n",
        "```python\n",
        "# Input\n",
        "y_actual = [1, 1, -1, -1, 1, 1, -1, 1, -1, -1]\n",
        "y_predicted = [-1, 1, -1, -1, -1, 1, -1, 1, -1, 1]\n",
        "\n",
        "res = calculate_accuracy(y_actual, y_predicted)\n",
        "print(res)\n",
        "```\n",
        "\n",
        "**Output 2**\n",
        "```python\n",
        "0.7\n",
        "```"
      ],
      "metadata": {
        "id": "mQnbYJYlAR2Z"
      }
    },
    {
      "cell_type": "markdown",
      "source": [
        "## Answer\n",
        "\n",
        "---\n",
        "- Provide the code for solving the problem\n",
        "- **Make sure your function follows the `Detail Function`**"
      ],
      "metadata": {
        "id": "2ifQ4p2BAR2Z"
      }
    },
    {
      "cell_type": "code",
      "execution_count": 72,
      "metadata": {
        "id": "QqG_g8VWAR2a",
        "colab": {
          "base_uri": "https://localhost:8080/"
        },
        "outputId": "9361ee98-4a7c-4a53-c89c-182feb4273e0"
      },
      "outputs": [
        {
          "output_type": "stream",
          "name": "stdout",
          "text": [
            "0.75\n"
          ]
        }
      ],
      "source": [
        "# Write your code here\n",
        "# Note: You can write your input manually\n",
        "calculate_accuracy = lambda y_actual, y_predicted: sum(1 for y_act, y_pred in zip(y_actual, y_predicted) if y_act == y_pred) / len(y_actual)\n",
        "y_actual = [1, 1, 0, 0, 1, 1, 0, 1]\n",
        "y_predicted = [0, 1, 0, 1, 1, 1, 0, 1]\n",
        "\n",
        "res = calculate_accuracy(y_actual, y_predicted)\n",
        "print(res)"
      ]
    },
    {
      "cell_type": "markdown",
      "source": [
        "# Task 6. Get the user churn\n",
        "\n",
        "Category: Medium\n",
        "\n",
        "---"
      ],
      "metadata": {
        "id": "EOdMk1QDDWhA"
      }
    },
    {
      "cell_type": "markdown",
      "source": [
        "## Task Descriptions\n",
        "---\n",
        "- Given a userID and its subscription status, create a function to determine the number of churned (unsubscribed user) on a specific month"
      ],
      "metadata": {
        "id": "rw6bdBFrDWhh"
      }
    },
    {
      "cell_type": "markdown",
      "source": [
        "**How this works**\n",
        "- Given a set of userID and subscription status\n",
        "\n",
        "```python\n",
        "# [userId, subscribe until...]\n",
        "user_data_2019 = [\n",
        "    ['123db', 'November'],\n",
        "    ['940cj', 'January'],\n",
        "    ['859do', 'March'],\n",
        "    ['948wp', 'August'],\n",
        "    ['482po', 'August'],\n",
        "    ['742bh', 'November']\n",
        "]\n",
        "```"
      ],
      "metadata": {
        "id": "2uzF4trnDWhi"
      }
    },
    {
      "cell_type": "markdown",
      "source": [
        "- Say, we want to see the number of user churned (unsubscribed) on **March**\n",
        "  - Only user `940cj` that does not have subscription renewal until **March**\n",
        "  - So, the number of churned user is 1\n",
        "\n",
        "- Say, we want to see the number of user churned (unsubscribed) on **August**,\n",
        "  - Users `['940cj', '859do']` subscribtions end before august.\n",
        "  - Thus, the number of churned user is 2"
      ],
      "metadata": {
        "id": "qu1XQk-RK5dD"
      }
    },
    {
      "cell_type": "markdown",
      "source": [
        "## Detail function\n",
        "---"
      ],
      "metadata": {
        "id": "0DgsGgpoDWhj"
      }
    },
    {
      "cell_type": "markdown",
      "source": [
        "- Create a function named `calculate_churned` with\n",
        "  - Input\n",
        "    - `user_data` (list), contains the userId and subscribe until ...\n",
        "    - `month` (str), in english, contains month to determine the churned user\n",
        "  - Output `churned` (int), contains the number of churned user before `month`"
      ],
      "metadata": {
        "id": "wAKdUFoSDWhj"
      }
    },
    {
      "cell_type": "markdown",
      "source": [
        "## Examples\n",
        "---"
      ],
      "metadata": {
        "id": "DjCgn0N5DWhj"
      }
    },
    {
      "cell_type": "markdown",
      "source": [
        "user_data = [['123', 'March'], ['124', 'Februari'], ['125', 'January']]"
      ],
      "metadata": {
        "id": "ha0pxFfbkV_Q"
      }
    },
    {
      "cell_type": "markdown",
      "source": [
        "**Input 1**\n",
        "\n",
        "```python\n",
        "# Input\n",
        "user_data_2021 = [\n",
        "    ['5105', 'August'],\n",
        "    ['8806', 'August'],\n",
        "    ['1008', 'December'],\n",
        "    ['2655', 'October'],\n",
        "    ['5645', 'January'],\n",
        "    ['3660', 'February'],\n",
        "    ['1655', 'July'],\n",
        "    ['5772', 'January'],\n",
        "    ['4361', 'January'],\n",
        "    ['9155', 'March'],\n",
        "    ['7689', 'April'],\n",
        "    ['6967', 'December'],\n",
        "    ['6358', 'June'],\n",
        "    ['2075', 'September'],\n",
        "    ['9280', 'March'],\n",
        "    ['2815', 'December'],\n",
        "    ['7743', 'August'],\n",
        "    ['1087', 'February'],\n",
        "    ['9691', 'October'],\n",
        "    ['3397', 'June']\n",
        "]\n",
        "\n",
        "res = calculate_churned(user_data = user_data_2021,\n",
        "                        month = 'October')\n",
        "print(res)\n",
        "```\n",
        "\n",
        "**Output 1**\n",
        "```python\n",
        "15\n",
        "```"
      ],
      "metadata": {
        "id": "L8Dx5aboDWhk"
      }
    },
    {
      "cell_type": "markdown",
      "source": [
        "**Input 1**\n",
        "\n",
        "```python\n",
        "# Input\n",
        "user_data_2022 = [\n",
        "    ['2062', 'February'],\n",
        "    ['5679', 'October'],\n",
        "    ['4690', 'September'],\n",
        "    ['8748', 'March'],\n",
        "    ['8318', 'December'],\n",
        "    ['7814', 'February'],\n",
        "    ['9850', 'November'],\n",
        "    ['2154', 'September'],\n",
        "    ['7767', 'October'],\n",
        "    ['3755', 'January'],\n",
        "    ['3117', 'March'],\n",
        "    ['4197', 'December'],\n",
        "    ['7276', 'December'],\n",
        "    ['3387', 'May'],\n",
        "    ['2160', 'November'],\n",
        "    ['9626', 'October'],\n",
        "    ['5430', 'July'],\n",
        "    ['7055', 'January'],\n",
        "    ['7838', 'July'],\n",
        "    ['8991', 'May'],\n",
        "    ['6238', 'September'],\n",
        "    ['8033', 'October'],\n",
        "    ['8711', 'January'],\n",
        "    ['9999', 'December'],\n",
        "    ['9980', 'May'],\n",
        "    ['8282', 'September'],\n",
        "    ['1508', 'March'],\n",
        "    ['9899', 'January'],\n",
        "    ['4745', 'October'],\n",
        "    ['9615', 'August'],\n",
        "    ['8526', 'July'],\n",
        "    ['8736', 'January'],\n",
        "    ['6244', 'December'],\n",
        "    ['8319', 'August'],\n",
        "    ['1415', 'April'],\n",
        "    ['3413', 'March'],\n",
        "    ['1683', 'January'],\n",
        "    ['8825', 'November'],\n",
        "    ['6098', 'August'],\n",
        "    ['2627', 'February']\n",
        "]\n",
        "\n",
        "res = calculate_churned(user_data = user_data_2022,\n",
        "                        month = 'August')\n",
        "print(res)\n",
        "```\n",
        "\n",
        "**Output 1**\n",
        "```python\n",
        "20\n",
        "```"
      ],
      "metadata": {
        "id": "eVQBZZbdPJBQ"
      }
    },
    {
      "cell_type": "markdown",
      "source": [
        "## Answer\n",
        "\n",
        "---\n",
        "- Provide the code for solving the problem\n",
        "- **Make sure your function follows the `Detail Function`**"
      ],
      "metadata": {
        "id": "utpLqcoTDWhl"
      }
    },
    {
      "cell_type": "code",
      "execution_count": 97,
      "metadata": {
        "id": "2cMCngmBDWhl",
        "colab": {
          "base_uri": "https://localhost:8080/"
        },
        "outputId": "2f599358-3cb9-460f-a87e-4feb46125ec3"
      },
      "outputs": [
        {
          "output_type": "stream",
          "name": "stdout",
          "text": [
            "20\n"
          ]
        }
      ],
      "source": [
        "# Write your code here\n",
        "# Note: You can write your input manually\n",
        "# Input\n",
        "user_data_2022 = [\n",
        "    ['2062', 'February'],\n",
        "    ['5679', 'October'],\n",
        "    ['4690', 'September'],\n",
        "    ['8748', 'March'],\n",
        "    ['8318', 'December'],\n",
        "    ['7814', 'February'],\n",
        "    ['9850', 'November'],\n",
        "    ['2154', 'September'],\n",
        "    ['7767', 'October'],\n",
        "    ['3755', 'January'],\n",
        "    ['3117', 'March'],\n",
        "    ['4197', 'December'],\n",
        "    ['7276', 'December'],\n",
        "    ['3387', 'May'],\n",
        "    ['2160', 'November'],\n",
        "    ['9626', 'October'],\n",
        "    ['5430', 'July'],\n",
        "    ['7055', 'January'],\n",
        "    ['7838', 'July'],\n",
        "    ['8991', 'May'],\n",
        "    ['6238', 'September'],\n",
        "    ['8033', 'October'],\n",
        "    ['8711', 'January'],\n",
        "    ['9999', 'December'],\n",
        "    ['9980', 'May'],\n",
        "    ['8282', 'September'],\n",
        "    ['1508', 'March'],\n",
        "    ['9899', 'January'],\n",
        "    ['4745', 'October'],\n",
        "    ['9615', 'August'],\n",
        "    ['8526', 'July'],\n",
        "    ['8736', 'January'],\n",
        "    ['6244', 'December'],\n",
        "    ['8319', 'August'],\n",
        "    ['1415', 'April'],\n",
        "    ['3413', 'March'],\n",
        "    ['1683', 'January'],\n",
        "    ['8825', 'November'],\n",
        "    ['6098', 'August'],\n",
        "    ['2627', 'February']\n",
        "]\n",
        "\n",
        "convert = { \"January\":1,\n",
        "            \"February\": 2,\n",
        "            \"March\": 3,\n",
        "            \"April\": 4,\n",
        "            \"May\": 5,\n",
        "            \"June\": 6,\n",
        "            \"July\": 7,\n",
        "            \"August\": 8,\n",
        "            \"September\": 9,\n",
        "            \"October\": 10,\n",
        "            \"November\": 11,\n",
        "            \"December\": 12\n",
        "        }\n",
        "\n",
        "def calculate_churned(user_data, month):\n",
        "  data = []\n",
        "  last_subs = convert[month]\n",
        "  for item in user_data:\n",
        "    if convert[item[1]] < last_subs:\n",
        "      data.append(convert[item[1]])\n",
        "\n",
        "  return len(data)\n",
        "res = calculate_churned(user_data = user_data_2022,\n",
        "                        month = 'August')\n",
        "print(res)"
      ]
    },
    {
      "cell_type": "code",
      "source": [],
      "metadata": {
        "id": "rHeSkimZA6jW"
      },
      "execution_count": null,
      "outputs": []
    },
    {
      "cell_type": "markdown",
      "source": [
        "# Task 7. Count Alphabet"
      ],
      "metadata": {
        "id": "11jrU358T3Gk"
      }
    },
    {
      "cell_type": "markdown",
      "source": [
        "**Task Descriptions**\n",
        "\n",
        "- Given an `input_text`\n",
        "- Your tasks are to calculate how many characters that upper case, lower case, and numeric inside the `input_text`\n",
        "- You must also count how many characters in the input\n",
        "- But there are some requirements in this task, your `input_text` must be in the correct format like there must be a whitespace inside the string.\n",
        "- If the requirements are not met, it will print a message **`\"Not a Valid Text\"`**"
      ],
      "metadata": {
        "id": "x1N8mFgtGaD5"
      }
    },
    {
      "cell_type": "markdown",
      "source": [
        "**Input - 1**\n",
        "\n",
        "```py\n",
        "count_alphabet(\"Komm, süsser Tod\")\n",
        "```"
      ],
      "metadata": {
        "id": "Gkg3OZx_IGl3"
      }
    },
    {
      "cell_type": "markdown",
      "source": [
        "**Output - 1**\n",
        "\n",
        "```py\n",
        "Total Character: 13\n",
        "Count Upper Case: 2, Count Lower Case: 11, Count Digit: 0\n",
        "```"
      ],
      "metadata": {
        "id": "51R3WdcVIXz5"
      }
    },
    {
      "cell_type": "markdown",
      "source": [
        "**Input - 2**\n",
        "\n",
        "```py\n",
        "count_alphabet(\"Kode Pos dari Pasar Minggu adalah 12560\")\n",
        "```"
      ],
      "metadata": {
        "id": "ILG-3A8tI1F8"
      }
    },
    {
      "cell_type": "markdown",
      "source": [
        "**Output - 2**\n",
        "\n",
        "```py\n",
        "Total Character: 33\n",
        "Count Upper Case: 4, Count Lower Case: 24, Count Digit: 5\n",
        "```"
      ],
      "metadata": {
        "id": "vbCFkZHEI4yc"
      }
    },
    {
      "cell_type": "markdown",
      "source": [
        "**Input - 3**\n",
        "\n",
        "```py\n",
        "count_alphabet(\"BesokKitaPergiMakan\")\n",
        "```"
      ],
      "metadata": {
        "id": "PUSPMtC9I-59"
      }
    },
    {
      "cell_type": "markdown",
      "source": [
        "**Output - 3**\n",
        "\n",
        "```py\n",
        "Not a Valid Text\n",
        "```"
      ],
      "metadata": {
        "id": "MXcm91ymJSm6"
      }
    },
    {
      "cell_type": "code",
      "source": [
        "def count_alphabet(input_text):\n",
        "    upper_count = 0\n",
        "    lower_count = 0\n",
        "    numeric_count = 0\n",
        "    if ' ' not in input_text:\n",
        "        print(\"Not a Valid Text\")\n",
        "        return\n",
        "    for text in input_text:\n",
        "        if text.isupper():\n",
        "            upper_count += 1\n",
        "        elif text.islower():\n",
        "            lower_count += 1\n",
        "        elif text.isdigit():\n",
        "            numeric_count += 1\n",
        "\n",
        "    total_count = len(input_text.replace(' ', ''))\n",
        "\n",
        "    # Print results\n",
        "    print(f\"Total characters: {total_count}\")\n",
        "    print(f\"Count Upper Case: {upper_count}, Count Lower Case: {lower_count}, Count Digit: {numeric_count}\")\n"
      ],
      "metadata": {
        "id": "NTgm_usRmdz2"
      },
      "execution_count": 104,
      "outputs": []
    },
    {
      "cell_type": "code",
      "source": [
        "count_alphabet(\"BesokKitaPergiMakan\")"
      ],
      "metadata": {
        "colab": {
          "base_uri": "https://localhost:8080/"
        },
        "id": "gLIx1gTc3Ekf",
        "outputId": "ffdfad73-f1c1-48cd-fbf4-72286fcd4264"
      },
      "execution_count": 106,
      "outputs": [
        {
          "output_type": "stream",
          "name": "stdout",
          "text": [
            "Not a Valid Text\n"
          ]
        }
      ]
    },
    {
      "cell_type": "code",
      "source": [
        "count_alphabet(\"Makidi 14045\")"
      ],
      "metadata": {
        "colab": {
          "base_uri": "https://localhost:8080/"
        },
        "id": "cIaJYX99mml1",
        "outputId": "da6095a4-3a0f-4325-a0c6-dccc396934eb"
      },
      "execution_count": null,
      "outputs": [
        {
          "output_type": "stream",
          "name": "stdout",
          "text": [
            "Total Character: 11\n",
            "Count Upper Case: 1, Count Lower Case: 5, Count Digit: 5\n"
          ]
        }
      ]
    }
  ]
}
{
  "nbformat": 4,
  "nbformat_minor": 0,
  "metadata": {
    "colab": {
      "provenance": [],
      "toc_visible": true
    },
    "kernelspec": {
      "name": "python3",
      "display_name": "Python 3"
    },
    "language_info": {
      "name": "python"
    }
  },
  "cells": [
    {
      "cell_type": "markdown",
      "source": [
        "# Python Prerequisite Test\n",
        "\n",
        "By: Pacmann AI\n",
        "\n",
        "---"
      ],
      "metadata": {
        "id": "q5PnI2Mzb-Im"
      }
    },
    {
      "cell_type": "markdown",
      "source": [
        "**Instructions**:\n",
        "- Make a Copy of this notebook.\n",
        "- Answer all questions.\n",
        "- Submit your answer in **.ipynb** format named with `your_name-python.ipynb`\n",
        "- Example: `budi_xaskha-python.ipynb`\n",
        "- **Submission Link**: [SUBMIT YOUR ANSWER](https://forms.gle/3VGV3t59rsPhbpZn9)\n",
        "\n",
        "**Note**:\n",
        "- There are 10 questions to answer.\n",
        "- You have to answer the question according to the descriptions. **Please read the description and docstring carefully**.\n",
        "- There are several test cases you can use to **validate your answer**.\n",
        "- <font color='red'>**YOU MUST ANSWER THE QUESTIONS WITHOUT USING ANY LIBRARY**</font>\n",
        "- **Do not change** the function / class name.\n",
        "- **Do not use** input() function\n",
        "- <font color='red'>**Hard deadline**: 1 week before first main course (not a prerequisite course) start</font>"
      ],
      "metadata": {
        "id": "71yk0pGecCQE"
      }
    },
    {
      "cell_type": "markdown",
      "source": [
        "# 1. Find the Structure of Data\n",
        "---"
      ],
      "metadata": {
        "id": "mHn4dahHthcr"
      }
    },
    {
      "cell_type": "markdown",
      "source": [
        "Given a 2D list of data, your task is to create a function that returns the number of rows & columns from that list."
      ],
      "metadata": {
        "id": "JUzi1KZCtmF0"
      }
    },
    {
      "cell_type": "markdown",
      "source": [
        "---\n",
        "Input example-1:\n",
        "\n",
        "```python\n",
        "data = [[1, 2, 3],\n",
        "        [4, 5, 6],\n",
        "        [7, 8, 9],\n",
        "        [10, 11, 12]]\n",
        "\n",
        "res = check_structure(data)\n",
        "print(res)\n",
        "```\n",
        "\n",
        "Output example-1:\n",
        "```\n",
        "[4,3]\n",
        "```"
      ],
      "metadata": {
        "id": "AT8xz-OAPmEY"
      }
    },
    {
      "cell_type": "markdown",
      "source": [
        "---\n",
        "Input example-2:\n",
        "\n",
        "```python\n",
        "data = [[4, 3, 2, 10],\n",
        "        [8, 2, 1, 3]]\n",
        "\n",
        "res = check_structure(data)\n",
        "print(res)\n",
        "```\n",
        "\n",
        "Output example-2:\n",
        "```\n",
        "[2,4]\n",
        "```"
      ],
      "metadata": {
        "id": "jKbR_YtrPmEZ"
      }
    },
    {
      "cell_type": "markdown",
      "source": [
        "---\n",
        "Input example-3:\n",
        "\n",
        "```python\n",
        "data = [[0.5, 0.3, 0.1]]\n",
        "\n",
        "res = check_structure(data)\n",
        "print(res)\n",
        "```\n",
        "\n",
        "Output example-3:\n",
        "```\n",
        "[1,3]\n",
        "```"
      ],
      "metadata": {
        "id": "TfFau3ijXoTC"
      }
    },
    {
      "cell_type": "markdown",
      "source": [
        "---\n",
        "Write the function here"
      ],
      "metadata": {
        "id": "7pwr-IgvuaIa"
      }
    },
    {
      "cell_type": "code",
      "execution_count": null,
      "metadata": {
        "id": "D2YaIRWlq5w4"
      },
      "outputs": [],
      "source": [
        "# DO NOT CHANGE THE NAME & INPUT OF THE FUNCTION\n",
        "def check_structure(data):\n",
        "    '''\n",
        "    Function to check the data structures\n",
        "\n",
        "    Parameters\n",
        "    ----------\n",
        "    data : list\n",
        "        The 2D sample data\n",
        "\n",
        "    Returns\n",
        "    --------\n",
        "    data_shape : list\n",
        "        The shape of data with format [nrows, ncols]\n",
        "        nrows = number of rows\n",
        "        ncols = number of columns\n",
        "    '''\n",
        "    ###\n",
        "    ### YOUR CODE HERE\n",
        "    ###\n",
        "    try:\n",
        "      # Validate data is list\n",
        "      if not isinstance(data, list):\n",
        "        raise TypeError(f\"Whoops, Matrix type error. Should be list\")\n",
        "\n",
        "      # Check if raw_data is a 2D list and not empty\n",
        "      if not data or not all(isinstance(row, list) for row in data):\n",
        "          raise TypeError('Mismatch input size. The data is not in 2D')\n",
        "\n",
        "      # Validate data is not empty\n",
        "      if not all(isinstance(row, list) and row for row in data):\n",
        "         raise ValueError(f\"Whoops, Matrix should have value\")\n",
        "\n",
        "      # Validate is row is has same column\n",
        "      ncols = len(data[0])\n",
        "      if not all(len(row)==ncols for row in data):\n",
        "         raise ValueError(f\"Whoops, Matrix should have same column\")\n",
        "\n",
        "      # Validate values is must be number no str\n",
        "      for row in data:\n",
        "        if not all(isinstance(elemen,(int,float)) for elemen in row):\n",
        "            raise ValueError(f\"Whoops, Matrix should be numerical\")\n",
        "      nrows = len(data)\n",
        "      shape_of_matrix = [nrows,ncols]\n",
        "      return shape_of_matrix\n",
        "\n",
        "    except (TypeError,ValueError) as err:\n",
        "      return err\n",
        "\n",
        "\n"
      ]
    },
    {
      "cell_type": "markdown",
      "source": [
        "Check function"
      ],
      "metadata": {
        "id": "Td84PTkvumQG"
      }
    },
    {
      "cell_type": "code",
      "source": [
        "# DO NOT CHANGE ANYTHING IN THIS CELL\n",
        "# Just run after you finish the function\n",
        "data = [[1, 2, 3],\n",
        "        [4, 5, 6],\n",
        "        [7, 8, 9],\n",
        "        [10, 11, 12]]\n",
        "\n",
        "data_shape = check_structure(data)\n",
        "print(data_shape)"
      ],
      "metadata": {
        "colab": {
          "base_uri": "https://localhost:8080/"
        },
        "id": "U0ImiFp9uYIq",
        "outputId": "daf1e9fb-f62a-4089-da7f-ec50f6fefa7e"
      },
      "execution_count": null,
      "outputs": [
        {
          "output_type": "stream",
          "name": "stdout",
          "text": [
            "[4, 3]\n"
          ]
        }
      ]
    },
    {
      "cell_type": "markdown",
      "source": [
        "# 2. Create a Weighted Average Function\n",
        "---"
      ],
      "metadata": {
        "id": "8rJAViFqu2Mp"
      }
    },
    {
      "cell_type": "markdown",
      "source": [
        "Given a list of number (`data`) and list of weight (`w`), we want to find its weighted average.\n",
        "\n",
        "To calculate the weighted average, you can use belows formula\n",
        "\n",
        "$$\n",
        "\\begin{align*}\n",
        "\\text{weighted average} &= \\sum_{i=1}^{n} w_{i} \\cdot \\text{data}_{i} \\\\\n",
        "\\text{weighted average} &= w_{1} \\cdot \\text{data}_{1} +  w_{2} \\cdot \\text{data}_{2} + \\cdots + w_{n} \\cdot \\text{data}_{n}\\\\\n",
        "\\end{align*}\n",
        "$$"
      ],
      "metadata": {
        "id": "HvhZSTv4u6VZ"
      }
    },
    {
      "cell_type": "markdown",
      "source": [
        "---\n",
        "Input example-1:\n",
        "\n",
        "```python\n",
        "data = [10, 20, 30, 40, 50]\n",
        "w = [0.10, 0.20, 0.25, 0.3, 0.15]\n",
        "\n",
        "avg = calc_weighted_avg(data, w)\n",
        "print(avg)\n",
        "```\n",
        "\n",
        "Output example-1:\n",
        "```\n",
        "32.0\n",
        "```"
      ],
      "metadata": {
        "id": "LNo78Dl0o-5l"
      }
    },
    {
      "cell_type": "markdown",
      "source": [
        "---\n",
        "Input example-2:\n",
        "\n",
        "```python\n",
        "data = [-2, -1, 0, 1, 2]\n",
        "w = [0.2, 0.2, 0.2, 0.2, 0.2]\n",
        "\n",
        "avg = calc_weighted_avg(data, w)\n",
        "print(avg)\n",
        "```\n",
        "\n",
        "Output example-2:\n",
        "```\n",
        "0.0\n",
        "```"
      ],
      "metadata": {
        "id": "1YEY_NSkCiPz"
      }
    },
    {
      "cell_type": "markdown",
      "source": [
        "---\n",
        "Input example-3:\n",
        "\n",
        "```python\n",
        "data = [12, 13.5, 9.8, 10.3]\n",
        "w = [0.10, 0.20, 0.30, 0.40]\n",
        "\n",
        "avg = calc_weighted_avg(data, w)\n",
        "print(avg)\n",
        "```\n",
        "\n",
        "Output example-3:\n",
        "```\n",
        "10.96\n",
        "```"
      ],
      "metadata": {
        "id": "9ZFZ0t2-DtL2"
      }
    },
    {
      "cell_type": "markdown",
      "source": [
        "---\n",
        "Write function"
      ],
      "metadata": {
        "id": "d_qWR0fyPrlm"
      }
    },
    {
      "cell_type": "code",
      "source": [
        "# DO NOT CHANGE THE NAME & INPUT OF THE FUNCTION\n",
        "def calc_weighted_avg(data, w):\n",
        "    '''\n",
        "    Function to calculate the weighted average of a list\n",
        "\n",
        "    Parameters\n",
        "    ----------\n",
        "    data : list\n",
        "        The sample data\n",
        "\n",
        "    w : list\n",
        "        The sample weights\n",
        "\n",
        "    Returns\n",
        "    -------\n",
        "    avg : float\n",
        "        The weighted average\n",
        "    '''\n",
        "    ###\n",
        "    ### YOUR CODE HERE\n",
        "    ###\n",
        "    ### Assume data and weight value is ordered pair by index data[i] == w[i]\n",
        "\n",
        "    try:\n",
        "\n",
        "      # Validate data and weight is list\n",
        "      if not isinstance(data, list) or not isinstance(w, list) :\n",
        "        raise TypeError(f\"Whoops, data type error. Should be list\")\n",
        "\n",
        "      # Validate data and w have same length\n",
        "      if not len(data) == len(w):\n",
        "        raise ValueError(f\"Whoops, data and weight must be have same length\")\n",
        "\n",
        "      # Validate values is must be number not str\n",
        "      for elemen in data:\n",
        "        if not isinstance(elemen,(int,float)):\n",
        "            raise ValueError(f\"Whoops, Data value should be numerical\")\n",
        "\n",
        "      # Validate values is must be number not str\n",
        "      for elemen in w:\n",
        "        if not isinstance(elemen,(int,float)):\n",
        "            raise ValueError(f\"Whoops, Weight value should be numerical\")\n",
        "\n",
        "      average = 0\n",
        "      for idx, item in enumerate(data):\n",
        "        average += item * w[idx]\n",
        "\n",
        "      return average\n",
        "\n",
        "    except (TypeError,ValueError) as err:\n",
        "      return err\n"
      ],
      "metadata": {
        "id": "cNW88OLpu4HH"
      },
      "execution_count": null,
      "outputs": []
    },
    {
      "cell_type": "markdown",
      "source": [
        "Check function"
      ],
      "metadata": {
        "id": "mN7H9zGexdDN"
      }
    },
    {
      "cell_type": "code",
      "source": [
        "# DO NOT CHANGE ANYTHING IN THIS CELL\n",
        "# Just run after you finish the function\n",
        "data = [10, 20, 30, 40, 50]\n",
        "w = [0.10, 0.20, 0.25, 0.3, 0.15]\n",
        "\n",
        "avg = calc_weighted_avg(data, w)\n",
        "print(avg)"
      ],
      "metadata": {
        "colab": {
          "base_uri": "https://localhost:8080/"
        },
        "id": "RLEMQHtuxfhk",
        "outputId": "f7c8e317-1727-4b41-aced-c4111ad1ddfd"
      },
      "execution_count": null,
      "outputs": [
        {
          "output_type": "stream",
          "name": "stdout",
          "text": [
            "32.0\n"
          ]
        }
      ]
    },
    {
      "cell_type": "markdown",
      "source": [
        "# 3. Which Toko is More Profitable?\n",
        "---"
      ],
      "metadata": {
        "id": "iitkUoYjxxZ_"
      }
    },
    {
      "cell_type": "markdown",
      "source": [
        "You are a data analyst that works with financial team. You are given three list of data: `revenues`, `costs`, and `toko_ID`.\n",
        "\n",
        "Your manager asked which `toko_ID` that is profitable. A `toko` is called profitable if its revenue is higher than its cost.\n",
        "\n",
        "Create a function to return which `toko_ID` is profitable from a given `revenues` and `costs` data."
      ],
      "metadata": {
        "id": "ZuQQBYhFx829"
      }
    },
    {
      "cell_type": "markdown",
      "source": [
        "---\n",
        "Input example-1:\n",
        "\n",
        "```python\n",
        "toko_ID = ['A001', 'B002', 'C003', 'D004']\n",
        "revenues = [80000, 120000, 57000, 450000]\n",
        "costs = [90000, 110000, 57000, 420000]\n",
        "\n",
        "toko_profit = profitable_toko(toko_ID, revenues, costs)\n",
        "print(toko_profit)\n",
        "```\n",
        "\n",
        "Output example-1:\n",
        "```\n",
        "['B002', 'D004']\n",
        "```"
      ],
      "metadata": {
        "id": "98H7qqUKEwfA"
      }
    },
    {
      "cell_type": "markdown",
      "source": [
        "---\n",
        "Input example-2:\n",
        "\n",
        "```python\n",
        "toko_ID = ['p', 'q', 'r']\n",
        "revenues = [80, 90, 30]\n",
        "costs = [70, 100, 20]\n",
        "\n",
        "toko_profit = profitable_toko(toko_ID, revenues, costs)\n",
        "print(toko_profit)\n",
        "```\n",
        "\n",
        "Output example-2:\n",
        "```\n",
        "['p', 'r']\n",
        "```"
      ],
      "metadata": {
        "id": "1ZPMsC2UFAkt"
      }
    },
    {
      "cell_type": "markdown",
      "source": [
        "---\n",
        "Input example-3:\n",
        "\n",
        "```python\n",
        "toko_ID = ['a', 'b', 'c']\n",
        "revenues = [80, 80, 70]\n",
        "costs = [80, 80, 90]\n",
        "\n",
        "toko_profit = profitable_toko(toko_ID, revenues, costs)\n",
        "print(toko_profit)\n",
        "```\n",
        "\n",
        "Output example-3:\n",
        "```\n",
        "[]\n",
        "```"
      ],
      "metadata": {
        "id": "Jg9pt7LsFMCV"
      }
    },
    {
      "cell_type": "markdown",
      "source": [
        "---\n",
        "Write a function"
      ],
      "metadata": {
        "id": "bGCHn3MqPw_B"
      }
    },
    {
      "cell_type": "code",
      "source": [
        "# DO NOT CHANGE THE NAME & INPUT OF THE FUNCTION\n",
        "def profitable_toko(toko_ID, revenues, costs):\n",
        "    '''\n",
        "    Function to return which toko ID is profitable\n",
        "\n",
        "    Parameters\n",
        "    ----------\n",
        "    toko_ID : list\n",
        "        The ID of toko\n",
        "\n",
        "    revenues : list\n",
        "        The list of revenue from the corresponding toko_ID\n",
        "\n",
        "    costs : list\n",
        "        The list of cost from the corresponding toko_ID\n",
        "\n",
        "    Returns\n",
        "    -------\n",
        "    toko_profit : list\n",
        "        The ID of toko that is profitable\n",
        "    '''\n",
        "    ###\n",
        "    ### Your Code Here\n",
        "    ###\n",
        "    ### Assume data and weight value is ordered pair by index toko_ID[i] == revenues[i] == costs[i]\n",
        "\n",
        "    try:\n",
        "      # Validate toko_ID or revenues or costs is list\n",
        "      if not isinstance(toko_ID, list) or not isinstance(revenues, list) or not isinstance(costs, list):\n",
        "        raise TypeError(f\"Whoops, data type error. Should be list\")\n",
        "\n",
        "      # Validate data and w have same length\n",
        "      if not len(toko_ID) == len(revenues) or not len(toko_ID) == len(costs) or not len(revenues) == len(costs):\n",
        "        raise ValueError(f\"Whoops, data and weight must be have same length\")\n",
        "\n",
        "      # Validate values is must be number not str\n",
        "      for elemen in toko_ID:\n",
        "        if not isinstance(elemen,(str)):\n",
        "            raise ValueError(f\"Whoops, toko_ID value should be String\")\n",
        "\n",
        "      # Validate values is must be number not str\n",
        "      for elemen in revenues:\n",
        "        if not isinstance(elemen,(int,float)):\n",
        "            raise ValueError(f\"Whoops, revenues value should be numerical\")\n",
        "\n",
        "\n",
        "      # Validate values is must be number not str\n",
        "      for elemen in costs:\n",
        "        if not isinstance(elemen,(int,float)):\n",
        "            raise ValueError(f\"Whoops, costs value should be numerical\")\n",
        "\n",
        "      toko_profit = []\n",
        "      for idx, _ in enumerate(revenues):\n",
        "        if revenues[idx] > costs[idx]:\n",
        "          toko_profit.append(toko_ID[idx])\n",
        "\n",
        "      return toko_profit\n",
        "    except (TypeError,ValueError) as err:\n",
        "      return err"
      ],
      "metadata": {
        "id": "4kyAyD_2xxAN"
      },
      "execution_count": null,
      "outputs": []
    },
    {
      "cell_type": "markdown",
      "source": [
        "Check function"
      ],
      "metadata": {
        "id": "_aqUmC_00w2U"
      }
    },
    {
      "cell_type": "code",
      "source": [
        "# DO NOT CHANGE ANYTHING IN THIS CELL\n",
        "# Just run after you finish the function\n",
        "toko_ID = ['A001', 'B002', 'C003', 'D004']\n",
        "revenues = [80000, 120000, 57000, 450000]\n",
        "costs = [90000, 110000, 57000, 420000]\n",
        "\n",
        "toko_profit = profitable_toko(toko_ID, revenues, costs)\n",
        "print(toko_profit)"
      ],
      "metadata": {
        "colab": {
          "base_uri": "https://localhost:8080/"
        },
        "id": "5wOtfjJK0wRL",
        "outputId": "99e641ac-e894-40cb-8a73-98ed055e3c24"
      },
      "execution_count": null,
      "outputs": [
        {
          "output_type": "stream",
          "name": "stdout",
          "text": [
            "['B002', 'D004']\n"
          ]
        }
      ]
    },
    {
      "cell_type": "markdown",
      "source": [
        "# 4. Clean the Phone Number\n",
        "---"
      ],
      "metadata": {
        "id": "12xDDdzb1AN2"
      }
    },
    {
      "cell_type": "markdown",
      "source": [
        "You are on a marketing team that have to transfer e-money as a gift to your customer.\n",
        "\n",
        "You noticed that the phone number data is inconsistent & you have to clean it.\n",
        "\n",
        "This is the valid definition of phone number\n",
        "- Starts with `62`, e.g. `62xxxxxxxxxxx`\n",
        "- It must be 11 digit number, excluding `62`\n",
        "\n",
        "Clean the phone number first. If after cleaning, there is an invalid phone number, change the phone number with `'Invalid number'`."
      ],
      "metadata": {
        "id": "oc1RC7A01PaX"
      }
    },
    {
      "cell_type": "markdown",
      "source": [
        "---\n",
        "Input example-1:\n",
        "\n",
        "```python\n",
        "phone_lists = [\n",
        "    '82123321123',\n",
        "    '082321123321',\n",
        "    '+6282-456-654-456',\n",
        "    '+62 82 789 987 789',\n",
        "    '14045',\n",
        "    '82145-451-145',\n",
        "    '829102394821'\n",
        "]\n",
        "\n",
        "phone_clean = clean_phone_number(phone_lists)\n",
        "print(phone_clean)\n",
        "```\n",
        "\n",
        "Output example-1:\n",
        "```\n",
        "[6282123321123, 6282321123321, 6282456654456, 6282789987789, 'Invalid number', 6282145451145, 'Invalid number']\n",
        "```"
      ],
      "metadata": {
        "id": "g-Kog1BBGGic"
      }
    },
    {
      "cell_type": "markdown",
      "source": [
        "---\n",
        "Input example-2:\n",
        "\n",
        "```python\n",
        "phone_lists = [\n",
        "    '82432234432',\n",
        "    '+62 82 32',\n",
        "    '14032',\n",
        "    '082 234 432 234'\n",
        "]\n",
        "\n",
        "phone_clean = clean_phone_number(phone_lists)\n",
        "print(phone_clean)\n",
        "```\n",
        "\n",
        "Output example-2:\n",
        "```\n",
        "[6282432234432, 'Invalid number', 'Invalid number', 6282234432234]\n",
        "```"
      ],
      "metadata": {
        "id": "mQ3qZYoBGTiT"
      }
    },
    {
      "cell_type": "markdown",
      "source": [
        "---\n",
        "Write function"
      ],
      "metadata": {
        "id": "tU0rr-MaP3I3"
      }
    },
    {
      "cell_type": "code",
      "source": [
        "# DO NOT CHANGE THE NAME & INPUT OF THE FUNCTION\n",
        "def clean_phone_number(phone_list):\n",
        "    '''\n",
        "    Function to clean the phone number\n",
        "\n",
        "    Parameters\n",
        "    ----------\n",
        "    phone_list : list\n",
        "        The raw sample of phone data\n",
        "\n",
        "    Returns\n",
        "    -------\n",
        "    phone_clean : list\n",
        "        The clean sample of phone data\n",
        "    '''\n",
        "    ###\n",
        "    ### YOUR CODE HERE\n",
        "    ###\n",
        "    try:\n",
        "      #Handle Character\n",
        "      phone_number = lambda p_numb : p_numb.replace('-','').replace(' ','')\n",
        "      #Convert all data to string\n",
        "      phone_list_str = lambda list_phone : [str(phone_number(elemen)) for elemen in phone_list]\n",
        "      phone_list     = phone_list_str(phone_list)\n",
        "\n",
        "      prefix = '62'\n",
        "      for idx, item in enumerate(phone_list):\n",
        "        if (len(item) == 11 and item[0] != '0'):\n",
        "          phone_list[idx] = int(prefix+str(item))\n",
        "        elif (len(item) == 12 and item[0] == '0'):\n",
        "          phone_list[idx] = int(prefix+str(item[1:]))\n",
        "        elif item[0:3] == '+62' and len(item[3:]) == 11:\n",
        "          phone_list[idx] = int(str(item[1:]))\n",
        "        else:\n",
        "          phone_list[idx] = 'Invalid number'\n",
        "\n",
        "      return phone_list\n",
        "    except (Exception) as err:\n",
        "      return err"
      ],
      "metadata": {
        "id": "nWo8pCxb29oT"
      },
      "execution_count": null,
      "outputs": []
    },
    {
      "cell_type": "markdown",
      "source": [
        "Check function"
      ],
      "metadata": {
        "id": "vVzL-QZH439i"
      }
    },
    {
      "cell_type": "code",
      "source": [
        "# DO NOT CHANGE ANYTHING IN THIS CELL\n",
        "# Just run after you finish the function\n",
        "phone_list = [\n",
        "    '82123321123',\n",
        "    '082321123321',\n",
        "    '+6282-456-654-456',\n",
        "    '+62 82 789 987 789',\n",
        "    '14045',\n",
        "    '82145-451-145',\n",
        "    '829102394821'\n",
        "]\n",
        "\n",
        "phone_clean = clean_phone_number(phone_list)\n",
        "print(phone_clean)"
      ],
      "metadata": {
        "colab": {
          "base_uri": "https://localhost:8080/"
        },
        "id": "RlqzRVVi1CwZ",
        "outputId": "d8a363ed-2087-414b-b2b4-2ac4dd8373f1"
      },
      "execution_count": null,
      "outputs": [
        {
          "output_type": "stream",
          "name": "stdout",
          "text": [
            "[6282123321123, 6282321123321, 6282456654456, 6282789987789, 'Invalid number', 6282145451145, 'Invalid number']\n"
          ]
        }
      ]
    },
    {
      "cell_type": "markdown",
      "source": [
        "# 5. Find the Nearest Tourism Object\n",
        "---"
      ],
      "metadata": {
        "id": "9TLIqzWW59NH"
      }
    },
    {
      "cell_type": "markdown",
      "source": [
        "You are developing a web application that recommend good place to stay during holiday sessions.\n",
        "\n",
        "A feature loved by most of customer is **finding** the nearest tourism object from a position (could be their hotel).\n",
        "\n",
        "Given that each object/places has an location coordinates (x, y), you can calculate the distance of two objects by\n",
        "\n",
        "$$\n",
        "\\text{dist}(A, B)\n",
        "=\n",
        "\\sqrt{\n",
        "    (A_{x} - B_{x})^{2}\n",
        "    +\n",
        "    (A_{y} - B_{y})^{2}\n",
        "}\n",
        "$$"
      ],
      "metadata": {
        "id": "LV2KK3dH6mma"
      }
    },
    {
      "cell_type": "markdown",
      "source": [
        "Given a list of tourism object (`tourism_name`), tourism object coordinates (`tourism_coor`), and customer places coordinates (`current_coor`), return the nearest tourism object as a `dict` type."
      ],
      "metadata": {
        "id": "slwz-Yj_ARe9"
      }
    },
    {
      "cell_type": "markdown",
      "source": [
        "Example of calculating distance between two objects\n",
        "\n",
        "- Say we want to calculate the distance between `Taman C` and `Danau D`\n",
        "  - `Taman C` location coordinate: `[46.67, 40.44]`\n",
        "  - `Danau D` location coordinate: `[21.83, 1.94]`\n",
        "- So the distance is\n",
        "\n",
        "$$\n",
        "\\begin{align*}\n",
        "\\text{dist}(C, D)\n",
        "&=\n",
        "\\sqrt{\n",
        "    (C_{x} - D_{x})^{2} + (C_{y} - D_{y})^{2}\n",
        "} \\\\\n",
        "&=\n",
        "\\sqrt{\n",
        "    (46.67 - 21.83)^{2} + (40.44-1.94)^{2}\n",
        "} \\\\\n",
        "&=\n",
        "\\sqrt{\n",
        "    (24.84)^{2} + (38.50)^{2}\n",
        "} \\\\\n",
        "&=\n",
        "\\sqrt{\n",
        "    2099.28\n",
        "} \\\\\n",
        "\\text{dist}(C, D)\n",
        "&= 45.82\n",
        "\\end{align*}\n",
        "$$"
      ],
      "metadata": {
        "id": "fpzPnc0hdVOf"
      }
    },
    {
      "cell_type": "markdown",
      "source": [
        "---\n",
        "Input example-1:\n",
        "\n",
        "```python\n",
        "current_coor = [-2.21, 3.15]\n",
        "tourism_coor = [\n",
        "    [-34.93, -31.23],\n",
        "    [-77.90, 79.90],\n",
        "    [46.67, 40.44],\n",
        "    [21.83, 1.94],\n",
        "    [41.77, -63.44],\n",
        "    [-1.10, -47.22],\n",
        "    [68.81, 64.65],\n",
        "    [-21.23, 22.03],\n",
        "    [68.30, -69.73],\n",
        "    [12.82, 30.75],\n",
        "]\n",
        "tourism_name = [\n",
        "    'Pantai A',\n",
        "    'Jembatan B',\n",
        "    'Taman C',\n",
        "    'Danau D',\n",
        "    'Perpustakaan E',\n",
        "    'Mall F',\n",
        "    'Monumen G',\n",
        "    'Taman Hutan H',\n",
        "    'Air terjun I',\n",
        "    'Gunung J'\n",
        "]\n",
        "\n",
        "nearest_object = find_nearest(current_coor, tourism_coor, tourism_name)\n",
        "print(nearest_object)\n",
        "```\n",
        "\n",
        "Output example-1:\n",
        "```\n",
        "{'object': 'Danau D', 'dist': 24.07043206924213}\n",
        "```"
      ],
      "metadata": {
        "id": "9n3FrgyUHMxn"
      }
    },
    {
      "cell_type": "markdown",
      "source": [
        "---\n",
        "Input example-2:\n",
        "\n",
        "```python\n",
        "current_coor = [0, 0]\n",
        "tourism_coor = [\n",
        "    [0, 1],\n",
        "    [2, 0],\n",
        "    [0, 3],\n",
        "    [-1, -1],\n",
        "    [-2, -1],\n",
        "    [-1, -3]\n",
        "]\n",
        "tourism_name = [\n",
        "    'object a',\n",
        "    'object b',\n",
        "    'object c',\n",
        "    'object d',\n",
        "    'object e',\n",
        "    'object f'\n",
        "]\n",
        "\n",
        "nearest_object = find_nearest(current_coor, tourism_coor, tourism_name)\n",
        "print(nearest_object)\n",
        "```\n",
        "\n",
        "Output example-2:\n",
        "```\n",
        "{'object': 'object a', 'dist': 1.0}\n",
        "```"
      ],
      "metadata": {
        "id": "SU4xkxlSHgtd"
      }
    },
    {
      "cell_type": "markdown",
      "source": [
        "---\n",
        "Write function"
      ],
      "metadata": {
        "id": "paOw8dccP9ZD"
      }
    },
    {
      "cell_type": "code",
      "source": [
        "# DO NOT CHANGE THE NAME & INPUT OF THE FUNCTION\n",
        "# Function to find distance between 2 object\n",
        "def calc_dist(A, B):\n",
        "    '''\n",
        "    Function to calculate distance between two objects\n",
        "\n",
        "    Parameters\n",
        "    ----------\n",
        "    A : list\n",
        "        The coordinates of object A\n",
        "\n",
        "    B : list\n",
        "        The coordinates of object B\n",
        "\n",
        "    Returns\n",
        "    -------\n",
        "    dist : float\n",
        "        The distance between A & B\n",
        "    '''\n",
        "    ###\n",
        "    ### YOUR CODE HERE\n",
        "    ###\n",
        "    try:\n",
        "      # ASSUME COORDINATE ALWAYS 2 AXIS (X,Y)\n",
        "      distances = []\n",
        "      l_list = len(A)\n",
        "      nested = any(isinstance(row, list) for row in B)\n",
        "      if not nested:\n",
        "          distance = ((A[0]-(B[0]))**2 + (A[1]-B[1])**2)**(1/2)\n",
        "          distances.append(distance)\n",
        "          return distances\n",
        "\n",
        "      for dist in B:\n",
        "        if len(dist) == l_list:\n",
        "          distance = ((A[0]-(dist[0]))**2 + (A[1]-dist[1])**2)**(1/2)\n",
        "          distances.append(distance)\n",
        "      return distances\n",
        "\n",
        "    except Exception as err:\n",
        "      return err"
      ],
      "metadata": {
        "id": "ZBffCbsp6Afc"
      },
      "execution_count": 21,
      "outputs": []
    },
    {
      "cell_type": "code",
      "source": [
        "# DO NOT CHANGE THE NAME & INPUT OF THE FUNCTION\n",
        "def find_nearest(current_coor, tourism_coor, tourism_name):\n",
        "    '''\n",
        "    Function to find nearest tourism object near current coordinates\n",
        "\n",
        "    Parameters\n",
        "    ----------\n",
        "    current_coor : list\n",
        "        The guest current coordinate\n",
        "\n",
        "    tourism_coor : list\n",
        "        The tourism object coordinates\n",
        "\n",
        "    toursim_name : list\n",
        "        The tourism object name\n",
        "\n",
        "    Returns\n",
        "    -------\n",
        "    nearest_object : dict\n",
        "        The dictionary of nearest tourism object\n",
        "    '''\n",
        "    ###\n",
        "    ### YOUR CODE HERE\n",
        "    ###\n",
        "    try:\n",
        "      distance = calc_dist(current_coor, tourism_coor)\n",
        "      if distance:\n",
        "        dist  = distance[0]\n",
        "        index = 0\n",
        "        # Get the minimum distance\n",
        "        for idx in range(1,len(distance)):\n",
        "          if distance[idx] < dist:\n",
        "            dist = distance[idx]\n",
        "            index  = idx\n",
        "\n",
        "\n",
        "        # Convert distance and tourism name to dictioary\n",
        "        json_data = {\n",
        "            'object' : tourism_name[index],\n",
        "            'dist': dist\n",
        "        }\n",
        "        return json_data\n",
        "      return {'object' : None,'dist': 0.0}\n",
        "    except Exception as err:\n",
        "      return err"
      ],
      "metadata": {
        "id": "S-s3cwAvJQwL"
      },
      "execution_count": 22,
      "outputs": []
    },
    {
      "cell_type": "code",
      "source": [
        "# DO NOT CHANGE ANYTHING IN THIS CELL\n",
        "# Just run after you finish the function\n",
        "tourism_name = [\n",
        "    'Pantai A',\n",
        "    'Jembatan B',\n",
        "    'Taman C',\n",
        "    'Danau D',\n",
        "    'Perpustakaan E',\n",
        "    'Mall F',\n",
        "    'Monumen G',\n",
        "    'Taman Hutan H',\n",
        "    'Air terjun I',\n",
        "    'Gunung J'\n",
        "]\n",
        "\n",
        "tourism_coor = [\n",
        "    [-34.93, -31.23],\n",
        "    [-77.90, 79.90],\n",
        "    [46.67, 40.44],\n",
        "    [21.83, 1.94],\n",
        "    [41.77, -63.44],\n",
        "    [-1.10, -47.22],\n",
        "    [68.81, 64.65],\n",
        "    [-21.23, 22.03],\n",
        "    [68.30, -69.73],\n",
        "    [12.82, 30.75],\n",
        "]\n",
        "\n",
        "current_coor = [-2.21, 3.15]\n",
        "\n",
        "nearest_object = find_nearest(current_coor, tourism_coor, tourism_name)\n",
        "print(nearest_object)"
      ],
      "metadata": {
        "colab": {
          "base_uri": "https://localhost:8080/"
        },
        "id": "3UvCklbxhnhH",
        "outputId": "2604eba0-98b7-4b1f-b6de-ef64c68371c2"
      },
      "execution_count": 23,
      "outputs": [
        {
          "output_type": "stream",
          "name": "stdout",
          "text": [
            "{'object': 'Danau D', 'dist': 24.07043206924213}\n"
          ]
        }
      ]
    },
    {
      "cell_type": "markdown",
      "source": [
        "Check function"
      ],
      "metadata": {
        "id": "ER89qq4IWiv2"
      }
    },
    {
      "cell_type": "code",
      "source": [
        "# DO NOT CHANGE ANYTHING IN THIS CELL\n",
        "# Just run after you finish the function\n",
        "tourism_name = [\n",
        "    'Pantai A',\n",
        "    'Jembatan B',\n",
        "    'Taman C',\n",
        "    'Danau D',\n",
        "    'Perpustakaan E',\n",
        "    'Mall F',\n",
        "    'Monumen G',\n",
        "    'Taman Hutan H',\n",
        "    'Air terjun I',\n",
        "    'Gunung J'\n",
        "]\n",
        "\n",
        "tourism_coor = [\n",
        "    [-34.93, -31.23],\n",
        "    [-77.90, 79.90],\n",
        "    [46.67, 40.44],\n",
        "    [21.83, 1.94],\n",
        "    [41.77, -63.44],\n",
        "    [-1.10, -47.22],\n",
        "    [68.81, 64.65],\n",
        "    [-21.23, 22.03],\n",
        "    [68.30, -69.73],\n",
        "    [12.82, 30.75],\n",
        "]\n",
        "\n",
        "current_coor = [-2.21, 3.15]\n",
        "\n",
        "nearest_object = find_nearest(current_coor, tourism_coor, tourism_name)\n",
        "print(nearest_object)"
      ],
      "metadata": {
        "colab": {
          "base_uri": "https://localhost:8080/"
        },
        "id": "cEx24_VoWfsy",
        "outputId": "33078237-87ea-49b3-f561-488aadf8a0f2"
      },
      "execution_count": null,
      "outputs": [
        {
          "output_type": "stream",
          "name": "stdout",
          "text": [
            "{'object': 'Danau D', 'dist': 24.07043206924213}\n"
          ]
        }
      ]
    },
    {
      "cell_type": "markdown",
      "source": [
        "# 6. Find Size of People in Some Groups\n",
        "---"
      ],
      "metadata": {
        "id": "M5K-F970XVAn"
      }
    },
    {
      "cell_type": "markdown",
      "source": [
        "You are in a research team. Your product team asked you to help their research agenda, i.e. performing a Focus Group Discussion (FGD).\n",
        "\n",
        "The product team need to distribute the user equally to each group. Please help the product team."
      ],
      "metadata": {
        "id": "PAsUA1bzXq78"
      }
    },
    {
      "cell_type": "markdown",
      "source": [
        "Your tasked is to divide $n$ people as equal as possible to $k$ groups."
      ],
      "metadata": {
        "id": "BpBvDLYqYgWq"
      }
    },
    {
      "cell_type": "markdown",
      "source": [
        "---\n",
        "Input example-1:\n",
        "\n",
        "```python\n",
        "n = 14\n",
        "k = 3\n",
        "\n",
        "group_size = distribute_user(n, k)\n",
        "print(group_size)\n",
        "```\n",
        "\n",
        "Output example-1:\n",
        "```\n",
        "[5, 5, 4]\n",
        "```"
      ],
      "metadata": {
        "id": "iJOlodsZINpC"
      }
    },
    {
      "cell_type": "markdown",
      "source": [
        "---\n",
        "Input example-2:\n",
        "\n",
        "```python\n",
        "n = 40\n",
        "k = 7\n",
        "\n",
        "group_size = distribute_user(n, k)\n",
        "print(group_size)\n",
        "```\n",
        "\n",
        "Output example-2:\n",
        "```\n",
        "[6, 6, 6, 6, 6, 5, 5]\n",
        "```"
      ],
      "metadata": {
        "id": "pD7X1GDoId97"
      }
    },
    {
      "cell_type": "markdown",
      "source": [
        "---\n",
        "Input example-3:\n",
        "\n",
        "```python\n",
        "n = 20\n",
        "k = 2\n",
        "\n",
        "group_size = distribute_user(n, k)\n",
        "print(group_size)\n",
        "```\n",
        "\n",
        "Output example-3:\n",
        "```\n",
        "[10, 10]\n",
        "```"
      ],
      "metadata": {
        "id": "epGie_1WInpO"
      }
    },
    {
      "cell_type": "markdown",
      "source": [
        "---\n",
        "Write function"
      ],
      "metadata": {
        "id": "cKHeHPVrQTZx"
      }
    },
    {
      "cell_type": "code",
      "source": [
        "# DO NOT CHANGE THE NAME & INPUT OF THE FUNCTION\n",
        "def distribute_user(n, k):\n",
        "    '''\n",
        "    Function to distribute n user equally to k class\n",
        "\n",
        "    Parameters\n",
        "    ----------\n",
        "    n : int\n",
        "        The number of people to distribute\n",
        "\n",
        "    k : int\n",
        "        The number of group\n",
        "\n",
        "    Returns\n",
        "    -------\n",
        "    group_size : list\n",
        "        The list of group size (must be integer) and shape of (k)\n",
        "    '''\n",
        "    ###\n",
        "    ### YOUR CODE\n",
        "    ###\n",
        "    try:\n",
        "      # Validate data is list\n",
        "      if not isinstance(n, int) or not isinstance(k, int):\n",
        "        raise TypeError(f\"Whoops, data should be Integer\")\n",
        "\n",
        "      # Validate data is not empty\n",
        "      if not n or not k:\n",
        "          raise ValueError(f\"Whoops, data should not empty\")\n",
        "      data = [0]*k\n",
        "\n",
        "      idx = 0\n",
        "      group_idx = 0\n",
        "      while idx < n:\n",
        "\n",
        "        if group_idx >= k:\n",
        "          group_idx = 0\n",
        "\n",
        "        if group_idx < k :\n",
        "          data[group_idx] = data[group_idx] + 1\n",
        "          group_idx +=1\n",
        "\n",
        "        idx+=1\n",
        "      return data\n",
        "    except (TypeError,ValueError) as err:\n",
        "      return err"
      ],
      "metadata": {
        "id": "wHtoqo7DWtMw"
      },
      "execution_count": null,
      "outputs": []
    },
    {
      "cell_type": "markdown",
      "source": [
        "Check function"
      ],
      "metadata": {
        "id": "U2XflSGjZx4Q"
      }
    },
    {
      "cell_type": "code",
      "source": [
        "# DO NOT CHANGE ANYTHING IN THIS CELL\n",
        "# Just run after you finish the function\n",
        "n = 14\n",
        "k = 3\n",
        "\n",
        "group_size = distribute_user(n, k)\n",
        "print(group_size)"
      ],
      "metadata": {
        "colab": {
          "base_uri": "https://localhost:8080/"
        },
        "id": "nOO1IlWnZwuN",
        "outputId": "a765f796-2dc8-476d-86b2-84e11a96eb1c"
      },
      "execution_count": null,
      "outputs": [
        {
          "output_type": "stream",
          "name": "stdout",
          "text": [
            "[5, 5, 4]\n"
          ]
        }
      ]
    },
    {
      "cell_type": "markdown",
      "source": [
        "# 7. Summarize Data with OOP\n",
        "---"
      ],
      "metadata": {
        "id": "zSIPgPCNpTvP"
      }
    },
    {
      "cell_type": "markdown",
      "source": [
        "Write a Class that can summarize the given data\n",
        "\n",
        "- Named the class with `Data`\n",
        "- Initialize the object with no input\n",
        "- `Data` has several attributes:\n",
        "  - `data` --> return the input data\n",
        "  - `size` --> return the size of the input data\n",
        "- `Data` has several methods:\n",
        "  - `read_data(data)` --> to read the input data\n",
        "  - `find_total()` --> return the total sum of the input data\n",
        "  - `find_average()` --> return the average of the input data"
      ],
      "metadata": {
        "id": "ru2vSA8spXye"
      }
    },
    {
      "cell_type": "markdown",
      "source": [
        "---\n",
        "Input example-1:\n",
        "\n",
        "```python\n",
        "data = [0, 1, 2, 3, 4, 5, 6, 7, 8, 9]\n",
        "\n",
        "data_obj = Data()\n",
        "data_obj.read_data(data)\n",
        "print(data_obj.data)\n",
        "print(data_obj.size)\n",
        "print(data_obj.find_total())\n",
        "print(data_obj.find_average())\n",
        "```\n",
        "\n",
        "Output example-1:\n",
        "```\n",
        "[0, 1, 2, 3, 4, 5, 6, 7, 8, 9]\n",
        "10\n",
        "45\n",
        "4.5\n",
        "```"
      ],
      "metadata": {
        "id": "2Gq1ewKRI8bA"
      }
    },
    {
      "cell_type": "markdown",
      "source": [
        "---\n",
        "Input example-2:\n",
        "\n",
        "```python\n",
        "data = [-4, -3, -2, -1, 0, 1, 2, 3, 4, 5]\n",
        "\n",
        "data_obj = Data()\n",
        "data_obj.read_data(data)\n",
        "print(data_obj.data)\n",
        "print(data_obj.size)\n",
        "print(data_obj.find_total())\n",
        "print(data_obj.find_average())\n",
        "```\n",
        "\n",
        "Output example-2:\n",
        "```\n",
        "[-4, -3, -2, -1, 0, 1, 2, 3, 4, 5]\n",
        "10\n",
        "5\n",
        "0.5\n",
        "```"
      ],
      "metadata": {
        "id": "9kMZf0-kJLkI"
      }
    },
    {
      "cell_type": "markdown",
      "source": [
        "---\n",
        "Write class"
      ],
      "metadata": {
        "id": "QTKxxIc6QXsE"
      }
    },
    {
      "cell_type": "code",
      "source": [
        "# DO NOT CHANGE THE NAME & INPUT OF THE CLASS\n",
        "class Data:\n",
        "    ###\n",
        "    ### YOUR CODE\n",
        "    ###\n",
        "    def __init__(self):\n",
        "      self.data = []\n",
        "      self.Size = 0\n",
        "\n",
        "    def read_data(self,data):\n",
        "      try:\n",
        "        self.data = self.return_raw_data(data)\n",
        "        self.size = self.size(data)\n",
        "      except Exception as err:\n",
        "        return err\n",
        "\n",
        "\n",
        "    def return_raw_data(self,data):\n",
        "      try:\n",
        "        self.__validation()\n",
        "        return data\n",
        "      except Exception as err:\n",
        "        return err\n",
        "\n",
        "    def size(self,data):\n",
        "      try:\n",
        "        self.__validation()\n",
        "        return len(data)\n",
        "      except Exception as err:\n",
        "        return err\n",
        "\n",
        "\n",
        "    def find_total(self):\n",
        "      try:\n",
        "        self.__validation()\n",
        "        total = 0\n",
        "        for item in self.data:\n",
        "          total +=item\n",
        "        return total\n",
        "      except Exception as err:\n",
        "        return err\n",
        "\n",
        "\n",
        "    def find_average(self):\n",
        "      try:\n",
        "        self.__validation()\n",
        "        avg = self.find_total()/self.size\n",
        "        return avg\n",
        "      except Exception as err:\n",
        "        return err\n",
        "\n",
        "    def __validation(self):\n",
        "        # Validate data is list\n",
        "        if not isinstance(self.data, list):\n",
        "          raise TypeError(f\"Whoops, data should be List\")\n"
      ],
      "metadata": {
        "id": "AvGsXD5qqyO3"
      },
      "execution_count": null,
      "outputs": []
    },
    {
      "cell_type": "markdown",
      "source": [
        "Check function"
      ],
      "metadata": {
        "id": "OHWA4SunrI9_"
      }
    },
    {
      "cell_type": "code",
      "source": [
        "# DO NOT CHANGE ANYTHING IN THIS CELL\n",
        "# Just run after you finish the function\n",
        "data = [0, 1, 2, 3, 4, 5, 6, 7, 8, 9]\n",
        "\n",
        "try:\n",
        "    data_obj = Data()\n",
        "    data_obj.read_data(data)\n",
        "    print(data_obj.data)\n",
        "    print(data_obj.size)\n",
        "    print(data_obj.find_total())\n",
        "    print(data_obj.find_average())\n",
        "except Exception as e:\n",
        "    print('There is something wrong')"
      ],
      "metadata": {
        "colab": {
          "base_uri": "https://localhost:8080/"
        },
        "id": "QZC3Wbw2rNdL",
        "outputId": "082d67bb-fb75-4d8e-bd80-3b88c7f0afde"
      },
      "execution_count": null,
      "outputs": [
        {
          "output_type": "stream",
          "name": "stdout",
          "text": [
            "[0, 1, 2, 3, 4, 5, 6, 7, 8, 9]\n",
            "10\n",
            "45\n",
            "4.5\n"
          ]
        }
      ]
    },
    {
      "cell_type": "markdown",
      "source": [
        "# 8. User with Double Promo\n",
        "---"
      ],
      "metadata": {
        "id": "EAfzCwRWbEKo"
      }
    },
    {
      "cell_type": "markdown",
      "source": [
        "You are on a marketing team. Your team have 2 types of promo, `promo A` and `promo B`, that user can get **only one of them**.\n",
        "\n",
        "You suspect that there are some users have double promo. Given a `user_ID`, `promo_A_status`, and `promo_B_status`, create a function that return `user_ID` whose have double promo."
      ],
      "metadata": {
        "id": "-KEhH3TtbddB"
      }
    },
    {
      "cell_type": "markdown",
      "source": [
        "---\n",
        "Input example-1:\n",
        "\n",
        "```python\n",
        "user_ID = ['01', '02', '03', '04', '05', '06', '07']\n",
        "promo_A_status = [1, 0, 0, 1, 1, 0, 1]\n",
        "promo_B_status = [0, 0, 1, 1, 0, 1, 1]\n",
        "\n",
        "double_ID = find_double_promo(user_ID, promo_A_status, promo_B_status)\n",
        "print(double_ID)\n",
        "```\n",
        "\n",
        "Output example-1:\n",
        "```\n",
        "['04', '07']\n",
        "```"
      ],
      "metadata": {
        "id": "IYqvC-5QJuJH"
      }
    },
    {
      "cell_type": "markdown",
      "source": [
        "---\n",
        "Input example-2:\n",
        "\n",
        "```python\n",
        "user_ID = ['a', 'b', 'c', 'd', 'e']\n",
        "promo_A_status = [1, 1, 1, 1, 1]\n",
        "promo_B_status = [0, 1, 1, 1, 1]\n",
        "\n",
        "double_ID = find_double_promo(user_ID, promo_A_status, promo_B_status)\n",
        "print(double_ID)\n",
        "```\n",
        "\n",
        "Output example-2:\n",
        "```\n",
        "['b', 'c', 'd', 'e']\n",
        "```"
      ],
      "metadata": {
        "id": "G9Lpyf5pJ4nf"
      }
    },
    {
      "cell_type": "markdown",
      "source": [
        "---\n",
        "Input example-3:\n",
        "\n",
        "```python\n",
        "user_ID = ['a4a', '23b', 'f4c', '5d6']\n",
        "promo_A_status = [0, 0, 1, 0]\n",
        "promo_B_status = [0, 0, 1, 1]\n",
        "\n",
        "double_ID = find_double_promo(user_ID, promo_A_status, promo_B_status)\n",
        "print(double_ID)\n",
        "```\n",
        "\n",
        "Output example-3:\n",
        "```\n",
        "['f4c']\n",
        "```"
      ],
      "metadata": {
        "id": "j6iRo-fLKFhd"
      }
    },
    {
      "cell_type": "markdown",
      "source": [
        "---\n",
        "Write function"
      ],
      "metadata": {
        "id": "fG1Htj_SQdGo"
      }
    },
    {
      "cell_type": "code",
      "source": [
        "# DO NOT CHANGE THE NAME & INPUT OF THE FUNCTION\n",
        "def find_double_promo(user_ID, promo_A_status, promo_B_status):\n",
        "    '''\n",
        "    Find user ID that has double promo\n",
        "\n",
        "    Parameters\n",
        "    ----------\n",
        "    user_ID: list\n",
        "        List of user ID\n",
        "\n",
        "    promo_A_status: list\n",
        "        List of user ID that get promo A.\n",
        "        1 = get promo\n",
        "        0 = did not get promo\n",
        "\n",
        "    promo_B_status: list\n",
        "        List of user ID that get promo B.\n",
        "        1 = get promo\n",
        "        0 = did not get promo\n",
        "\n",
        "    Returns\n",
        "    -------\n",
        "    double_ID: list\n",
        "        List of user that get double promo.\n",
        "        If None, return []\n",
        "    '''\n",
        "    ###\n",
        "    ### YOUR CODE HERE\n",
        "    ###\n",
        "    try:\n",
        "      # Check if raw_data is a list\n",
        "      if not isinstance(user_ID, list) or not isinstance(promo_A_status, list) or not isinstance(promo_B_status, list):\n",
        "        raise TypeError('Mismatch input type, must be list')\n",
        "\n",
        "      # Check if all data is list\n",
        "        if not (len(promo_B_status) != len(user_ID) and len(user_ID)!=len(promo_A_status) and len(promo_A_status)!=len(promo_B_status)):\n",
        "          raise ValueError('Mismatch data columns lenght')\n",
        "\n",
        "      user_get_promo = []\n",
        "\n",
        "      for idx in range(len(user_ID)):\n",
        "        if promo_A_status[idx] == 1 and promo_B_status[idx] == 1:\n",
        "          user_get_promo.append(user_ID[idx])\n",
        "      return user_get_promo\n",
        "\n",
        "    except Exception as err:\n",
        "        return err"
      ],
      "metadata": {
        "id": "-inqZtScbLfk"
      },
      "execution_count": null,
      "outputs": []
    },
    {
      "cell_type": "markdown",
      "source": [
        "Check function"
      ],
      "metadata": {
        "id": "MIZIch6IcYLC"
      }
    },
    {
      "cell_type": "code",
      "source": [
        "# DO NOT CHANGE ANYTHING IN THIS CELL\n",
        "# Just run after you finish the function\n",
        "user_ID = ['01', '02', '03', '04', '05', '06', '07']\n",
        "promo_A_status = [1, 0, 0, 1, 1, 0, 1]\n",
        "promo_B_status = [0, 0, 1, 1, 0, 1, 1]\n",
        "\n",
        "double_ID = find_double_promo(user_ID, promo_A_status, promo_B_status)\n",
        "print(double_ID)"
      ],
      "metadata": {
        "colab": {
          "base_uri": "https://localhost:8080/"
        },
        "id": "tgwAXxZedj5p",
        "outputId": "6b397f4e-29b3-476b-ccf1-c3bd0aa0c412"
      },
      "execution_count": null,
      "outputs": [
        {
          "output_type": "stream",
          "name": "stdout",
          "text": [
            "['04', '07']\n"
          ]
        }
      ]
    },
    {
      "cell_type": "markdown",
      "source": [
        "# 9. Find Duplicate Person in a Research\n",
        "---"
      ],
      "metadata": {
        "id": "fI9XOK7heIDc"
      }
    },
    {
      "cell_type": "markdown",
      "source": [
        "The marketing team & sales want to make sure that there is no duplicate person in the data.\n",
        "\n",
        "Given a list of people ID & its name, find people ID & names that has similar names."
      ],
      "metadata": {
        "id": "G52VxxpveQzk"
      }
    },
    {
      "cell_type": "markdown",
      "source": [
        "---\n",
        "Input example-1:\n",
        "\n",
        "```python\n",
        "people_ID = ['01', '02', '03', '04', '05', '06', '07']\n",
        "people_name = [\n",
        "    'Budi santoso',\n",
        "    'Pramono Setiadi',\n",
        "    'Rijal',\n",
        "    'Dedi setiawan',\n",
        "    'rijal',\n",
        "    'Alesha Nur',\n",
        "    'Dedi Setiawan'\n",
        "]\n",
        "\n",
        "people_duplicate = find_duplicates(people_ID, people_name)\n",
        "print(people_duplicate)\n",
        "```\n",
        "\n",
        "Output example-1:\n",
        "```\n",
        "[['03', 'Rijal'], ['04', 'Dedi setiawan'], ['05', 'rijal'], ['07', 'Dedi Setiawan']]\n",
        "```"
      ],
      "metadata": {
        "id": "T2kqfUT2KrF4"
      }
    },
    {
      "cell_type": "markdown",
      "source": [
        "---\n",
        "Input example-2:\n",
        "\n",
        "```python\n",
        "people_ID = ['1e', 'd2', '3b', 'a4', 'q5']\n",
        "people_name = [\n",
        "    'aa cahya',\n",
        "    'AA cahYa',\n",
        "    'bb durian',\n",
        "    'cc maANGGa',\n",
        "    'AA CAHYA ',\n",
        "]\n",
        "\n",
        "people_duplicate = find_duplicates(people_ID, people_name)\n",
        "print(people_duplicate)\n",
        "```\n",
        "\n",
        "Output example-2:\n",
        "```\n",
        "[['1e', 'aa cahya'], ['d2', 'AA cahYa'], ['q5', 'AA CAHYA ']]\n",
        "```"
      ],
      "metadata": {
        "id": "vdmSOa8qKzzc"
      }
    },
    {
      "cell_type": "markdown",
      "source": [
        "---\n",
        "Write function"
      ],
      "metadata": {
        "id": "DJcZLrm5QjJX"
      }
    },
    {
      "cell_type": "code",
      "source": [
        "# DO NOT CHANGE THE NAME & INPUT OF THE FUNCTION\n",
        "def find_duplicates(people_ID, people_name):\n",
        "    '''\n",
        "    Function to find duplicate person\n",
        "\n",
        "    Parameters\n",
        "    ----------\n",
        "    people_ID : List\n",
        "        list of people ID\n",
        "\n",
        "    people_name : list\n",
        "        list of people name\n",
        "\n",
        "    Returns\n",
        "    -------\n",
        "    people_duplicate : list\n",
        "        List of duplicate people\n",
        "    '''\n",
        "    ###\n",
        "    ### YOUR CODE HERE\n",
        "    ###\n",
        "\n",
        "    ### ASSUME people ID is map with People Name based on same index\n",
        "    try:\n",
        "      # Validate data and weight is list\n",
        "      if not isinstance(people_ID, list) or not isinstance(people_name, list) :\n",
        "        raise TypeError(f\"Whoops, data type error. Should be list\")\n",
        "\n",
        "      # Validate data and w have same length\n",
        "      if not len(people_ID) == len(people_name):\n",
        "        raise ValueError(f\"Whoops, data and weight must be have same length\")\n",
        "\n",
        "        # Validate data is not eoty\n",
        "      if not people_ID  or not people_name:\n",
        "        raise ValueError(f\"Whoops, must not be empty\")\n",
        "\n",
        "      name_dict = {}\n",
        "      duplicates = []\n",
        "      added_ids = set()\n",
        "\n",
        "      for id, name in zip(people_ID, people_name):\n",
        "          normalized_name = name.strip().lower()\n",
        "\n",
        "          if normalized_name in name_dict:\n",
        "              if name_dict[normalized_name][0] not in added_ids:\n",
        "                  duplicates.append([name_dict[normalized_name][0], name_dict[normalized_name][1]])\n",
        "                  added_ids.add(name_dict[normalized_name][0])\n",
        "              if id not in added_ids:\n",
        "                  duplicates.append([id, name])\n",
        "                  added_ids.add(id)\n",
        "          else:\n",
        "              name_dict[normalized_name] = (id, name)\n",
        "\n",
        "      return duplicates\n",
        "\n",
        "    except (TypeError,ValueError) as err:\n",
        "      return err"
      ],
      "metadata": {
        "id": "V6NVW9RweOi6"
      },
      "execution_count": null,
      "outputs": []
    },
    {
      "cell_type": "markdown",
      "source": [
        "Check function"
      ],
      "metadata": {
        "id": "sIsOqO5Hhlfa"
      }
    },
    {
      "cell_type": "code",
      "source": [
        "# DO NOT CHANGE ANYTHING IN THIS CELL\n",
        "# Just run after you finish the function\n",
        "people_ID = ['01', '02', '03', '04', '05', '06', '07']\n",
        "people_name = [\n",
        "    'Budi santoso',\n",
        "    'Pramono Setiadi',\n",
        "    'Rijal',\n",
        "    'Dedi setiawan',\n",
        "    'rijal',\n",
        "    'Alesha Nur',\n",
        "    'Dedi Setiawan'\n",
        "]\n",
        "\n",
        "people_duplicate = find_duplicates(people_ID, people_name)\n",
        "print(people_duplicate)"
      ],
      "metadata": {
        "colab": {
          "base_uri": "https://localhost:8080/"
        },
        "id": "Hvf5_shihkQX",
        "outputId": "2ec248ab-224f-48c5-cb10-c670a9baa1ce"
      },
      "execution_count": null,
      "outputs": [
        {
          "output_type": "stream",
          "name": "stdout",
          "text": [
            "[['03', 'Rijal'], ['05', 'rijal'], ['04', 'Dedi setiawan'], ['07', 'Dedi Setiawan']]\n"
          ]
        }
      ]
    },
    {
      "cell_type": "markdown",
      "source": [
        "# 10. Time to Transport Logistic\n",
        "---"
      ],
      "metadata": {
        "id": "8nLTA3CZkOwn"
      }
    },
    {
      "cell_type": "markdown",
      "source": [
        "You are a data analyst in a transport logistic. You need to recommend the logistic driver a set of route so that they can deliver the goods efficiently.\n",
        "\n",
        "Simply, you can create a function to calculate time needed for the driver to follow several set of routes from an initial position and comeback again."
      ],
      "metadata": {
        "id": "LS3tNJ-wkf04"
      }
    },
    {
      "cell_type": "markdown",
      "source": [
        "We already have a look-up table that shows the duration needed for moving between two locations\n",
        "\n",
        "**Durations Table**\n",
        "\n",
        "<center>\n",
        "\n",
        "||A|B|C|D|E|\n",
        "|:-:|:-:|:-:|:-:|:-:|:-:|\n",
        "|A| 0 | 3 | 5 | 10 | 4 |\n",
        "|B| 3 | 0 | 6 | 8 | 9 |\n",
        "|C| 5 | 6 | 0 | 7 | 2 |\n",
        "|D| 10 | 8 | 7 | 0 | 1 |\n",
        "|E| 4 | 9 | 2 | 1 | 0 |"
      ],
      "metadata": {
        "id": "lpRhmdPMfp7z"
      }
    },
    {
      "cell_type": "markdown",
      "source": [
        "Say, you want to know the duration of city `B` to city `E`,\n",
        "\n",
        "**First**, `B` is the starting point, so go to row `B`\n",
        "\n",
        "||A|B|C|D|E|\n",
        "|:-:|:-:|:-:|:-:|:-:|:-:|\n",
        "|B| 3 | 0 | 6 | 8 | 9 |\n",
        "\n",
        "<br>\n",
        "\n",
        "**Then**, `E` is the destination, so from the selected row, go to column `E`\n",
        "\n",
        "||A|B|C|D|E|\n",
        "|:-:|:-:|:-:|:-:|:-:|:-:|\n",
        "|B|  |  |  |  | 9 |\n",
        "\n",
        "<br>\n",
        "\n",
        "**Finally**, the duration needed to go from `B` to `E` is 9"
      ],
      "metadata": {
        "id": "fP4JXfOqgQ9O"
      }
    },
    {
      "cell_type": "markdown",
      "source": [
        "To calculate it easily in Python, we turn the duration table into this list\n",
        "\n",
        "```python\n",
        "duration_table = [\n",
        "    [0, 3, 5, 10, 4],\n",
        "    [3, 0, 6, 8, 9],\n",
        "    [5, 6, 0, 7, 2],\n",
        "    [10, 8, 7, 0, 1],\n",
        "    [4, 9, 2, 1, 0]\n",
        "]\n",
        "```\n",
        "\n",
        "Say you want to measure duration from city `B` to `E`, then the duration would be `duration_table[1][4]` or `duration_table[4][1]`"
      ],
      "metadata": {
        "id": "PcqS5JDjlB57"
      }
    },
    {
      "cell_type": "code",
      "source": [
        "# Run this code\n",
        "# Don't change anything\n",
        "duration_table = [\n",
        "    [0, 3, 5, 10, 4],\n",
        "    [3, 0, 6, 8, 9],\n",
        "    [5, 6, 0, 7, 2],\n",
        "    [10, 8, 7, 0, 1],\n",
        "    [4, 9, 2, 1, 0]\n",
        "]\n",
        "\n",
        "duration_table[1][4], duration_table[4][1]"
      ],
      "metadata": {
        "colab": {
          "base_uri": "https://localhost:8080/"
        },
        "id": "VQaSlT_SmG-m",
        "outputId": "be39f053-6569-4a6d-fe61-28fb94e0eb59"
      },
      "execution_count": null,
      "outputs": [
        {
          "output_type": "execute_result",
          "data": {
            "text/plain": [
              "(9, 9)"
            ]
          },
          "metadata": {},
          "execution_count": 8
        }
      ]
    },
    {
      "cell_type": "markdown",
      "source": [
        "We usually calculate the duration needed from a set of route, e.g. `ABCDEBE`.\n",
        "\n",
        "The step to calculate the total duration needed to move according to the route (`ABCDEBE`) and get back to the original position (in this case is `A`)\n",
        "\n",
        "**First**, Extract all the pair of destination inside the route `ABCDEBE`\n",
        "\n",
        "|Route|Time|\n",
        "|:-:|:-:|\n",
        "|`A -> B`||\n",
        "|`B -> C`||\n",
        "|`C -> D`||\n",
        "|`D -> E`||\n",
        "|`E -> B`||\n",
        "|`B -> E`||\n",
        "|`E -> A`||\n",
        "\n",
        "<br>\n",
        "\n",
        "**Next**, obtain all the route duration from the destination table\n",
        "\n",
        "|Route|Time|\n",
        "|:-:|:-:|\n",
        "|`A -> B`|3|\n",
        "|`B -> C`|6|\n",
        "|`C -> D`|7|\n",
        "|`D -> E`|1|\n",
        "|`E -> B`|9|\n",
        "|`B -> E`|9|\n",
        "|`E -> A`|4|\n",
        "\n",
        "<br>\n",
        "\n",
        "**Finally**, add all the time\n",
        "\n",
        "$$\n",
        "\\begin{align*}\n",
        "\\text{total time} &= 3 + 6 + 7 + 1 + 9 + 9 + 4 \\\\\n",
        "\\text{total time} &= 39 \\\\\n",
        "\\end{align*}\n",
        "$$\n"
      ],
      "metadata": {
        "id": "FIbn_sYchcWg"
      }
    },
    {
      "cell_type": "markdown",
      "source": [
        "---\n",
        "Input example-1:\n",
        "\n",
        "```python\n",
        "duration_table = [\n",
        "    [0, 3, 5, 10, 4],\n",
        "    [3, 0, 6, 8, 9],\n",
        "    [5, 6, 0, 7, 2],\n",
        "    [10, 8, 7, 0, 1],\n",
        "    [4, 9, 2, 1, 0]\n",
        "]\n",
        "route = 'ABCDEBE'\n",
        "\n",
        "total_time = calculate_duration(route, duration_table)\n",
        "print(total_time)\n",
        "```\n",
        "\n",
        "Output example-1:\n",
        "```\n",
        "39\n",
        "```"
      ],
      "metadata": {
        "id": "PiF2rGR0LqM8"
      }
    },
    {
      "cell_type": "markdown",
      "source": [
        "---\n",
        "Input example-2:\n",
        "\n",
        "```python\n",
        "duration_table = [\n",
        "    [0, 1, 2, 3],\n",
        "    [1, 0, 4, 5],\n",
        "    [2, 4, 0, 6],\n",
        "    [3, 5, 6, 0]\n",
        "]\n",
        "route = 'ABCDCDBAB'\n",
        "\n",
        "total_time = calculate_duration(route, duration_table)\n",
        "print(total_time)\n",
        "```\n",
        "\n",
        "Output example-2:\n",
        "```\n",
        "31\n",
        "```"
      ],
      "metadata": {
        "id": "NKgnFF0IL1_3"
      }
    },
    {
      "cell_type": "markdown",
      "source": [
        "---\n",
        "Write function"
      ],
      "metadata": {
        "id": "aE-rouBnQvSQ"
      }
    },
    {
      "cell_type": "code",
      "source": [
        "# DO NOT CHANGE THE NAME & INPUT OF THE FUNCTION\n",
        "def calculate_duration(route, duration_table):\n",
        "    '''\n",
        "    Function to calculate travel duration from a given route and back to the origin\n",
        "\n",
        "    Parameters\n",
        "    ----------\n",
        "    route : str\n",
        "        The route\n",
        "\n",
        "    Returns\n",
        "    -------\n",
        "    total_time : int\n",
        "        The travel duration\n",
        "    '''\n",
        "    ###\n",
        "    ### YOUR CODE HERE\n",
        "    ###\n",
        "\n",
        "    try:\n",
        "      # Validate data is list\n",
        "      if not isinstance(duration_table, list):\n",
        "        raise TypeError(f\"Whoops, Matrix type error. Should be list\")\n",
        "\n",
        "      # Check if duration_table is a 2D list and not empty\n",
        "      if not duration_table or not all(isinstance(row, list) for row in duration_table):\n",
        "          raise TypeError('Mismatch input size. The data is not in 2D')\n",
        "\n",
        "      # Validate data is not empty\n",
        "      if not all(isinstance(duration_table, list) and row for row in duration_table):\n",
        "         raise ValueError(f\"Whoops, Matrix should have value\")\n",
        "\n",
        "      # Validate is row is has same column\n",
        "      ncols = len(duration_table[0])\n",
        "      if not all(len(row)==ncols for row in duration_table):\n",
        "         raise ValueError(f\"Whoops, Matrix should have same column\")\n",
        "\n",
        "\n",
        "      # Validate is row and column has same number (3x3)\n",
        "      ncols = len(duration_table[0])\n",
        "      if not ncols==len(duration_table):\n",
        "         raise ValueError(f\"Whoops, Matrix should rectangle\")\n",
        "\n",
        "\n",
        "      # Validate values is must be number no str\n",
        "      for row in duration_table:\n",
        "        if not all(isinstance(elemen,(int,float)) for elemen in row):\n",
        "            raise ValueError(f\"Whoops, Matrix should be numerical\")\n",
        "\n",
        "      # Validate data is list\n",
        "      if not route:\n",
        "        raise TypeError(f\"Whoops, Please insert route\")\n",
        "\n",
        "      idx = 97\n",
        "      aphabet_idx = idx + len(duration_table[0])\n",
        "      dict_data = {}\n",
        "      dict_idx  = {}\n",
        "      idx_item = 0\n",
        "      distance = 0\n",
        "      last_idx = len(route)-1\n",
        "\n",
        "      while idx < aphabet_idx:\n",
        "          dict_data[chr(idx).upper()] = duration_table[idx_item]\n",
        "          dict_idx[chr(idx).upper()]  = idx_item\n",
        "          idx +=1\n",
        "          idx_item +=1\n",
        "\n",
        "      for idx,item in enumerate(route):\n",
        "          from_step = dict_data[str(item)]\n",
        "          if idx != last_idx:\n",
        "              distance += from_step[dict_idx[route[idx+1]]]\n",
        "          else:\n",
        "              distance += from_step[dict_idx[route[0]]]\n",
        "      return distance\n",
        "    except (TypeError,ValueError) as err:\n",
        "      return err"
      ],
      "metadata": {
        "id": "uRA_xwz1kcQO"
      },
      "execution_count": null,
      "outputs": []
    },
    {
      "cell_type": "markdown",
      "source": [
        "Check function"
      ],
      "metadata": {
        "id": "FktMhd47ni_y"
      }
    },
    {
      "cell_type": "code",
      "source": [
        "# DO NOT CHANGE ANYTHING IN THIS CELL\n",
        "# Just run after you finish the function\n",
        "route = 'ABCDEBE'\n",
        "duration_table = [\n",
        "    [0, 3, 5, 10, 4],\n",
        "    [3, 0, 6, 8, 9],\n",
        "    [5, 6, 0, 7, 2],\n",
        "    [10, 8, 7, 0, 1],\n",
        "    [4, 9, 2, 1, 0]\n",
        "]\n",
        "\n",
        "\n",
        "total_time = calculate_duration(route, duration_table)\n",
        "print(total_time)"
      ],
      "metadata": {
        "colab": {
          "base_uri": "https://localhost:8080/"
        },
        "id": "tJX-kYnMnhkz",
        "outputId": "b4edacf0-ab40-4571-ee8a-42a20a57b2af"
      },
      "execution_count": null,
      "outputs": [
        {
          "output_type": "stream",
          "name": "stdout",
          "text": [
            "39\n"
          ]
        }
      ]
    }
  ]
}
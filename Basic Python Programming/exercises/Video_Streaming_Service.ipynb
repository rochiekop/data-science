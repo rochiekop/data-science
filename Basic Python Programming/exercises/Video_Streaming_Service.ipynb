{
  "nbformat": 4,
  "nbformat_minor": 0,
  "metadata": {
    "colab": {
      "provenance": [],
      "toc_visible": true
    },
    "kernelspec": {
      "name": "python3",
      "display_name": "Python 3"
    },
    "language_info": {
      "name": "python"
    }
  },
  "cells": [
    {
      "cell_type": "markdown",
      "source": [
        "# Case I : Video Streaming Services\n",
        "Pertemuan 13 - 14\n",
        "Python - Sekolah Data - Pacmann Academy"
      ],
      "metadata": {
        "id": "NMfzk8ZT1DUm"
      }
    },
    {
      "cell_type": "markdown",
      "source": [
        "## Table Plan"
      ],
      "metadata": {
        "id": "sec75LCp1Hyp"
      }
    },
    {
      "cell_type": "markdown",
      "source": [
        "| **Basic Plan**       | **Standard Plan**                                       | **Premium Plan**                                               | **Services**   |\n",
        "|----------------------|---------------------------------------------------------|----------------------------------------------------------------|----------------|\n",
        "| ✓                    | ✓                                                       | ✓                                                              | can_stream     |\n",
        "| ✓                    | ✓                                                       | ✓                                                              | can_download   |\n",
        "| ✓                    | ✓                                                       | ✓                                                              | has_SD         |\n",
        "|                      | ✓                                                       | ✓                                                              | has_HD         |\n",
        "|                      |                                                         | ✓                                                              | has_UHD        |\n",
        "| 1                    | 2                                                       | 4                                                              | num_of_devices |\n",
        "| 3rd party movie only | Basic Plan Content + Sports  (F1, Football, Basketball) | Basic Plan + Standard Plan +  PacFlix Original Series or Movie | content        |\n",
        "| Rp 120.000,-         | Rp 160.000,-                                            | Rp 200.000,-                                                   | price          |"
      ],
      "metadata": {
        "id": "6bpbsdNq1KFC"
      }
    },
    {
      "cell_type": "markdown",
      "source": [
        "## Features List yang dibutuhkan\n",
        "- [ ] `check_benefit()` --> tampilkan semua benefit\n",
        "- [ ] `check_plan(username)` --> tampilkan benefit yang didapatkan dan udah langganan berapa lama (done)\n",
        "- [ ] `upgrade_plan(username, current_plan, new_plan)` --> harga final, if langganan > 12 bulan akan dapet diskon 5%\n",
        "- [ ] `pick_plan(new_plan, code_referral)` --> untuk new user, harga final kalo pake kode referral dapet diskon 4%"
      ],
      "metadata": {
        "id": "IS2ATEcd1MgD"
      }
    },
    {
      "cell_type": "code",
      "source": [
        "# import library\n",
        "from tabulate import tabulate"
      ],
      "metadata": {
        "id": "PlbWXlsv1EQb"
      },
      "execution_count": null,
      "outputs": []
    },
    {
      "cell_type": "code",
      "source": [
        "class User:\n",
        "\n",
        "  DATA = {\n",
        "      \"Shandy\": [\"Basic Plan\", 12, \"shandy-2134\"],\n",
        "      \"Cahya\": [\"Standard Plan\", 24, \"cahya-abcd\"],\n",
        "      \"Ana\": [\"Premium Plan\", 5, \"ana-2f9g\"],\n",
        "      \"Bagus\": [\"Basic Plan\", 11, \"bagus-9f92\"]\n",
        "  }\n",
        "\n",
        "\n",
        "  def __init__(self, username:str):\n",
        "    self.username = username\n",
        "    # self.duration_plan = duration_plan\n",
        "    # self.current_plan = current_plan\n",
        "\n",
        "  def data_benefit(self):\n",
        "    # Define the data for the table\n",
        "    headers = [\"Basic Plan\", \"Standard Plan\", \"Premium Plan\", \"Services\"]\n",
        "    data = [\n",
        "        [\"True\", \"True\", \"True\", \"Bisa Stream\"],\n",
        "        [\"True\", \"True\", \"True\", \"Bisa Download\"],\n",
        "        [\"True\", \"True\", \"True\", \"Kualitas SD\"],\n",
        "        [\"False\", \"True\", \"True\", \"Kualitas HD\"],\n",
        "        [\"False\", \"False\", \"True\", \"Kualitas UHD\"],\n",
        "        [\"1\", \"2\", \"4\", \"Number of Devices\"],\n",
        "        [\"3rd party Movie only\", \"Basic Plan Content + Sports\", \"Basic Plan + Standard Plan + PacFlix Original Series\", \"Jenis Konten\"],\n",
        "        [\"120000\", \"160000\", \"200000\", \"Harga\"],\n",
        "    ]\n",
        "    return headers,data\n",
        "\n",
        "\n",
        "  def check_benefit(self)->None:\n",
        "    # Generate and print the table using tabulate\n",
        "    headers,data = self.data_benefit()\n",
        "    print(\"PacFlix Plan List\")\n",
        "    print(tabulate(data, headers, tablefmt=\"grid\"))\n",
        "\n",
        "\n",
        "  def check_plan(self,username:str)->None:\n",
        "    try:\n",
        "      plan,duration_plan = None,None\n",
        "\n",
        "      for key,val in self.DATA.items():\n",
        "        if username.title() == key.title():\n",
        "          plan = val[0]\n",
        "          duration_plan = val[1]\n",
        "\n",
        "          print(plan)\n",
        "          print(f\"{duration_plan} Bulan\")\n",
        "          print()\n",
        "\n",
        "      if plan:\n",
        "        # Get Indx from headers based on plan\n",
        "        headers,data = self.data_benefit()\n",
        "        l_headers = list(map(lambda val:val.lower(),headers))\n",
        "        idx = l_headers.index(plan.lower())\n",
        "        subscribe_header = [headers[idx],headers[-1]]\n",
        "        subscribe_data = []\n",
        "        for row in data:\n",
        "          subscribe_data.append([row[idx],row[-1]])\n",
        "\n",
        "        print(f\"{plan} PacFlix Benefit List\")\n",
        "        print(tabulate(subscribe_data, subscribe_header, tablefmt=\"grid\"))\n",
        "\n",
        "    except Exception as err:\n",
        "      print(err)\n",
        "\n",
        "\n",
        "  def upgrade_plan(self,username, current_plan, new_plan)->None:\n",
        "    try:\n",
        "      headers, data = self.data_benefit()\n",
        "      dict_plan_funcion = lambda plan : {val.lower():idx for idx, val in enumerate(headers[:-1])}\n",
        "      dict_plan = dict_plan_funcion(headers)\n",
        "\n",
        "      for key,val in self.DATA.items():\n",
        "        if username.title() == key.title() and val[0].lower() == current_plan.lower() and new_plan.lower() in dict_plan:\n",
        "          if dict_plan[current_plan.lower()] < dict_plan[new_plan.lower()] :\n",
        "            discount = 0\n",
        "            user_plan = self.DATA[key]\n",
        "            user_plan[0] = new_plan.title()\n",
        "            self.DATA[key] = user_plan\n",
        "\n",
        "            if user_plan[1] > 12:\n",
        "              discount = 0.05\n",
        "            idx = headers.index(current_plan.title())\n",
        "            current_plan_price = int(data[-1][idx])\n",
        "            invoice =  current_plan_price - (current_plan_price*discount)\n",
        "            if discount == 0:\n",
        "              print(f\"Your invoice to upgrade from {current_plan} to {new_plan} : Rp. {invoice}\")\n",
        "            else:\n",
        "              print(f\"Congratulation you have discount 5%\")\n",
        "              print(f\"Your invoice to upgrade from {current_plan} to {new_plan} : Rp. {invoice}\")\n",
        "          else:\n",
        "            print(f\"Whoops..Cant upgrade, Plan must be greater than current plan\")\n",
        "    except Exception as err:\n",
        "      print(err)\n",
        "\n",
        "  def __referal_code(self):\n",
        "    referal_code_data = []\n",
        "    for item in self.DATA.values():\n",
        "      referal_code_data.append(item)\n",
        "\n",
        "  def pick_plan(self,new_plan, code_referral=None):\n",
        "\n",
        "    discount = 0.04\n",
        "    headers, data = self.data_benefit()\n",
        "    dict_plan_funcion = lambda plan : {val.lower():idx for idx, val in enumerate(headers[:-1])}\n",
        "    dict_plan = dict_plan_funcion(headers)\n",
        "\n",
        "    if self.username not in self.DATA:\n",
        "      if code_referral:\n",
        "        if code_referral in self.__referal_code() and new_plan.lower() in  dict_plan:\n",
        "          invoice = data[-1][dict_plan[new_plan.lower()]] * (1-discount)\n",
        "          print(f\"Congratulation you have discount {discount*100}%\")\n",
        "          print(f\"Your invoice : Rp. {invoice}\")\n",
        "        elif not code_referral in self.__referal_code():\n",
        "          print(f\"Referall code not found\")\n",
        "        else:\n",
        "          print(f\"Plan not found\")\n",
        "      else:\n",
        "        if new_plan.lower() in  dict_plan:\n",
        "          invoice = data[-1][dict_plan[new_plan.lower()]]\n",
        "          print(f\"Your invoice : Rp. {invoice}\")\n",
        "        else:\n",
        "          print(f\"Plan not found\")\n",
        "    else:\n",
        "      if self.username.title() in self.DATA:\n",
        "        print(f\"You have already subscribe {self.DATA[self.username.title()][0]}\")"
      ],
      "metadata": {
        "id": "Ns-L_t9K1hVU"
      },
      "execution_count": 1,
      "outputs": []
    },
    {
      "cell_type": "markdown",
      "source": [
        "MAIN"
      ],
      "metadata": {
        "id": "mJxUntBe3xn-"
      }
    },
    {
      "cell_type": "code",
      "source": [
        "user_1 = User(\"Shandy\")\n",
        "# check attribute in Class\n",
        "user_1.username"
      ],
      "metadata": {
        "colab": {
          "base_uri": "https://localhost:8080/",
          "height": 35
        },
        "id": "669Y26-k3zOA",
        "outputId": "c22d67d9-3203-437c-db0d-0364a56c49f4"
      },
      "execution_count": null,
      "outputs": [
        {
          "output_type": "execute_result",
          "data": {
            "text/plain": [
              "'Shandy'"
            ],
            "application/vnd.google.colaboratory.intrinsic+json": {
              "type": "string"
            }
          },
          "metadata": {},
          "execution_count": 13
        }
      ]
    },
    {
      "cell_type": "code",
      "source": [
        "user_1.pick_plan(\"Basic Plan\",\"\")"
      ],
      "metadata": {
        "colab": {
          "base_uri": "https://localhost:8080/"
        },
        "id": "rOBtIW8LoWKG",
        "outputId": "fb367b2f-1961-4aa5-80a4-2b9017b0f962"
      },
      "execution_count": null,
      "outputs": [
        {
          "output_type": "stream",
          "name": "stdout",
          "text": [
            "You have already subscribe Basic Plan\n"
          ]
        }
      ]
    },
    {
      "cell_type": "markdown",
      "source": [
        "Test Case 1"
      ],
      "metadata": {
        "id": "y3uXDKK-38Wb"
      }
    },
    {
      "cell_type": "code",
      "source": [
        "user_1.check_benefit()"
      ],
      "metadata": {
        "colab": {
          "base_uri": "https://localhost:8080/"
        },
        "id": "zuoNzb5S364G",
        "outputId": "5381c941-5c5f-4ee1-f017-bd63de127a75"
      },
      "execution_count": null,
      "outputs": [
        {
          "output_type": "stream",
          "name": "stdout",
          "text": [
            "PacFlix Plan List\n",
            "+----------------------+-----------------------------+------------------------------------------------------+-------------------+\n",
            "| Basic Plan           | Standard Plan               | Premium Plan                                         | Services          |\n",
            "+======================+=============================+======================================================+===================+\n",
            "| True                 | True                        | True                                                 | Bisa Stream       |\n",
            "+----------------------+-----------------------------+------------------------------------------------------+-------------------+\n",
            "| True                 | True                        | True                                                 | Bisa Download     |\n",
            "+----------------------+-----------------------------+------------------------------------------------------+-------------------+\n",
            "| True                 | True                        | True                                                 | Kualitas SD       |\n",
            "+----------------------+-----------------------------+------------------------------------------------------+-------------------+\n",
            "| False                | True                        | True                                                 | Kualitas HD       |\n",
            "+----------------------+-----------------------------+------------------------------------------------------+-------------------+\n",
            "| False                | False                       | True                                                 | Kualitas UHD      |\n",
            "+----------------------+-----------------------------+------------------------------------------------------+-------------------+\n",
            "| 1                    | 2                           | 4                                                    | Number of Devices |\n",
            "+----------------------+-----------------------------+------------------------------------------------------+-------------------+\n",
            "| 3rd party Movie only | Basic Plan Content + Sports | Basic Plan + Standard Plan + PacFlix Original Series | Jenis Konten      |\n",
            "+----------------------+-----------------------------+------------------------------------------------------+-------------------+\n",
            "| 120000               | 160000                      | 200000                                               | Harga             |\n",
            "+----------------------+-----------------------------+------------------------------------------------------+-------------------+\n"
          ]
        }
      ]
    },
    {
      "cell_type": "code",
      "source": [
        "user_1.check_plan(user_1.username)"
      ],
      "metadata": {
        "colab": {
          "base_uri": "https://localhost:8080/"
        },
        "id": "2UJD7YWg4UXk",
        "outputId": "ed962891-256d-41dd-fe50-8101861c7659"
      },
      "execution_count": null,
      "outputs": [
        {
          "output_type": "stream",
          "name": "stdout",
          "text": [
            "Basic Plan\n",
            "13 Bulan\n",
            "\n",
            "Basic Plan PacFlix Benefit List\n",
            "+----------------------+-------------------+\n",
            "| Basic Plan           | Services          |\n",
            "+======================+===================+\n",
            "| True                 | Bisa Stream       |\n",
            "+----------------------+-------------------+\n",
            "| True                 | Bisa Download     |\n",
            "+----------------------+-------------------+\n",
            "| True                 | Kualitas SD       |\n",
            "+----------------------+-------------------+\n",
            "| False                | Kualitas HD       |\n",
            "+----------------------+-------------------+\n",
            "| False                | Kualitas UHD      |\n",
            "+----------------------+-------------------+\n",
            "| 1                    | Number of Devices |\n",
            "+----------------------+-------------------+\n",
            "| 3rd party Movie only | Jenis Konten      |\n",
            "+----------------------+-------------------+\n",
            "| 120000               | Harga             |\n",
            "+----------------------+-------------------+\n"
          ]
        }
      ]
    },
    {
      "cell_type": "code",
      "source": [
        "user_1.upgrade_plan(\"Shandy\",\"Basic Plan\",\"Standard Plan\")"
      ],
      "metadata": {
        "id": "u6BzXfFLAMdk",
        "colab": {
          "base_uri": "https://localhost:8080/"
        },
        "outputId": "5ea7dfe6-2d42-4a2a-a805-ca09f99ca30d"
      },
      "execution_count": null,
      "outputs": [
        {
          "output_type": "stream",
          "name": "stdout",
          "text": [
            "Your invoice to upgrade from Basic Plan to Standard Plan : Rp. 120000\n"
          ]
        }
      ]
    },
    {
      "cell_type": "code",
      "source": [
        "user_1.check_plan(user_1.username)"
      ],
      "metadata": {
        "colab": {
          "base_uri": "https://localhost:8080/"
        },
        "id": "zdfoLG-nL6Jy",
        "outputId": "af51345c-1467-4604-ebe6-2f6dce32469a"
      },
      "execution_count": null,
      "outputs": [
        {
          "output_type": "stream",
          "name": "stdout",
          "text": [
            "Standard Plan\n",
            "12 Bulan\n",
            "\n",
            "Standard Plan PacFlix Benefit List\n",
            "+-----------------------------+-------------------+\n",
            "| Standard Plan               | Services          |\n",
            "+=============================+===================+\n",
            "| True                        | Bisa Stream       |\n",
            "+-----------------------------+-------------------+\n",
            "| True                        | Bisa Download     |\n",
            "+-----------------------------+-------------------+\n",
            "| True                        | Kualitas SD       |\n",
            "+-----------------------------+-------------------+\n",
            "| True                        | Kualitas HD       |\n",
            "+-----------------------------+-------------------+\n",
            "| False                       | Kualitas UHD      |\n",
            "+-----------------------------+-------------------+\n",
            "| 2                           | Number of Devices |\n",
            "+-----------------------------+-------------------+\n",
            "| Basic Plan Content + Sports | Jenis Konten      |\n",
            "+-----------------------------+-------------------+\n",
            "| 160000                      | Harga             |\n",
            "+-----------------------------+-------------------+\n"
          ]
        }
      ]
    },
    {
      "cell_type": "markdown",
      "source": [
        "NEW USER"
      ],
      "metadata": {
        "id": "K16s62YVBHyX"
      }
    },
    {
      "cell_type": "code",
      "source": [
        "user_2 = User(\"DAN\")\n",
        "# check attribute in Class\n",
        "user_2.username"
      ],
      "metadata": {
        "colab": {
          "base_uri": "https://localhost:8080/",
          "height": 35
        },
        "id": "5Xs-b77zBIol",
        "outputId": "72d20767-3ffd-466d-ecf8-622ffdbc997c"
      },
      "execution_count": 2,
      "outputs": [
        {
          "output_type": "execute_result",
          "data": {
            "text/plain": [
              "'DAN'"
            ],
            "application/vnd.google.colaboratory.intrinsic+json": {
              "type": "string"
            }
          },
          "metadata": {},
          "execution_count": 2
        }
      ]
    },
    {
      "cell_type": "code",
      "source": [
        "user_2.pick_plan(\"sfsdf\")"
      ],
      "metadata": {
        "colab": {
          "base_uri": "https://localhost:8080/"
        },
        "id": "kpwJtkYnBLlL",
        "outputId": "11df10a1-b892-4e3d-d2e6-f017584a1d9a"
      },
      "execution_count": 3,
      "outputs": [
        {
          "output_type": "stream",
          "name": "stdout",
          "text": [
            "Plan not found\n"
          ]
        }
      ]
    }
  ]
}